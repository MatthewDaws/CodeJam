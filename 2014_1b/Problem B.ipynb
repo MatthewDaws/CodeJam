{
 "metadata": {
  "name": "",
  "signature": "sha256:509f85ed30cfc2cd33d3fcb92217c0a829cc2af67f7e6ad1d4d85bfb624ec98d"
 },
 "nbformat": 3,
 "nbformat_minor": 0,
 "worksheets": [
  {
   "cells": [
    {
     "cell_type": "code",
     "collapsed": false,
     "input": [
      "def combs(A, B, K):\n",
      "    count = 0\n",
      "    for x in range(A):\n",
      "        for y in range(B):\n",
      "            if (x & y) < K:\n",
      "                count += 1\n",
      "    return count\n",
      "\n",
      "def combs1(A, B, K):\n",
      "    return sum( (x & y) < K for x in range(A) for y in range(B) )\n",
      "\n",
      "def combs_fast(A, B, K):\n",
      "    if A == 0 or B == 0 or K == 0:\n",
      "        return 0\n",
      "    if B > A:\n",
      "        A, B = B, A\n",
      "    # So A >= B\n",
      "    # If B==1 then y=0 is only option so count options for x\n",
      "    if B == 1:\n",
      "        return A\n",
      "    one = combs_fast((A+1)//2, (B+1)//2, (K+1)//2)\n",
      "    two = combs_fast((A+1)//2, B//2, (K+1)//2)\n",
      "    the = combs_fast(A//2, (B+1)//2, (K+1)//2)\n",
      "    fou = combs_fast(A//2, B//2, K//2)\n",
      "    return one + two + the + fou\n",
      "\n",
      "from collections import namedtuple\n",
      "Entry = namedtuple(\"Entry\", [\"A\",\"B\",\"K\"])\n",
      "from collections import defaultdict\n",
      "\n",
      "def combs_dynamic(A, B, K):\n",
      "    if A == 0 or B == 0 or K == 0:\n",
      "        return 0\n",
      "    tofind = defaultdict(int)\n",
      "    tofind[Entry(A,B,K)] = 1\n",
      "    while True:\n",
      "        #print(tofind)\n",
      "        # Find entry with biggest B\n",
      "        allB = list(tofind)\n",
      "        allB.sort(key = lambda e : min(e.A,e.B))\n",
      "        entry = allB.pop()\n",
      "        if min(entry.A, entry.B) == 1:\n",
      "            break # At end now\n",
      "        count = tofind[entry]\n",
      "        del tofind[entry]\n",
      "        newentry = Entry((entry.A+1)//2, (entry.B+1)//2, (entry.K+1)//2)\n",
      "        tofind[newentry] += count\n",
      "        newentry = Entry((entry.A)//2, (entry.B+1)//2, (entry.K+1)//2)\n",
      "        tofind[newentry] += count\n",
      "        newentry = Entry((entry.A+1)//2, (entry.B)//2, (entry.K+1)//2)\n",
      "        tofind[newentry] += count\n",
      "        newentry = Entry((entry.A)//2, (entry.B)//2, (entry.K)//2)\n",
      "        tofind[newentry] += count\n",
      "    # Now need to sum and return\n",
      "    count = 0\n",
      "    for entry in tofind:\n",
      "        if entry.A == 0 or entry.B == 0 or entry.K == 0:\n",
      "            pass\n",
      "        else:\n",
      "            if entry.A == 1:\n",
      "                count += entry.B * tofind[entry]\n",
      "            elif entry.B == 1:\n",
      "                count += entry.A * tofind[entry]\n",
      "            else:\n",
      "                raise Exception(\"Odd: \"+str(entry))\n",
      "    return count"
     ],
     "language": "python",
     "metadata": {},
     "outputs": [],
     "prompt_number": 33
    },
    {
     "cell_type": "code",
     "collapsed": false,
     "input": [
      "combs(4,5,6), combs_fast(4,5,6), combs_dynamic(4,5,6)"
     ],
     "language": "python",
     "metadata": {},
     "outputs": [
      {
       "metadata": {},
       "output_type": "pyout",
       "prompt_number": 18,
       "text": [
        "(20, 20, 20)"
       ]
      }
     ],
     "prompt_number": 18
    },
    {
     "cell_type": "code",
     "collapsed": false,
     "input": [
      "import random\n",
      "for _ in range(10):\n",
      "    A, B, K = [random.randrange(1000) for _ in range(3)]\n",
      "    print(A,B,K, combs1(A,B,K), combs(A,B,K), combs_fast(A,B,K), combs_dynamic(A,B,K))"
     ],
     "language": "python",
     "metadata": {},
     "outputs": [
      {
       "output_type": "stream",
       "stream": "stdout",
       "text": [
        "466 224 989 104384 104384 104384 104384\n",
        "491"
       ]
      },
      {
       "output_type": "stream",
       "stream": "stdout",
       "text": [
        " 632 257 256610 256610 256610 256610\n",
        "494"
       ]
      },
      {
       "output_type": "stream",
       "stream": "stdout",
       "text": [
        " 939 856 463866 463866 463866 463866\n",
        "14 444 275 6216 6216 6216 6216\n",
        "135"
       ]
      },
      {
       "output_type": "stream",
       "stream": "stdout",
       "text": [
        " 804 35 70118 70118 70118 70118\n",
        "498"
       ]
      },
      {
       "output_type": "stream",
       "stream": "stdout",
       "text": [
        " 523 634 260454 260454 260454 260454\n",
        "146"
       ]
      },
      {
       "output_type": "stream",
       "stream": "stdout",
       "text": [
        " 927 846 135342 135342 135342 135342\n",
        "420"
       ]
      },
      {
       "output_type": "stream",
       "stream": "stdout",
       "text": [
        " 543 436 228060 228060 228060 228060\n",
        "989"
       ]
      },
      {
       "output_type": "stream",
       "stream": "stdout",
       "text": [
        " 174 532 172086 172086 172086 172086\n",
        "553"
       ]
      },
      {
       "output_type": "stream",
       "stream": "stdout",
       "text": [
        " 271 84 105095 105095 105095 105095\n"
       ]
      }
     ],
     "prompt_number": 34
    },
    {
     "cell_type": "code",
     "collapsed": false,
     "input": [
      "%timeit( combs(82911, 930, 924) )"
     ],
     "language": "python",
     "metadata": {},
     "outputs": [
      {
       "output_type": "stream",
       "stream": "stdout",
       "text": [
        "1 loops, best of 3: 14.7 s per loop\n"
       ]
      }
     ],
     "prompt_number": 28
    },
    {
     "cell_type": "code",
     "collapsed": false,
     "input": [
      "%timeit( combs1(82911, 930, 924) )"
     ],
     "language": "python",
     "metadata": {},
     "outputs": [
      {
       "output_type": "stream",
       "stream": "stdout",
       "text": [
        "1 loops, best of 3: 16.8 s per loop\n"
       ]
      }
     ],
     "prompt_number": 35
    },
    {
     "cell_type": "code",
     "collapsed": false,
     "input": [
      "%timeit( combs_fast(82911, 930, 924) )"
     ],
     "language": "python",
     "metadata": {},
     "outputs": [
      {
       "output_type": "stream",
       "stream": "stdout",
       "text": [
        "1 loops, best of 3: 857 ms per loop\n"
       ]
      }
     ],
     "prompt_number": 29
    },
    {
     "cell_type": "code",
     "collapsed": false,
     "input": [
      "%timeit( combs_dynamic(82911, 930, 924) )"
     ],
     "language": "python",
     "metadata": {},
     "outputs": [
      {
       "output_type": "stream",
       "stream": "stdout",
       "text": [
        "1000 loops, best of 3: 864 \u00b5s per loop\n"
       ]
      }
     ],
     "prompt_number": 30
    },
    {
     "cell_type": "code",
     "collapsed": false,
     "input": [],
     "language": "python",
     "metadata": {},
     "outputs": []
    }
   ],
   "metadata": {}
  }
 ]
}