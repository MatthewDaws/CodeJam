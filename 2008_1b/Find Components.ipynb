{
 "metadata": {
  "name": "",
  "signature": "sha256:b0bbf393fe4edf8a9828c42ff39508ca26765d213089338396a4e7d92945652b"
 },
 "nbformat": 3,
 "nbformat_minor": 0,
 "worksheets": [
  {
   "cells": [
    {
     "cell_type": "code",
     "collapsed": false,
     "input": [
      "edges = [ (0,1), (2,3), (1,4), (0,4) ]"
     ],
     "language": "python",
     "metadata": {},
     "outputs": [],
     "prompt_number": 1
    },
    {
     "cell_type": "code",
     "collapsed": false,
     "input": [
      "components = [0] * 10\n",
      "current_component = 1\n",
      "while True:\n",
      "    try:\n",
      "        index = next( index for index, com in enumerate(components) if com==0 )\n",
      "    except StopIteration:\n",
      "        break\n",
      "    # So index will be the base of the next component\n",
      "    print(\"At\",index)\n",
      "    tovisit = [index]\n",
      "    while len(tovisit) > 0:\n",
      "        node = tovisit.pop()\n",
      "        components[node] = current_component\n",
      "        for edge in edges:\n",
      "            if index == edge[0] and components[edge[1]] == 0:\n",
      "                tovisit.append(edge[1])\n",
      "            elif index == edge[1] and components[edge[0]] == 0:\n",
      "                tovisit.append(edge[0])\n",
      "    current_component += 1\n",
      "\n",
      "components"
     ],
     "language": "python",
     "metadata": {},
     "outputs": [
      {
       "output_type": "stream",
       "stream": "stdout",
       "text": [
        "At 0\n",
        "At 2\n",
        "At 5\n",
        "At 6\n",
        "At 7\n",
        "At 8\n",
        "At 9\n"
       ]
      },
      {
       "metadata": {},
       "output_type": "pyout",
       "prompt_number": 13,
       "text": [
        "[1, 1, 2, 2, 1, 3, 4, 5, 6, 7]"
       ]
      }
     ],
     "prompt_number": 13
    },
    {
     "cell_type": "code",
     "collapsed": false,
     "input": [
      "components"
     ],
     "language": "python",
     "metadata": {},
     "outputs": [
      {
       "metadata": {},
       "output_type": "pyout",
       "prompt_number": 10,
       "text": [
        "[1, 0, 0, 0, 1, 0]"
       ]
      }
     ],
     "prompt_number": 10
    },
    {
     "cell_type": "code",
     "collapsed": false,
     "input": [],
     "language": "python",
     "metadata": {},
     "outputs": []
    }
   ],
   "metadata": {}
  }
 ]
}