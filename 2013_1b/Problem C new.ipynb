{
 "metadata": {
  "name": "",
  "signature": "sha256:db960aea2c99116341f0d1c57ff10a692f23753c66367b8463849af1ab14e2a4"
 },
 "nbformat": 3,
 "nbformat_minor": 0,
 "worksheets": [
  {
   "cells": [
    {
     "cell_type": "code",
     "collapsed": false,
     "input": [
      "with open(\"garbled_email_dictionary.txt\") as f:\n",
      "    words = [line.rstrip() for line in f]\n",
      "if len(words) != 521196:\n",
      "    raise Exception(\"Didn't read correct number\")\n",
      "\n",
      "for i in range(len(words) - 2):\n",
      "    if not ( words[i] < words[i+1] ):\n",
      "        raise Exception(\"Not sorted!\")\n",
      "\n",
      "for word in words:\n",
      "    if len(word) > 10:\n",
      "        raise Exception(\"Assumed all words were at most 10 letters!\")\n",
      "\n",
      "wordsset = set(words)\n",
      "\n",
      "# Generate words with one error\n",
      "for word in words:\n",
      "    for e1 in range(len(word)):\n",
      "        wordsset.add( word[:e1] + \"_\" + word[e1+1:] )\n",
      "\n",
      "# Generate words with two errors\n",
      "for word in words:\n",
      "    for e1 in range(len(word)):\n",
      "        for e2 in range(e1+5, len(word)):\n",
      "            S = word[:e1] + \"_\" + word[e1+1:]\n",
      "            wordsset.add(S[:e2] + \"_\" + S[e2+1:])\n"
     ],
     "language": "python",
     "metadata": {},
     "outputs": [],
     "prompt_number": 8
    },
    {
     "cell_type": "code",
     "collapsed": false,
     "input": [
      "def add_errors_in(nextn, last_error_table, postfix_length, errors, n):\n",
      "    # postfix_length = length of word we can add from the dictionary\n",
      "    # errors = list of errors indexed into postfix\n",
      "    errortable = last_error_table[n - postfix_length]\n",
      "    for e in errortable:\n",
      "        if errortable[e] == -1:\n",
      "            continue\n",
      "        # See if we can use this error count\n",
      "        if len(errors) == 0 or min(errors) >= errortable[e]:\n",
      "            if len(errors) == 0:\n",
      "                this_last_error = max(0, errortable[e] - postfix_length)\n",
      "            else:\n",
      "                this_last_error = max(0, 5 - ( postfix_length - max(errors) ))\n",
      "            if e + len(errors) not in nextn:\n",
      "                nextn[e + len(errors)] = this_last_error\n",
      "            else:\n",
      "                nextn[e + len(errors)] = min(this_last_error, nextn[e + len(errors)])\n"
     ],
     "language": "python",
     "metadata": {},
     "outputs": [],
     "prompt_number": 15
    },
    {
     "cell_type": "code",
     "collapsed": false,
     "input": [
      "S = \"lettqtklnnlhlnttbnttnatlnqawlwqttntwulntnllwnwi\"  \n",
      "    \n",
      "last_error_table = dict()\n",
      "last_error_table[0] = { 0 : 0 }\n",
      "for n in range(1, len(S)+1):\n",
      "    # Try to find for n+1 given previous results\n",
      "    nextn = dict()\n",
      "    # Try with no further errors\n",
      "    for length in range(1, min(11, n + 1)):\n",
      "        postfix = S[n-length:n]\n",
      "        if postfix in wordsset:\n",
      "            add_errors_in(nextn, last_error_table, length, [], n)\n",
      "    # Try with one error\n",
      "    for length in range(1, min(11, n + 1)):\n",
      "        for e1 in range(0,length):\n",
      "            postfix = S[n-length:n]\n",
      "            postfix = postfix[:e1] + \"_\" + postfix[e1+1:]\n",
      "            if postfix in wordsset:\n",
      "                add_errors_in(nextn, last_error_table, length, [e1], n)\n",
      "    # Try with two errors\n",
      "    for length in range(1, min(11, n + 1)):\n",
      "        for e1 in range(0, length):\n",
      "            for e2 in range(e1 + 5, length):\n",
      "                postfix = S[n-length:n]\n",
      "                postfix = postfix[:e1] + \"_\" + postfix[e1+1:]\n",
      "                postfix = postfix[:e2] + \"_\" + postfix[e2+1:]\n",
      "                if postfix in wordsset:\n",
      "                    add_errors_in(nextn, last_error_table, length, [e1, e2], n)\n",
      "    # Add in -1 to show lengths we can't do\n",
      "    if len(nextn) == 0:\n",
      "        nextn[0] = -1\n",
      "    maxerror = max(nextn)\n",
      "    for e in range(0, maxerror+1):\n",
      "        if e not in nextn:\n",
      "            nextn[e] = -1\n",
      "    last_error_table[n] = nextn\n",
      "\n",
      "# Answer is then the least e so that last_error_table[len(S)][e] != -1\n",
      "errordict = last_error_table[len(S)]\n",
      "maxerror = max(errordict)\n",
      "output = \"PROBLEM\"\n",
      "for e in range(0, maxerror+1):\n",
      "    if errordict[e] != -1:\n",
      "        output = e\n",
      "        break\n",
      "\n",
      "output"
     ],
     "language": "python",
     "metadata": {},
     "outputs": [
      {
       "metadata": {},
       "output_type": "pyout",
       "prompt_number": 16,
       "text": [
        "5"
       ]
      }
     ],
     "prompt_number": 16
    },
    {
     "cell_type": "code",
     "collapsed": false,
     "input": [
      "errordict"
     ],
     "language": "python",
     "metadata": {},
     "outputs": [
      {
       "metadata": {},
       "output_type": "pyout",
       "prompt_number": 17,
       "text": [
        "{0: -1, 1: -1, 2: -1, 3: -1, 4: -1, 5: 0, 6: 0, 7: 0, 8: 0, 9: 0, 10: 4}"
       ]
      }
     ],
     "prompt_number": 17
    },
    {
     "cell_type": "code",
     "collapsed": false,
     "input": [],
     "language": "python",
     "metadata": {},
     "outputs": []
    }
   ],
   "metadata": {}
  }
 ]
}