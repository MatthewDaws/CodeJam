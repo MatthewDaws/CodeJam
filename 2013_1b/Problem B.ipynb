{
 "metadata": {
  "name": "",
  "signature": "sha256:7e0414dc4459a2bb11e0569bb3d8c41ef047cbc3023ceb944046cadcb738860f"
 },
 "nbformat": 3,
 "nbformat_minor": 0,
 "worksheets": [
  {
   "cells": [
    {
     "cell_type": "code",
     "collapsed": false,
     "input": [
      "def merge(choices):\n",
      "    output = dict()\n",
      "    for p in choices:\n",
      "        pair = (p[0],p[1])\n",
      "        prob = p[2]\n",
      "        if pair not in output:\n",
      "            output[pair] = 0.0\n",
      "        output[pair] += prob\n",
      "    return [ (p[0], p[1], output[p]) for p in output ]\n",
      "\n",
      "def calc_prob(layer, Y, delta):\n",
      "    # layer = 1 then interested in\n",
      "    # [0,0] -> [1,0] or [0,1] with 50% prob\n",
      "    # Then [a,b] ->    [a,b+1] if a = 2*layer\n",
      "    #            ->    [a+1,b] if b = 2*layer\n",
      "    #            ->  50% chance of [a+1,b] or [a,b+1] otherwise\n",
      "    # Have delta > 0 \"moves\" to make\n",
      "    # Want prob that a > Y at end\n",
      "    choices = [ (0,0,1.0) ]\n",
      "    for _ in range(delta):\n",
      "        new_choices = []\n",
      "        for pair in choices:\n",
      "            if pair[0] == layer + layer:\n",
      "                new_choices.append( (pair[0], pair[1]+1, pair[2]) )\n",
      "            elif pair[1] == layer + layer:\n",
      "                new_choices.append( (pair[0]+1, pair[1], pair[2]) )\n",
      "            else:\n",
      "                new_choices.append( (pair[0]+1, pair[1], pair[2]/2) )\n",
      "                new_choices.append( (pair[0], pair[1]+1, pair[2]/2) )\n",
      "        choices = new_choices\n",
      "    output = 0.0\n",
      "    print(merge(choices))\n",
      "    for choice in choices:\n",
      "        if choice[0] > Y:\n",
      "            output += choice[2]\n",
      "    return output"
     ],
     "language": "python",
     "metadata": {},
     "outputs": [],
     "prompt_number": 22
    },
    {
     "cell_type": "code",
     "collapsed": false,
     "input": [
      "import math\n",
      "def choices(N, k):\n",
      "    return math.factorial(N) / (math.factorial(k) * math.factorial(N-k))\n",
      "\n",
      "def calc_prob_better(n, k, delta):\n",
      "    if k >= delta:\n",
      "        return 0.0\n",
      "    output = sum( choices(delta, a) for a in range(k+1, delta+1) )\n",
      "    return output / 2**delta"
     ],
     "language": "python",
     "metadata": {},
     "outputs": [],
     "prompt_number": 25
    },
    {
     "cell_type": "code",
     "collapsed": false,
     "input": [
      "calc_prob(2, 1, 5), calc_prob_better(2, 1, 5)"
     ],
     "language": "python",
     "metadata": {},
     "outputs": [
      {
       "output_type": "stream",
       "stream": "stdout",
       "text": [
        "[(2, 3, 0.3125), (3, 2, 0.3125), (4, 1, 0.1875), (1, 4, 0.1875)]\n"
       ]
      },
      {
       "metadata": {},
       "output_type": "pyout",
       "prompt_number": 26,
       "text": [
        "(0.8125, 0.8125)"
       ]
      }
     ],
     "prompt_number": 26
    },
    {
     "cell_type": "code",
     "collapsed": false,
     "input": [],
     "language": "python",
     "metadata": {},
     "outputs": []
    }
   ],
   "metadata": {}
  }
 ]
}