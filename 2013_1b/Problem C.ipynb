{
 "metadata": {
  "name": "",
  "signature": "sha256:0f7755e8a7935eabd764f685d784284887f42b3659a0b1053185efe40732501c"
 },
 "nbformat": 3,
 "nbformat_minor": 0,
 "worksheets": [
  {
   "cells": [
    {
     "cell_type": "code",
     "collapsed": false,
     "input": [
      "with open(\"garbled_email_dictionary.txt\") as f:\n",
      "    words = [line.rstrip() for line in f]\n",
      "if len(words) != 521196:\n",
      "    raise Exception(\"Didn't read correct number\")\n",
      "\n",
      "for i in range(len(words) - 2):\n",
      "    if not ( words[i] < words[i+1] ):\n",
      "        raise Exception(\"Not sorted!\")\n",
      "\n",
      "wordsset = set(words)\n",
      "        \n",
      "print(\"Word length distribution:\")\n",
      "from collections import Counter\n",
      "Counter( len(word) for word in words )"
     ],
     "language": "python",
     "metadata": {},
     "outputs": [
      {
       "output_type": "stream",
       "stream": "stdout",
       "text": [
        "Word length distribution:\n"
       ]
      },
      {
       "metadata": {},
       "output_type": "pyout",
       "prompt_number": 149,
       "text": [
        "Counter({6: 211253, 5: 126906, 7: 83277, 8: 47700, 9: 31411, 10: 15505, 4: 3817, 3: 1040, 2: 285, 1: 2})"
       ]
      }
     ],
     "prompt_number": 149
    },
    {
     "cell_type": "markdown",
     "metadata": {},
     "source": [
      "So maximum length is 10, so at most 2 errors in each word!"
     ]
    },
    {
     "cell_type": "code",
     "collapsed": false,
     "input": [
      "def locate_in_words(prefix):\n",
      "    \"\"\"Return index of first words in `words` starting with prefix, or -1 if none\"\"\"\n",
      "    if words[0].startswith(prefix):\n",
      "        return 0\n",
      "    low = 0\n",
      "    high = len(words) - 1\n",
      "    if not ( words[low] < prefix and prefix <= words[high] ):\n",
      "        return -1\n",
      "    while high - low > 1:\n",
      "        mid = (high + low) // 2\n",
      "        if words[mid] < prefix:\n",
      "            low = mid\n",
      "        else:\n",
      "            high = mid\n",
      "    if low == len(words) - 1 or not words[low+1].startswith(prefix):\n",
      "        return -1\n",
      "    return low + 1\n",
      "\n",
      "# NOTE: Is faster to check membership of a set...\n",
      "def is_in_words(word):\n",
      "    #index = locate_in_words(word)\n",
      "    #if index == -1 or words[index] != word:\n",
      "    #    return False\n",
      "    #return True\n",
      "    return word in wordsset"
     ],
     "language": "python",
     "metadata": {},
     "outputs": [],
     "prompt_number": 150
    },
    {
     "cell_type": "code",
     "collapsed": false,
     "input": [
      "x = locate_in_words(\"de\")\n",
      "words[x-1:x+5]"
     ],
     "language": "python",
     "metadata": {},
     "outputs": [
      {
       "metadata": {},
       "output_type": "pyout",
       "prompt_number": 151,
       "text": [
        "['dczvit', 'de', 'dea', 'deaahat', 'deaai', 'deaanj']"
       ]
      }
     ],
     "prompt_number": 151
    },
    {
     "cell_type": "code",
     "collapsed": false,
     "input": [
      "alphabet = \"abcdefghijklmnopqrstuvwxyz\"\n",
      "\n",
      "def yield_matches0(S):\n",
      "    \"\"\"Returns words which match the front of S with 0 errors\"\"\"\n",
      "    for length in range(1, len(S)+1):\n",
      "        if is_in_words(S[:length]):\n",
      "            yield S[:length]\n",
      "\n",
      "def yield_lengths_matches0(S):\n",
      "    \"\"\"As above, but returns just the length of the match.\"\"\"\n",
      "    for length in range(1, len(S)+1):\n",
      "        if is_in_words(S[:length]):\n",
      "            yield length\n",
      "            \n",
      "def yield_matches1(S, last_error_index):\n",
      "    \"\"\"Returns words which match the front of S with exactly 1 error, where the previous\n",
      "    error was at `last_error_index` (-5 or less is equivalent to no checking, -4 means\n",
      "    the 1st characters must match, and so on.)\"\"\"\n",
      "    for error_at in range(max(0, 5 + last_error_index), len(S)):\n",
      "        for c in alphabet:\n",
      "            if c != S[error_at]:\n",
      "                T = S[:error_at] + c + S[error_at+1:]\n",
      "                for length in range(error_at+1, len(T)+1):\n",
      "                    if is_in_words(T[:length]):\n",
      "                        yield T[:length]\n",
      "                        \n",
      "def yield_lengths_matches1(S, last_error_index):\n",
      "    \"\"\"As above, but yields pairs (length, new_last_error_index).\"\"\"\n",
      "    for error_at in range(max(0, 5 + last_error_index), len(S)):\n",
      "        for c in alphabet:\n",
      "            if c != S[error_at]:\n",
      "                T = S[:error_at] + c + S[error_at+1:]\n",
      "                for length in range(error_at+1, len(T)+1):\n",
      "                    if is_in_words(T[:length]):\n",
      "                        yield length, error_at - length\n",
      "    \n",
      "def matches1_list(S, last_error_index):\n",
      "    # Equivalent to:\n",
      "    #return list(set(yield_lengths_matches1(S, last_error_index)))\n",
      "    # However, notice that for each (length, new_last_error_index) pair, for\n",
      "    # each fixed value of `length`, we only care about the smallest\n",
      "    # `new_last_error_index`.\n",
      "    ret = []\n",
      "    for length in range(min(10, len(S)), 0, -1):\n",
      "        for error_at in range(max(0,5 + last_error_index), length):\n",
      "            if word_exists(S[:length], error_at):\n",
      "                ret.append((length, error_at - length))\n",
      "                break\n",
      "    return ret\n",
      "\n",
      "def word_exists(S, error_at):\n",
      "    \"\"\"Does S, with index error_at an error, exist in words?\"\"\"\n",
      "    # Only 26 letters in alphabet, so this is probably quickest we can do with\n",
      "    # a large dictionary\n",
      "    for c in alphabet:\n",
      "        if c != S[error_at]:\n",
      "            T = S[:error_at] + c + S[error_at + 1:]\n",
      "            if is_in_words(T):\n",
      "                return True\n",
      "    return False"
     ],
     "language": "python",
     "metadata": {},
     "outputs": [],
     "prompt_number": 152
    },
    {
     "cell_type": "code",
     "collapsed": false,
     "input": [
      "def yield_matches2(S, last_error_index):\n",
      "    \"\"\"Returns words which match the front of S with exactly 2 errors, where the previous\n",
      "    error was at `last_error_index` (-5 or less is equivalent to no checking, -4 means\n",
      "    the 1st characters must match, and so on.)\"\"\"\n",
      "    for error_at in range(max(0, 5 + last_error_index), len(S) - 5):\n",
      "        for c in alphabet:\n",
      "            if c != S[error_at]:\n",
      "                T = S[:error_at] + c + S[error_at+1:]\n",
      "                index = locate_in_words(T[:error_at+5])\n",
      "                if index != -1:\n",
      "                    # So some hope\n",
      "                    for error_at2 in range(error_at+5, len(S)):\n",
      "                        for c2 in \"abcdefghijklmnopqrstuvwxyz\":\n",
      "                            if c2 != T[error_at2]:\n",
      "                                R = T[:error_at2] + c2 + T[error_at2+1:]\n",
      "                                for length in range(error_at2+1, len(R)+1):\n",
      "                                    if is_in_words(R[:length]):\n",
      "                                        yield R[:length]\n",
      "\n",
      "def yield_lengths_matches2(S, last_error_index):\n",
      "    \"\"\"As above, but yields pairs (length, new_last_error_index).\"\"\"\n",
      "    for error_at in range(max(0, 5 + last_error_index), len(S) - 5):\n",
      "        for c in alphabet:\n",
      "            if c != S[error_at]:\n",
      "                T = S[:error_at] + c + S[error_at+1:]\n",
      "                index = locate_in_words(T[:error_at+5])\n",
      "                if index != -1:\n",
      "                    # So some hope\n",
      "                    for error_at2 in range(error_at+5, len(S)):\n",
      "                        for c2 in \"abcdefghijklmnopqrstuvwxyz\":\n",
      "                            if c2 != T[error_at2]:\n",
      "                                R = T[:error_at2] + c2 + T[error_at2+1:]\n",
      "                                for length in range(error_at2+1, len(R)+1):\n",
      "                                    if is_in_words(R[:length]):\n",
      "                                        yield length, error_at2 - length\n",
      "                                        \n",
      "reversed_words = [\"\".join(reversed(word)) for word in words]\n",
      "reversed_words.sort()\n",
      "reversed_wordsset = set(reversed_words)\n",
      "def locate_in_reversed_words(prefix):\n",
      "    \"\"\"Return index of first words in `words` starting with prefix, or -1 if none\"\"\"\n",
      "    if reversed_words[0].startswith(prefix):\n",
      "        return 0\n",
      "    low = 0\n",
      "    high = len(reversed_words) - 1\n",
      "    if not ( reversed_words[low] < prefix and prefix <= reversed_words[high] ):\n",
      "        return -1\n",
      "    while high - low > 1:\n",
      "        mid = (high + low) // 2\n",
      "        if reversed_words[mid] < prefix:\n",
      "            low = mid\n",
      "        else:\n",
      "            high = mid\n",
      "    if low == len(reversed_words) - 1 or not reversed_words[low+1].startswith(prefix):\n",
      "        return -1\n",
      "    return low + 1\n",
      "\n",
      "def matches2_list_find(string, last_error_index):\n",
      "    #print(\"--->\", string, last_error_index)\n",
      "    length = len(string)\n",
      "    for error_at1 in range(length-4, -1, -1):\n",
      "        for c1 in alphabet:\n",
      "            if c1 != string[error_at1]:\n",
      "                S1 = string[:error_at1] + c1 + string[error_at1 + 1:]\n",
      "                #print(\"   Trying\", S1[:error_at1+5])\n",
      "                if locate_in_reversed_words(S1[:error_at1+5]) != -1:\n",
      "                    # error_at2 = length - 1 - k corresponds to index k in S\n",
      "                    # so need k >= 5 + last_error_index\n",
      "                    # so error_at2 <= length - 6 - last_error_index\n",
      "                    for error_at2 in range(error_at1 + 5, min(length, length - 5 - last_error_index)):\n",
      "                        for c2 in alphabet:\n",
      "                            if c2 != S1[error_at2]:\n",
      "                                if S1[:error_at2] + c2 + S1[error_at2 + 1:] in reversed_wordsset:\n",
      "                                    # error_at1 == 0 corresponds to -1\n",
      "                                    return -1 - error_at1\n",
      "    return 0\n",
      "\n",
      "def matches2_list(S, last_error_index):\n",
      "    # Equivalent to:\n",
      "    #return list(set(yield_lengths_matches2(S, last_error_index)))\n",
      "    # But with similar optimisations to above\n",
      "    ret = []\n",
      "    # In reversed, errors can be at 0 through len(S) - 1 - (5 + last_error_index)\n",
      "    #   = len(S) - 6 - last_error_index\n",
      "    for length in range(min(10,len(S)), max(0, 10 + last_error_index), -1):\n",
      "        string = S[:length]\n",
      "        string = \"\".join(reversed(string))\n",
      "        error = matches2_list_find(string, last_error_index)\n",
      "        if error < 0:\n",
      "            ret.append((length, error))\n",
      "    return ret"
     ],
     "language": "python",
     "metadata": {},
     "outputs": [],
     "prompt_number": 160
    },
    {
     "cell_type": "code",
     "collapsed": false,
     "input": [
      "print(list(yield_lengths_matches2(\"codejam\", -5)))\n",
      "matches2_list(\"codeja\", -5)"
     ],
     "language": "python",
     "metadata": {},
     "outputs": [
      {
       "output_type": "stream",
       "stream": "stdout",
       "text": [
        "[(6, -1), (6, -1)]\n"
       ]
      },
      {
       "metadata": {},
       "output_type": "pyout",
       "prompt_number": 154,
       "text": [
        "[(6, -1)]"
       ]
      }
     ],
     "prompt_number": 154
    },
    {
     "cell_type": "code",
     "collapsed": false,
     "input": [
      "locate_in_reversed_words(\"ijedo\")"
     ],
     "language": "python",
     "metadata": {},
     "outputs": [
      {
       "metadata": {},
       "output_type": "pyout",
       "prompt_number": 155,
       "text": [
        "250385"
       ]
      }
     ],
     "prompt_number": 155
    },
    {
     "cell_type": "code",
     "collapsed": false,
     "input": [
      "# \"aaclaphala\" is in the dictionary\n",
      "print(list( yield_matches2(\"caclaphdla\", -5) ))\n",
      "list( yield_lengths_matches2(\"caclaphdla\", -5) )"
     ],
     "language": "python",
     "metadata": {},
     "outputs": [
      {
       "output_type": "stream",
       "stream": "stdout",
       "text": [
        "['aaclad', 'aaclan', 'aaclaphala', 'daclai', 'haclab', 'naclat']\n"
       ]
      },
      {
       "metadata": {},
       "output_type": "pyout",
       "prompt_number": 156,
       "text": [
        "[(6, -1), (6, -1), (10, -3), (6, -1), (6, -1), (6, -1)]"
       ]
      }
     ],
     "prompt_number": 156
    },
    {
     "cell_type": "code",
     "collapsed": false,
     "input": [
      "list( yield_lengths_matches0(\"jam\") )"
     ],
     "language": "python",
     "metadata": {},
     "outputs": [
      {
       "metadata": {},
       "output_type": "pyout",
       "prompt_number": 157,
       "text": [
        "[2, 3]"
       ]
      }
     ],
     "prompt_number": 157
    },
    {
     "cell_type": "code",
     "collapsed": false,
     "input": [
      "from collections import namedtuple\n",
      "State = namedtuple(\"State\", [\"string\", \"last_error_index\", \"error_count\"])\n",
      "\n",
      "def match(S):\n",
      "    \"\"\"Depth first search with pruning.\"\"\"\n",
      "    best = (len(S)+4)//5\n",
      "    to_consider = [ State(S, -5, 0) ]\n",
      "    while len(to_consider) > 0:\n",
      "        state = to_consider.pop()\n",
      "        #print(state)\n",
      "        if len(state.string) == 0:\n",
      "            best = min(best, state.error_count)\n",
      "            if best == 0:\n",
      "                break\n",
      "            continue\n",
      "        if state.error_count > best:\n",
      "            continue\n",
      "            \n",
      "        if state.error_count + 2 < best:\n",
      "            news = matches2_list(state.string, state.last_error_index)            \n",
      "            for length, ei in news:\n",
      "                to_consider.append(State(state.string[length:], ei, state.error_count + 2))\n",
      "            \n",
      "        if state.error_count + 1 < best:\n",
      "            news = matches1_list(state.string, state.last_error_index)\n",
      "            for length, ei in news:\n",
      "                to_consider.append(State(state.string[length:], ei, state.error_count + 1))\n",
      "        \n",
      "        for length in yield_lengths_matches0(state.string):\n",
      "            to_consider.append(State(state.string[length:], state.last_error_index - length, state.error_count))\n",
      "            \n",
      "    return best"
     ],
     "language": "python",
     "metadata": {},
     "outputs": [],
     "prompt_number": 158
    },
    {
     "cell_type": "code",
     "collapsed": false,
     "input": [
      "match(\"codejam\")"
     ],
     "language": "python",
     "metadata": {},
     "outputs": [
      {
       "metadata": {},
       "output_type": "pyout",
       "prompt_number": 161,
       "text": [
        "0"
       ]
      }
     ],
     "prompt_number": 161
    },
    {
     "cell_type": "code",
     "collapsed": false,
     "input": [
      "match(\"cxdejax\")"
     ],
     "language": "python",
     "metadata": {},
     "outputs": [
      {
       "metadata": {},
       "output_type": "pyout",
       "prompt_number": 162,
       "text": [
        "2"
       ]
      }
     ],
     "prompt_number": 162
    },
    {
     "cell_type": "code",
     "collapsed": false,
     "input": [
      "match(\"cooperationaabea\")"
     ],
     "language": "python",
     "metadata": {},
     "outputs": [
      {
       "metadata": {},
       "output_type": "pyout",
       "prompt_number": 163,
       "text": [
        "1"
       ]
      }
     ],
     "prompt_number": 163
    },
    {
     "cell_type": "code",
     "collapsed": false,
     "input": [
      "match(\"jobsinproduction\")"
     ],
     "language": "python",
     "metadata": {},
     "outputs": [
      {
       "metadata": {},
       "output_type": "pyout",
       "prompt_number": 164,
       "text": [
        "1"
       ]
      }
     ],
     "prompt_number": 164
    },
    {
     "cell_type": "code",
     "collapsed": false,
     "input": [
      "match(\"bxuttazpaqjuumdaiigtibtjaoowblaiaistgitttdijulr\")"
     ],
     "language": "python",
     "metadata": {},
     "outputs": [
      {
       "metadata": {},
       "output_type": "pyout",
       "prompt_number": 165,
       "text": [
        "6"
       ]
      }
     ],
     "prompt_number": 165
    },
    {
     "cell_type": "code",
     "collapsed": false,
     "input": [
      "x = \"aabc\"\n",
      "x = \"\".join(reversed(\"aabc\"))\n",
      "x"
     ],
     "language": "python",
     "metadata": {},
     "outputs": [
      {
       "metadata": {},
       "output_type": "pyout",
       "prompt_number": 89,
       "text": [
        "'cbaa'"
       ]
      }
     ],
     "prompt_number": 89
    },
    {
     "cell_type": "code",
     "collapsed": false,
     "input": [],
     "language": "python",
     "metadata": {},
     "outputs": []
    }
   ],
   "metadata": {}
  }
 ]
}