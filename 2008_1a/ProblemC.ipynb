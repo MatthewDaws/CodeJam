{
 "metadata": {
  "name": "",
  "signature": "sha256:832d81d132c943809713df1212725dffa45635c7d64077aac9d55f69d3268422"
 },
 "nbformat": 3,
 "nbformat_minor": 0,
 "worksheets": [
  {
   "cells": [
    {
     "cell_type": "code",
     "collapsed": false,
     "input": [
      "import math\n",
      "\n",
      "class Sqrt5:\n",
      "    def __init__(self,a,b):\n",
      "        self.a, self.b = a, b\n",
      "    \n",
      "    def as_float(self):\n",
      "        return self.a + self.b * math.sqrt(5)\n",
      "    \n",
      "    def __add__(self, other):\n",
      "        return Sqrt5(self.a + other.a, self.b + other.b)\n",
      "    \n",
      "    def __mul__(self, other):\n",
      "        return Sqrt5(self.a * other.a + self.b * other.b * 5, self.a * other.b + self.b * other.a)\n",
      "    \n",
      "    def __pow__(self, n):\n",
      "        ret = Sqrt5(1,0)\n",
      "        power = Sqrt5(self.a, self.b)\n",
      "        n2 = 1\n",
      "        while n2 <= n:\n",
      "            if n & n2 > 0:\n",
      "                ret *= power\n",
      "            n2 += n2\n",
      "            power *= power\n",
      "        return ret\n",
      "    \n",
      "    def __str__(self):\n",
      "        return \"{} + {}*sqrt(5)\".format(self.a, self.b)\n",
      "    \n",
      "    def __repr__(self):\n",
      "        return \"Sqrt5({}, {})\".format(self.a, self.b)"
     ],
     "language": "python",
     "metadata": {},
     "outputs": [],
     "prompt_number": 25
    },
    {
     "cell_type": "code",
     "collapsed": false,
     "input": [
      "x = Sqrt5(3,1)\n",
      "for n in range(10):\n",
      "    y = x**n\n",
      "    print(y, y.as_float(), x.as_float()**n)"
     ],
     "language": "python",
     "metadata": {},
     "outputs": [
      {
       "output_type": "stream",
       "stream": "stdout",
       "text": [
        "1 + 0*sqrt(5) 1.0 1.0\n",
        "3 + 1*sqrt(5) 5.23606797749979 5.23606797749979\n",
        "14 + 6*sqrt(5) 27.41640786499874 27.41640786499874\n",
        "72 + 32*sqrt(5) 143.55417527999327 143.55417527999327\n",
        "376 + 168*sqrt(5) 751.6594202199647 751.6594202199648\n",
        "1968 + 880*sqrt(5) 3935.739820199815 3935.7398201998153\n",
        "10304 + 4608*sqrt(5) 20607.80124031903 20607.801240319033\n",
        "53952 + 24128*sqrt(5) 107903.84816111493 107903.84816111495\n",
        "282496 + 126336*sqrt(5) 564991.8840054134 564991.8840054135\n",
        "1479168 + 661504*sqrt(5) 2958335.911388021 2958335.9113880214\n"
       ]
      }
     ],
     "prompt_number": 28
    },
    {
     "cell_type": "code",
     "collapsed": false,
     "input": [
      "x = Sqrt5(3,1)\n",
      "y = x**10\n",
      "y.a, y.b * math.sqrt(5)"
     ],
     "language": "python",
     "metadata": {},
     "outputs": [
      {
       "metadata": {},
       "output_type": "pyout",
       "prompt_number": 42,
       "text": [
        "(7745024, 7745023.932306472)"
       ]
      }
     ],
     "prompt_number": 42
    },
    {
     "cell_type": "code",
     "collapsed": false,
     "input": [
      "\"{:03}\".format(1)"
     ],
     "language": "python",
     "metadata": {},
     "outputs": [
      {
       "metadata": {},
       "output_type": "pyout",
       "prompt_number": 43,
       "text": [
        "'001'"
       ]
      }
     ],
     "prompt_number": 43
    },
    {
     "cell_type": "code",
     "collapsed": false,
     "input": [],
     "language": "python",
     "metadata": {},
     "outputs": []
    }
   ],
   "metadata": {}
  }
 ]
}