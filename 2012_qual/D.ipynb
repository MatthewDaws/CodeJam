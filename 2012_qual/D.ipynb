{
 "metadata": {
  "name": "",
  "signature": "sha256:b2c6d458de153432abf065cbb48fe9040789cb03d7d22294805a470c47a35d08"
 },
 "nbformat": 3,
 "nbformat_minor": 0,
 "worksheets": [
  {
   "cells": [
    {
     "cell_type": "code",
     "collapsed": false,
     "input": [
      "class Fraction:\n",
      "    def __init__(self, num, dem):\n",
      "        \"\"\"Quick and dirty fraction class.\"\"\"\n",
      "        if dem < 0:\n",
      "            dem = -dem\n",
      "            num = -num\n",
      "        if isinstance(num, Fraction):\n",
      "            self.num, self.dem = num.num, num.dem\n",
      "            if isinstance(dem, Fraction):\n",
      "                self.dem *= dem.num\n",
      "                self.num *= dem.dem\n",
      "            else:\n",
      "                self.dem *= dem\n",
      "        else:\n",
      "            self.num = num\n",
      "            if isinstance(dem, Fraction):\n",
      "                self.dem = dem.num\n",
      "                self.num *= dem.dem\n",
      "            else:\n",
      "                self.dem = dem\n",
      "\n",
      "    def __repr__(self):\n",
      "        return \"Fraction({},{})\".format(self.num, self.dem)\n",
      "\n",
      "    def __hash__(self):\n",
      "        # NOTE: THIS IS WRONG!\n",
      "        return hash((self.num, self.dem))\n",
      "\n",
      "    def __eq__(self, other):\n",
      "        if isinstance(other, Fraction):\n",
      "            return self.num * other.dem == self.dem * other.num\n",
      "        return self.num == self.dem * other\n",
      "\n",
      "    def __add__(self, other):\n",
      "        if isinstance(other, Fraction):\n",
      "            return Fraction(self.num * other.dem + self.dem * other.num, self.dem * other.dem)\n",
      "        return Fraction(self.num + self.dem * other, self.dem)\n",
      "\n",
      "    def __radd__(self, other):\n",
      "        return Fraction(self.num + self.dem * other, self.dem)\n",
      "\n",
      "    def __sub__(self, other):\n",
      "        if isinstance(other, Fraction):\n",
      "            return Fraction(self.num * other.dem - self.dem * other.num, self.dem * other.dem)\n",
      "        return Fraction(self.num - self.dem * other, self.dem)\n",
      "\n",
      "    def __rsub__(self, other):\n",
      "        # Assume other is an int; want other - self\n",
      "        return Fraction(self.dem * other - self.num, self.dem)\n",
      "\n",
      "    def __mul__(self, other):\n",
      "        if isinstance(other, Fraction):\n",
      "            return Fraction(self.num * other.num, self.dem * other.dem)\n",
      "        return Fraction(self.num * other, self.dem)\n",
      "\n",
      "    def __rmul__(self, other):\n",
      "        return Fraction(self.num * other, self.dem)\n",
      "\n",
      "    def __lt__(self, other):\n",
      "        if isinstance(other, Fraction):\n",
      "            return self.num * other.dem < other.num * self.dem\n",
      "        return self.num < other * self.dem\n",
      "\n",
      "    def __le__(self, other):\n",
      "        if isinstance(other, Fraction):\n",
      "            return self.num * other.dem <= other.num * self.dem\n",
      "        return self.num <= other * self.dem\n",
      "\n",
      "    def __gt__(self, other):\n",
      "        if isinstance(other, Fraction):\n",
      "            return self.num * other.dem > other.num * self.dem\n",
      "        return self.num > other * self.dem\n",
      "\n",
      "    def __ge__(self, other):\n",
      "        if isinstance(other, Fraction):\n",
      "            return self.num * other.dem >= other.num * self.dem\n",
      "        return self.num >= other * self.dem\n",
      "\n",
      "    def __neg__(self):\n",
      "        return Fraction(-self.num, self.dem)\n",
      "    \n",
      "    def __float__(self):\n",
      "        return self.num / self.dem\n"
     ],
     "language": "python",
     "metadata": {},
     "outputs": [],
     "prompt_number": 78
    },
    {
     "cell_type": "code",
     "collapsed": false,
     "input": [
      "x = Fraction(2,-3)\n",
      "x"
     ],
     "language": "python",
     "metadata": {},
     "outputs": [
      {
       "metadata": {},
       "output_type": "pyout",
       "prompt_number": 79,
       "text": [
        "Fraction(-2,3)"
       ]
      }
     ],
     "prompt_number": 79
    },
    {
     "cell_type": "code",
     "collapsed": false,
     "input": [
      "Fraction(x,x)"
     ],
     "language": "python",
     "metadata": {},
     "outputs": [
      {
       "metadata": {},
       "output_type": "pyout",
       "prompt_number": 80,
       "text": [
        "Fraction(6,6)"
       ]
      }
     ],
     "prompt_number": 80
    },
    {
     "cell_type": "code",
     "collapsed": false,
     "input": [
      "float(x)"
     ],
     "language": "python",
     "metadata": {},
     "outputs": [
      {
       "metadata": {},
       "output_type": "pyout",
       "prompt_number": 81,
       "text": [
        "-0.6666666666666666"
       ]
      }
     ],
     "prompt_number": 81
    },
    {
     "cell_type": "heading",
     "level": 1,
     "metadata": {},
     "source": [
      "Solving the problem"
     ]
    },
    {
     "cell_type": "code",
     "collapsed": false,
     "input": [
      "from collections import namedtuple\n",
      "Point = namedtuple(\"Point\", [\"row\", \"col\"])\n",
      "Vector = namedtuple(\"Vector\", [\"x\", \"y\"])   \n",
      "#from fractions import Fraction\n",
      "import math\n",
      "\n",
      "class HallMirrors:\n",
      "    def __init__(self, maze):\n",
      "        self.num_rows = len(maze)\n",
      "        self.num_cols = len(maze[0])\n",
      "        self.maze = [ row[:] for row in maze ]\n",
      "        # Find the location \"X\"\n",
      "        for row in range(self.num_rows):\n",
      "            for col in range(self.num_cols):\n",
      "                if self.maze[row][col] == \"X\":\n",
      "                    #self.maze[row][col] = \".\"\n",
      "                    self.maze[row] = self.maze[row][:col] + \".\" + self.maze[row][col+1:]\n",
      "                    #self.position = Point(row + Fraction(1,2), col + Fraction(1,2))\n",
      "                    self.position = Point(row + 0.5, col + 0.5)\n",
      "        # Various setup\n",
      "        self.construct_lines()\n",
      "        self.find_concave_corners()\n",
      "        self.find_convex_corners()\n",
      "\n",
      "    def get(self, row, col):\n",
      "        # Coordinate system is that (row,col) is the top left corner of the square\n",
      "        if row < 0 or col < 0 or row >= self.num_rows or col >= self.num_cols:\n",
      "            return \"#\"\n",
      "        return self.maze[row][col]\n",
      "\n",
      "    def find_concave_corners(self):\n",
      "        self.corners = []\n",
      "        for row in range(self.num_rows):\n",
      "            for col in range(self.num_cols):\n",
      "                x = self.get(row,col)+self.get(row,col+1)+self.get(row+1,col)+self.get(row+1,col+1)\n",
      "                #   ##  ##  .#  #.\n",
      "                #   .#  #.  ##  ##\n",
      "                if x == \"##.#\" or x == \"###.\" or x == \".###\" or x == \"#.##\":\n",
      "                    self.corners.append( Point(row+1,col+1) )\n",
      "\n",
      "    def find_convex_corners(self):\n",
      "        self.ann_corners = []\n",
      "        for row in range(self.num_rows):\n",
      "            for col in range(self.num_cols):\n",
      "                x = self.get(row,col)+self.get(row,col+1)+self.get(row+1,col)+self.get(row+1,col+1)\n",
      "                #   #.  .#  ..  ..\n",
      "                #   ..  ..  #.  .#\n",
      "                if x == \"#...\" or x == \".#..\" or x == \"..#.\" or x == \"...#\":\n",
      "                    self.ann_corners.append( Point(row+1,col+1) )\n",
      "                    \n",
      "    def construct_lines(self):\n",
      "        \"\"\"Internal: Make a list of lines which are the mirrors.\"\"\"\n",
      "        # Make a list of line segments.  All go from top -> bottom or left -> right\n",
      "        # Third entry is normal vector (1,0), (-1,0), (0,1), (0,-1) used for coalesing below\n",
      "        horzs = []\n",
      "        verts = []\n",
      "        for row in range(self.num_rows):\n",
      "            for col in range(self.num_cols):\n",
      "                if self.get(row, col) == \"#\":\n",
      "                    if self.get(row, col - 1) == \".\":\n",
      "                        verts.append( (Point(row,col), Point(row + 1, col), (0,-1)) )\n",
      "                    if self.get(row, col + 1) == \".\":\n",
      "                        verts.append( (Point(row,col + 1), Point(row + 1, col + 1), (0,1)) )\n",
      "                    if self.get(row - 1, col) == \".\":\n",
      "                        horzs.append( (Point(row,col), Point(row, col + 1), (-1,0)) )\n",
      "                    if self.get(row + 1, col) == \".\":\n",
      "                        horzs.append( (Point(row + 1,col), Point(row + 1, col + 1), (1,0)) )\n",
      "        # Now join together horizontal or vertical\n",
      "        self.all_lines = []\n",
      "        for col in range(self.num_cols):\n",
      "            this_col = [ line for line in verts if line[0].col == col ]\n",
      "            this_col.sort(key = lambda line : line[0].row)\n",
      "            index = 0\n",
      "            while index < len(this_col) - 1:\n",
      "                if this_col[index][1].row == this_col[index+1][0].row and this_col[index][2] == this_col[index+1][2]:\n",
      "                    this_col[index] = (this_col[index][0], this_col[index+1][1], this_col[index][2])\n",
      "                    del this_col[index+1]\n",
      "                else:\n",
      "                    index += 1\n",
      "            self.all_lines.extend( (a,b) for (a,b,c) in this_col )\n",
      "        for row in range(self.num_rows):\n",
      "            this_row = [ line for line in horzs if line[0].row == row ]\n",
      "            this_row.sort(key = lambda line : line[0].col)\n",
      "            index = 0\n",
      "            while index < len(this_row) - 1:\n",
      "                if this_row[index][1].col == this_row[index+1][0].col and this_row[index][2] == this_row[index+1][2]:\n",
      "                    this_row[index] = (this_row[index][0], this_row[index+1][1], this_row[index][2])\n",
      "                    del this_row[index+1]\n",
      "                else:\n",
      "                    index += 1\n",
      "            self.all_lines.extend( (a,b) for (a,b,c) in this_row )\n",
      "        \n",
      "    def __repr__(self):\n",
      "        s = \"\\n\".join(self.maze)\n",
      "        s += \"\\nPlayer: {}\".format(self.position)\n",
      "        s += \"\\nConcave corners: {}\".format(self.corners)\n",
      "        s += \"\\nConvex corners: {}\".format(self.ann_corners)\n",
      "        s += \"\\nLines: {}\".format(self.all_lines)\n",
      "        return s"
     ],
     "language": "python",
     "metadata": {},
     "outputs": [],
     "prompt_number": 62
    },
    {
     "cell_type": "code",
     "collapsed": false,
     "input": [
      "hm = HallMirrors([\"######\",\"#..X.#\",\"#.#..#\",\"#...##\",\"######\"])\n",
      "hm"
     ],
     "language": "python",
     "metadata": {},
     "outputs": [
      {
       "metadata": {},
       "output_type": "pyout",
       "prompt_number": 63,
       "text": [
        "######\n",
        "#....#\n",
        "#.#..#\n",
        "#...##\n",
        "######\n",
        "Player: Point(row=1.5, col=3.5)\n",
        "Concave corners: [Point(row=1, col=1), Point(row=1, col=5), Point(row=3, col=5), Point(row=4, col=1), Point(row=4, col=4)]\n",
        "Convex corners: [Point(row=2, col=2), Point(row=2, col=3), Point(row=3, col=2), Point(row=3, col=3), Point(row=3, col=4)]\n",
        "Lines: [(Point(row=1, col=1), Point(row=4, col=1)), (Point(row=2, col=2), Point(row=3, col=2)), (Point(row=2, col=3), Point(row=3, col=3)), (Point(row=3, col=4), Point(row=4, col=4)), (Point(row=1, col=5), Point(row=3, col=5)), (Point(row=1, col=1), Point(row=1, col=5)), (Point(row=2, col=2), Point(row=2, col=3)), (Point(row=3, col=2), Point(row=3, col=3)), (Point(row=3, col=4), Point(row=3, col=5)), (Point(row=4, col=1), Point(row=4, col=4))]"
       ]
      }
     ],
     "prompt_number": 63
    },
    {
     "cell_type": "code",
     "collapsed": false,
     "input": [
      "hm = HallMirrors([\n",
      "\"#####\",\n",
      "\"#..##\",\n",
      "\"#.#.#\",\n",
      "\"#.X##\",\n",
      "\"#####\"\n",
      "])\n",
      "hm"
     ],
     "language": "python",
     "metadata": {},
     "outputs": [
      {
       "metadata": {},
       "output_type": "pyout",
       "prompt_number": 64,
       "text": [
        "#####\n",
        "#..##\n",
        "#.#.#\n",
        "#..##\n",
        "#####\n",
        "Player: Point(row=3.5, col=2.5)\n",
        "Concave corners: [Point(row=1, col=1), Point(row=1, col=3), Point(row=2, col=4), Point(row=3, col=4), Point(row=4, col=1), Point(row=4, col=3)]\n",
        "Convex corners: [Point(row=2, col=2), Point(row=3, col=2)]\n",
        "Lines: [(Point(row=1, col=1), Point(row=4, col=1)), (Point(row=2, col=2), Point(row=3, col=2)), (Point(row=1, col=3), Point(row=2, col=3)), (Point(row=2, col=3), Point(row=3, col=3)), (Point(row=3, col=3), Point(row=4, col=3)), (Point(row=2, col=4), Point(row=3, col=4)), (Point(row=1, col=1), Point(row=1, col=3)), (Point(row=2, col=2), Point(row=2, col=3)), (Point(row=2, col=3), Point(row=2, col=4)), (Point(row=3, col=2), Point(row=3, col=3)), (Point(row=3, col=3), Point(row=3, col=4)), (Point(row=4, col=1), Point(row=4, col=3))]"
       ]
      }
     ],
     "prompt_number": 64
    },
    {
     "cell_type": "code",
     "collapsed": false,
     "input": [
      "class Light:\n",
      "    def __init__(self, direction, hall_mirrors):\n",
      "        \"\"\"direction: Vector.\"\"\"\n",
      "        self.direction = direction\n",
      "        self.hm = hall_mirrors\n",
      "        self.position = hall_mirrors.position\n",
      "        self.distance_travelled = 0\n",
      "\n",
      "    @staticmethod\n",
      "    def distance(one, two):\n",
      "        return math.sqrt( float((one.row - two.row)*(one.row - two.row) + (one.col - two.col)*(one.col - two.col)) )\n",
      "        \n",
      "    def hit_point(self, p):\n",
      "        \"\"\"Returns distance to `p` or -1 if can't hit.\"\"\"\n",
      "        # Use least squares minimisation with floats\n",
      "        # self.position + t * self.direction closest to p\n",
      "        # x = self.position.row - p.row + self.direction.row * t\n",
      "        # y = self.position.col - p.col + self.direction.col * t\n",
      "        # min x*x+y*y over t\n",
      "        # = (a+b*t)*(a+b*t) + (c+d*t)*(c+d*t)\n",
      "        # = a*a+c*c + 2*a*b*t + 2*c*d*t + b*b*t*t + d*d*t*t\n",
      "        # = A*t*t + 2*B*t + C with A > 0\n",
      "        # Min at t = -B/A and value is C - B*B/A\n",
      "        a = float(self.position.row) - float(p.row)\n",
      "        b = float(self.direction.row)\n",
      "        c = float(self.position.col) - float(p.col)\n",
      "        d = float(self.direction.col)\n",
      "        A = b*b + d*d\n",
      "        B = a*b + c*d\n",
      "        C = a*a + c*c\n",
      "        if B < 0 and abs(C - B*B / A) < 1e-6:\n",
      "            return Light.distance(self.position, p)\n",
      "        return -1\n",
      "        \n",
      "    def find_corners(self):\n",
      "        \"\"\"Generates (position, distance) pairs of intersections with \"concave\" corners\n",
      "        which reflect back directly\"\"\"\n",
      "        for p in self.hm.corners:\n",
      "            d = self.hit_point(p)\n",
      "            if d != -1:\n",
      "                yield (p,d)\n",
      "\n",
      "    def find_ann_corners(self):\n",
      "        \"\"\"Generates (position, distance) pairs of intersections with \"concex\" corners\n",
      "        which absorb the light ray\"\"\"\n",
      "        for p in self.hm.ann_corners:\n",
      "            d = self.hit_point(p)\n",
      "            if d != -1:\n",
      "                yield (p,d)\n",
      "    \n",
      "    @staticmethod\n",
      "    def line_intersect(x,d,x0,x1):\n",
      "        \"\"\"x,d,x0,x1 vectors, solves x + t*d = s*x0 + (1-s)*x2 for scalars t,s.\n",
      "        Returns pair (True,(t, s)) or (False,(?,?))\"\"\"\n",
      "        # Matrix A=(a b \\\\ c d)\n",
      "        a = x0.row - x1.row\n",
      "        b = -d.row\n",
      "        c = x0.col - x1.col\n",
      "        d = -d.col\n",
      "        det = a * d - b * c\n",
      "        if abs(det) < 1e-6:\n",
      "            return (False, (0,0))\n",
      "        s, t = (x.row - x1.row), (x.col - x1.col)\n",
      "        s, t = d * s - b * t, -c * s + a * t\n",
      "        #return (True, (Fraction(t,det), Fraction(s,det)))\n",
      "        return True, (t / det, s / det)\n",
      "    \n",
      "    def find_next_intersection(self):\n",
      "        \"\"\"Generates intersection of ray with all lines.  Returns triple\n",
      "        (intersection_point, distance, new_direction) where `new_direction` is the reflected\n",
      "        direction vector.\"\"\"\n",
      "        for line in hm.all_lines:\n",
      "            hit, (t, s) = self.line_intersect(self.position, self.direction, line[0], line[1])\n",
      "            if hit and t > 1e-6 and 1e-6 < s and s < 1-1e-6:\n",
      "                print(\"Hit this line:\", line[0],\"--\",line[1],\"t={}, s={}\".format(t,s))\n",
      "                p = Point(self.position.row + t * self.direction.row, self.position.col + t * self.direction.col)\n",
      "                normal = Point(line[1].col - line[0].col, line[0].row - line[1].row)\n",
      "                normal_norm_sq = normal.row * normal.row + normal.col * normal.col\n",
      "                dotp = normal.row * self.direction.row + normal.col * self.direction.col\n",
      "                #refl = Point(Fraction(- 2 * dotp * normal.row, normal_norm_sq),\n",
      "                #             Fraction(- 2 * dotp * normal.col, normal_norm_sq) )\n",
      "                refl = Point( (- 2 * dotp * normal.row) / normal_norm_sq,\n",
      "                             (- 2 * dotp * normal.col) / normal_norm_sq )\n",
      "                refl = Point(self.direction.row + refl.row, self.direction.col + refl.col)\n",
      "                #print(normal, normal_norm_sq, dotp, refl)\n",
      "                yield (p, self.distance(self.position, p), refl)\n",
      "\n",
      "    def can_hit_start(self):\n",
      "        \"\"\"Returns distance to the starting point, or -1 if can't hit.\"\"\"\n",
      "        return self.hit_point(self.hm.position)\n",
      "        \n",
      "    def at_start(self, refl):\n",
      "        pass\n",
      "\n",
      "    def hit_concave_corner(self, refl):\n",
      "        self.direction = Point(-self.direction.row, -self.direction.col)\n",
      "        \n",
      "    def hit_ann(self, refl):\n",
      "        self.direction = Point(0,0)\n",
      "        \n",
      "    def hit_line(self, refl):\n",
      "        self.direction = refl\n",
      "    \n",
      "    def update(self):\n",
      "        \"\"\"Move position to next intersection point.\"\"\"\n",
      "        options = [ (p, d, None, self.hit_concave_corner) for (p,d) in self.find_corners() ]\n",
      "        options.extend( (p, d, None, self.hit_ann) for (p,d) in self.find_ann_corners() )\n",
      "        options.extend( (p, d, r, self.hit_line) for (p,d,r) in self.find_next_intersection() )\n",
      "        d = self.can_hit_start()\n",
      "        if d != -1:\n",
      "            options.append( (self.hm.position, d, None, self.at_start) )\n",
      "        p, d, r, action = min(options, key = lambda quad : quad[1])\n",
      "        action(r)\n",
      "        self.distance_travelled += self.distance(self.position, p)\n",
      "        self.position = p\n",
      "\n",
      "    def back_at_start(self):\n",
      "        return self.position == self.hm.position\n",
      "\n",
      "    def lost_ray(self):\n",
      "        return self.direction.row == 0 and self.direction.col == 0\n",
      "    \n",
      "    def does_get_home(self, max_distance):\n",
      "        \"\"\"Returns true if can get back to start in <= max_distance.\"\"\"\n",
      "        epsilon = 1e-7\n",
      "        while True:\n",
      "            self.update()\n",
      "            if self.distance_travelled >= epsilon + max_distance:\n",
      "                return False\n",
      "            if self.lost_ray():\n",
      "                return False\n",
      "            if self.back_at_start():\n",
      "                return True\n",
      "        return False"
     ],
     "language": "python",
     "metadata": {},
     "outputs": [],
     "prompt_number": 65
    },
    {
     "cell_type": "code",
     "collapsed": false,
     "input": [
      "light = Light(Point(1,-1), hm)\n",
      "list( light.find_corners() )"
     ],
     "language": "python",
     "metadata": {},
     "outputs": [
      {
       "metadata": {},
       "output_type": "pyout",
       "prompt_number": 4,
       "text": [
        "[(Point(row=4, col=1), 3.5355339059327378)]"
       ]
      }
     ],
     "prompt_number": 4
    },
    {
     "cell_type": "code",
     "collapsed": false,
     "input": [
      "list( light.find_ann_corners() )"
     ],
     "language": "python",
     "metadata": {},
     "outputs": [
      {
       "metadata": {},
       "output_type": "pyout",
       "prompt_number": 5,
       "text": [
        "[(Point(row=2, col=3), 0.7071067811865476),\n",
        " (Point(row=3, col=2), 2.1213203435596424)]"
       ]
      }
     ],
     "prompt_number": 5
    },
    {
     "cell_type": "code",
     "collapsed": false,
     "input": [
      "light = Light(Point(1,0), hm)\n",
      "print(light.position, light.direction)\n",
      "light.line_intersect(light.position, light.direction, Point(3,1), Point(3,3))"
     ],
     "language": "python",
     "metadata": {},
     "outputs": [
      {
       "output_type": "stream",
       "stream": "stdout",
       "text": [
        "Point(row=1.5, col=3.5) Point(row=1, col=0)\n"
       ]
      },
      {
       "metadata": {},
       "output_type": "pyout",
       "prompt_number": 6,
       "text": [
        "(True, (1.5, -0.25))"
       ]
      }
     ],
     "prompt_number": 6
    },
    {
     "cell_type": "code",
     "collapsed": false,
     "input": [
      "light = Light(Point(1,0), hm)\n",
      "list( light.find_next_intersection() )"
     ],
     "language": "python",
     "metadata": {},
     "outputs": [
      {
       "metadata": {},
       "output_type": "pyout",
       "prompt_number": 7,
       "text": [
        "[(Point(row=4.0, col=3.5), 2.5, Point(row=-1.0, col=0.0))]"
       ]
      }
     ],
     "prompt_number": 7
    },
    {
     "cell_type": "code",
     "collapsed": false,
     "input": [
      "light = Light(Point(1,0), hm)\n",
      "light.does_get_home(5)"
     ],
     "language": "python",
     "metadata": {},
     "outputs": [
      {
       "metadata": {},
       "output_type": "pyout",
       "prompt_number": 8,
       "text": [
        "True"
       ]
      }
     ],
     "prompt_number": 8
    },
    {
     "cell_type": "heading",
     "level": 1,
     "metadata": {},
     "source": [
      "Generate search directions"
     ]
    },
    {
     "cell_type": "markdown",
     "metadata": {},
     "source": [
      "Look at all directions (x,y) in the circle of radius D, i.e. `x*x+y*y <= D*D`.  Then filter out e.g. (1,0) and (2,0) as being the same."
     ]
    },
    {
     "cell_type": "code",
     "collapsed": false,
     "input": [
      "import fractions\n",
      "\n",
      "class Affine:\n",
      "    def __init__(self, p):\n",
      "        self.point = p\n",
      "        \n",
      "    def normalform(self):\n",
      "        \"\"\"(x,y) can always be mapped to (1,0), (-1,0), (x,1) or (x,-1) by scaling by a strictly positive scalar.\"\"\"\n",
      "        if self.point.col == 0:\n",
      "            if self.point.row > 0:\n",
      "                return Point(1,0)\n",
      "            return Point(-1,0)\n",
      "        if self.point.col > 0:\n",
      "            return Point(fractions.Fraction(self.point.row, self.point.col), 1)\n",
      "        return Point(fractions.Fraction(self.point.row, -self.point.col), -1)\n",
      "        \n",
      "    def __eq__(self, other):\n",
      "        snf = self.normalform()\n",
      "        onf = other.normalform()\n",
      "        return snf.col == onf.col and snf.row == onf.row\n",
      "        \n",
      "    def __hash__(self):\n",
      "        return hash(self.normalform())\n",
      "    \n",
      "    def __repr__(self):\n",
      "        return \"Affine({},{})\".format(self.point.row, self.point.col)\n",
      "\n",
      "def find_directions(D):\n",
      "    return set( Affine(Point(x,y)) for x in range(-D, D+1) for y in range(-D, D+1) if x * x + y * y <= D * D\n",
      "               and x * x + y * y > 0 )            "
     ],
     "language": "python",
     "metadata": {},
     "outputs": [],
     "prompt_number": 9
    },
    {
     "cell_type": "markdown",
     "metadata": {},
     "source": [
      "If the maze is:\n",
      "\n",
      "    ###\n",
      "    #X#\n",
      "    #.#\n",
      "    ###\n",
      "    \n",
      "Then the reflections make an infinite world looking like:\n",
      "\n",
      "    XXXXXXXXXXXXXXXXXXXXXXXXX\n",
      "    .........................\n",
      "    .........................\n",
      "    XXXXXXXXXXXXXXXXXXXXXXXXX\n",
      "    XXXXXXXXXXXXXXXXXXXXXXXXX\n",
      "    .........................\n",
      "    .........................\n",
      "    XXXXXXXXXXXXXXXXXXXXXXXXX\n",
      "    XXXXXXXXXXXXXXXXXXXXXXXXX\n",
      "    and so on"
     ]
    },
    {
     "cell_type": "code",
     "collapsed": false,
     "input": [
      "hm = HallMirrors([\"###\",\"#X#\",\"#.#\",\"###\"])\n",
      "hm"
     ],
     "language": "python",
     "metadata": {},
     "outputs": [
      {
       "metadata": {},
       "output_type": "pyout",
       "prompt_number": 23,
       "text": [
        "###\n",
        "#.#\n",
        "#.#\n",
        "###\n",
        "Player: Point(row=1.5, col=1.5)\n",
        "Concave corners: [Point(row=1, col=1), Point(row=1, col=2), Point(row=3, col=1), Point(row=3, col=2)]\n",
        "Convex corners: []\n",
        "Lines: [(Point(row=1, col=1), Point(row=3, col=1)), (Point(row=1, col=2), Point(row=3, col=2)), (Point(row=1, col=1), Point(row=1, col=2)), (Point(row=3, col=1), Point(row=3, col=2))]"
       ]
      }
     ],
     "prompt_number": 23
    },
    {
     "cell_type": "code",
     "collapsed": false,
     "input": [
      "D = 8\n",
      "count = 0\n",
      "for direction in find_directions(D):\n",
      "    light = Light(direction.point, hm)\n",
      "    if light.does_get_home(D):\n",
      "        print(direction, end=\", \")\n",
      "        count += 1\n",
      "print(\"\\nTotal count:\", count)"
     ],
     "language": "python",
     "metadata": {},
     "outputs": [
      {
       "output_type": "stream",
       "stream": "stdout",
       "text": [
        "Affine(-8,0), Affine(-5,1), Affine(-1,5), Affine(4,5), Affine(1,1), Affine(3,2), Affine(-2,6), Affine(2,3), Affine(1,2), Affine(-3,6), Affine(-1,4), Affine(0,1), Affine(3,4), Affine(-4,6), Affine(3,1), Affine(7,2), Affine(-4,1), Affine(-5,6), Affine(-4,3), Affine(-1,7), Affine(-5,4), Affine(-5,3), Affine(2,1), Affine(7,-1), Affine(-4,5), Affine(7,3), Affine(4,-1), Affine(-1,-6), Affine(4,-3), Affine(-6,3), Affine(-5,2), Affine(-5,5), Affine(-6,-3), Affine(-5,-5), Affine(-5,-2), Affine(-1,6), Affine(4,1), Affine(4,3), Affine(7,-3), Affine(-4,-5), Affine(7,1), Affine(2,-1), Affine(-5,-3), Affine(-5,-4), Affine(1,0), Affine(-1,-7), Affine(-5,-6), Affine(-4,-3), Affine(-4,-1), Affine(3,-1), Affine(7,-2), Affine(-4,-6), Affine(1,-2), Affine(-3,-6), Affine(-1,-4), Affine(0,-8), Affine(3,-4)"
       ]
      },
      {
       "output_type": "stream",
       "stream": "stdout",
       "text": [
        ", Affine(-2,-6), Affine(2,-3), Affine(1,-1), Affine(3,-2), Affine(-1,-5), Affine(4,-5), Affine(-5,-1), Affine(3,-7), Affine(3,5), Affine(3,-5), Affine(3,7), \n",
        "Total count: 68\n"
       ]
      }
     ],
     "prompt_number": 24
    },
    {
     "cell_type": "code",
     "collapsed": false,
     "input": [
      "hm = HallMirrors([\"#####################\",\n",
      "\"###..#.#..##..####..#\",\n",
      "\"##.#.###.##.###.#.#.#\",\n",
      "\"#.##..##.###.###.####\",\n",
      "\"##.#.##..####.#.#.###\",\n",
      "\"######.###..#.##.##.#\",\n",
      "\"###.##########...####\",\n",
      "\"###..#.###..#..##X###\",\n",
      "\"#.####.#..###########\",\n",
      "\"#..##..######.####..#\",\n",
      "\"##....####.###..##.##\",\n",
      "\"######.#.#####.###.##\",\n",
      "\"#.#.#.#.##.##########\",\n",
      "\"###.##..###.#######.#\",\n",
      "\"#..#####.######.#.#.#\",\n",
      "\"#####.##.#####..#####\",\n",
      "\"###...#...###.###..##\",\n",
      "\"#.#.#######.###.#####\",\n",
      "\"##..#.#.#####..##..##\",\n",
      "\"#####################\"])\n",
      "D = 44\n",
      "count = 0\n",
      "for direction in find_directions(D):\n",
      "    light = Light(direction.point, hm)\n",
      "    if light.does_get_home(D):\n",
      "        #print(direction)\n",
      "        count += 1\n",
      "print(count)"
     ],
     "language": "python",
     "metadata": {},
     "outputs": [
      {
       "ename": "NameError",
       "evalue": "name 'HallMirrors' is not defined",
       "output_type": "pyerr",
       "traceback": [
        "\u001b[1;31m---------------------------------------------------------------------------\u001b[0m\n\u001b[1;31mNameError\u001b[0m                                 Traceback (most recent call last)",
        "\u001b[1;32m<ipython-input-1-208cc9b3206c>\u001b[0m in \u001b[0;36m<module>\u001b[1;34m()\u001b[0m\n\u001b[1;32m----> 1\u001b[1;33m hm = HallMirrors([\"#####################\",\n\u001b[0m\u001b[0;32m      2\u001b[0m \u001b[1;34m\"###..#.#..##..####..#\"\u001b[0m\u001b[1;33m,\u001b[0m\u001b[1;33m\u001b[0m\u001b[0m\n\u001b[0;32m      3\u001b[0m \u001b[1;34m\"##.#.###.##.###.#.#.#\"\u001b[0m\u001b[1;33m,\u001b[0m\u001b[1;33m\u001b[0m\u001b[0m\n\u001b[0;32m      4\u001b[0m \u001b[1;34m\"#.##..##.###.###.####\"\u001b[0m\u001b[1;33m,\u001b[0m\u001b[1;33m\u001b[0m\u001b[0m\n\u001b[0;32m      5\u001b[0m \u001b[1;34m\"##.#.##..####.#.#.###\"\u001b[0m\u001b[1;33m,\u001b[0m\u001b[1;33m\u001b[0m\u001b[0m\n",
        "\u001b[1;31mNameError\u001b[0m: name 'HallMirrors' is not defined"
       ]
      }
     ],
     "prompt_number": 1
    },
    {
     "cell_type": "code",
     "collapsed": false,
     "input": [
      "light = Light(Point(-36,-4), hm)\n",
      "print(light.position, light.direction, light.distance_travelled)\n",
      "for _ in range(4):\n",
      "    light.update()\n",
      "    print(light.position, light.direction, light.distance_travelled)"
     ],
     "language": "python",
     "metadata": {},
     "outputs": [
      {
       "output_type": "stream",
       "stream": "stdout",
       "text": [
        "Point(row=7.5, col=17.5) Point(row=-36, col=-4) 0\n",
        "Hit this line: Point(row=2, col=17) -- Point(row=8, col=17) t=0.125, s=0.8333333333333334\n",
        "Hit this line: Point(row=3, col=15) -- Point(row=3, col=18) t=0.125, s=0.3333333333333333\n",
        "Hit this line: Point(row=4, col=15) -- Point(row=4, col=18) t=0.09722222222222222, s=0.2962962962962963\n",
        "Hit this line: Point(row=5, col=15) -- Point(row=5, col=18) t=0.06944444444444445, s=0.25925925925925924\n",
        "Hit this line: Point(row=7, col=15) -- Point(row=7, col=18) t=0.013888888888888888, s=0.18518518518518517\n",
        "Point(row=7.0, col=17.444444444444443) Point(row=36.0, col=-4.0) 0.5030769521187456\n",
        "Hit this line: Point(row=8, col=17) -- Point(row=8, col=18) t=0.027777777777777776, s=0.6666666666666683\n",
        "Point(row=8.0, col=17.333333333333332) Point(row=-36.0, col=-4.0) 1.5092308563562362\n",
        "Hit this line: Point(row=2, col=17) -- Point(row=8, col=17) t=0.08333333333333304, s=0.4999999999999982\n",
        "Hit this line: Point(row=3, col=15) -- Point(row=3, col=18) t=0.1388888888888889, s=0.40740740740740783\n",
        "Hit this line: Point(row=4, col=15) -- Point(row=4, col=18) t=0.1111111111111111, s=0.37037037037037074\n",
        "Hit this line: Point(row=5, col=15) -- Point(row=5, col=18) t=0.08333333333333333, s=0.3333333333333337\n",
        "Hit this line: Point(row=7, col=15) -- Point(row=7, col=18) t=0.027777777777777776, s=0.25925925925925963\n",
        "Point(row=7.0, col=17.22222222222222) Point(row=36.0, col=-4.0) 2.5153847605937267\n",
        "Hit this line: Point(row=8, col=17) -- Point(row=8, col=18) t=0.027777777777777776, s=0.8888888888888897\n",
        "Point(row=8.0, col=17.11111111111111) Point(row=-36.0, col=-4.0) 3.5215386648312172\n"
       ]
      }
     ],
     "prompt_number": 40
    },
    {
     "cell_type": "code",
     "collapsed": false,
     "input": [
      "list( light.find_next_intersection() )"
     ],
     "language": "python",
     "metadata": {},
     "outputs": [
      {
       "output_type": "stream",
       "stream": "stdout",
       "text": [
        "Hit this line: Point(row=2, col=17) -- Point(row=8, col=17) t=0.02777777777777768, s=0.16666666666666607\n",
        "Hit this line: Point(row=3, col=15) -- Point(row=3, col=18) t=0.1388888888888889, s=0.4814814814814816\n",
        "Hit this line: Point(row=4, col=15) -- Point(row=4, col=18) t=0.1111111111111111, s=0.4444444444444446\n",
        "Hit this line: Point(row=5, col=15) -- Point(row=5, col=18) t=0.08333333333333333, s=0.40740740740740755\n",
        "Hit this line: Point(row=7, col=15) -- Point(row=7, col=18) t=0.027777777777777776, s=0.3333333333333335\n"
       ]
      },
      {
       "metadata": {},
       "output_type": "pyout",
       "prompt_number": 41,
       "text": [
        "[(Point(row=7.0000000000000036, col=17.0),\n",
        "  1.0061539042374872,\n",
        "  Point(row=-36.0, col=4.0)),\n",
        " (Point(row=3.0, col=16.555555555555554),\n",
        "  5.0307695211874535,\n",
        "  Point(row=36.0, col=-4.0)),\n",
        " (Point(row=4.0, col=16.666666666666668),\n",
        "  4.024615616949963,\n",
        "  Point(row=36.0, col=-4.0)),\n",
        " (Point(row=5.0, col=16.77777777777778),\n",
        "  3.018461712712472,\n",
        "  Point(row=36.0, col=-4.0)),\n",
        " (Point(row=7.0, col=17.0), 1.0061539042374907, Point(row=36.0, col=-4.0))]"
       ]
      }
     ],
     "prompt_number": 41
    },
    {
     "cell_type": "code",
     "collapsed": false,
     "input": [
      "print(hm.maze[6][16:19])\n",
      "print(hm.maze[7][16:19])\n",
      "print(hm.maze[8][16:19])"
     ],
     "language": "python",
     "metadata": {},
     "outputs": [
      {
       "output_type": "stream",
       "stream": "stdout",
       "text": [
        ".##\n",
        "#.#\n",
        "###\n"
       ]
      }
     ],
     "prompt_number": 42
    },
    {
     "cell_type": "code",
     "collapsed": false,
     "input": [],
     "language": "python",
     "metadata": {},
     "outputs": [],
     "prompt_number": 33
    },
    {
     "cell_type": "code",
     "collapsed": false,
     "input": [
      "light = Light(Point(3,2), hm)\n",
      "light.position, light.direction, light.distance_travelled"
     ],
     "language": "python",
     "metadata": {},
     "outputs": [
      {
       "metadata": {},
       "output_type": "pyout",
       "prompt_number": 17,
       "text": [
        "(Point(row=Fraction(3, 2), col=Fraction(3, 2)), Point(row=3, col=2), 0)"
       ]
      }
     ],
     "prompt_number": 17
    },
    {
     "cell_type": "code",
     "collapsed": false,
     "input": [
      "light.update()\n",
      "light.position, light.direction, light.distance_travelled"
     ],
     "language": "python",
     "metadata": {},
     "outputs": [
      {
       "metadata": {},
       "output_type": "pyout",
       "prompt_number": 18,
       "text": [
        "(Point(row=Fraction(9, 4), col=Fraction(2, 1)),\n",
        " Point(row=Fraction(3, 1), col=Fraction(-2, 1)),\n",
        " 0.9013878188659973)"
       ]
      }
     ],
     "prompt_number": 18
    },
    {
     "cell_type": "code",
     "collapsed": false,
     "input": [
      "light.update()\n",
      "light.position, light.direction, light.distance_travelled"
     ],
     "language": "python",
     "metadata": {},
     "outputs": [
      {
       "metadata": {},
       "output_type": "pyout",
       "prompt_number": 19,
       "text": [
        "(Point(row=Fraction(3, 1), col=Fraction(3, 2)),\n",
        " Point(row=Fraction(-3, 1), col=Fraction(-2, 1)),\n",
        " 1.8027756377319946)"
       ]
      }
     ],
     "prompt_number": 19
    },
    {
     "cell_type": "code",
     "collapsed": false,
     "input": [
      "light.update()\n",
      "light.position, light.direction, light.distance_travelled"
     ],
     "language": "python",
     "metadata": {},
     "outputs": [
      {
       "metadata": {},
       "output_type": "pyout",
       "prompt_number": 20,
       "text": [
        "(Point(row=Fraction(9, 4), col=Fraction(1, 1)),\n",
        " Point(row=Fraction(-3, 1), col=Fraction(2, 1)),\n",
        " 2.7041634565979917)"
       ]
      }
     ],
     "prompt_number": 20
    },
    {
     "cell_type": "code",
     "collapsed": false,
     "input": [
      "light.update()\n",
      "light.position, light.direction, light.distance_travelled"
     ],
     "language": "python",
     "metadata": {},
     "outputs": [
      {
       "metadata": {},
       "output_type": "pyout",
       "prompt_number": 21,
       "text": [
        "(Point(row=Fraction(3, 2), col=Fraction(3, 2)),\n",
        " Point(row=Fraction(-3, 1), col=Fraction(2, 1)),\n",
        " 3.605551275463989)"
       ]
      }
     ],
     "prompt_number": 21
    },
    {
     "cell_type": "code",
     "collapsed": false,
     "input": [
      "hm = HallMirrors([\"######\",\"#..X.#\",\"#.#..#\",\"#...##\",\"######\"])\n",
      "D = 10\n",
      "count = 0\n",
      "for direction in find_directions(D):\n",
      "    light = Light(direction.point, hm)\n",
      "    if light.does_get_home(D):\n",
      "        print(direction)\n",
      "        count += 1\n",
      "print(count)"
     ],
     "language": "python",
     "metadata": {},
     "outputs": [
      {
       "output_type": "stream",
       "stream": "stdout",
       "text": [
        "Affine(-10,0)\n",
        "Affine(-8,3)"
       ]
      },
      {
       "output_type": "stream",
       "stream": "stdout",
       "text": [
        "\n",
        "Affine(1,1)\n",
        "Affine(2,-5)\n",
        "Affine(-6,1)"
       ]
      },
      {
       "output_type": "stream",
       "stream": "stdout",
       "text": [
        "\n",
        "Affine(-9,3)\n",
        "Affine(-3,9)\n",
        "Affine(1,8)"
       ]
      },
      {
       "output_type": "stream",
       "stream": "stdout",
       "text": [
        "\n",
        "Affine(-3,8)"
       ]
      },
      {
       "output_type": "stream",
       "stream": "stdout",
       "text": [
        "\n",
        "Affine(-1,8)"
       ]
      },
      {
       "output_type": "stream",
       "stream": "stdout",
       "text": [
        "\n",
        "Affine(0,1)\n",
        "Affine(-8,6)"
       ]
      },
      {
       "output_type": "stream",
       "stream": "stdout",
       "text": [
        "\n",
        "Affine(8,3)"
       ]
      },
      {
       "output_type": "stream",
       "stream": "stdout",
       "text": [
        "\n",
        "Affine(-5,3)\n",
        "Affine(7,3)"
       ]
      },
      {
       "output_type": "stream",
       "stream": "stdout",
       "text": [
        "\n",
        "Affine(5,1)\n",
        "Affine(5,-3)"
       ]
      },
      {
       "output_type": "stream",
       "stream": "stdout",
       "text": [
        "\n",
        "Affine(4,3)"
       ]
      },
      {
       "output_type": "stream",
       "stream": "stdout",
       "text": [
        "\n",
        "Affine(1,0)"
       ]
      },
      {
       "output_type": "stream",
       "stream": "stdout",
       "text": [
        "\n",
        "Affine(6,1)"
       ]
      },
      {
       "output_type": "stream",
       "stream": "stdout",
       "text": [
        "\n",
        "Affine(-3,-8)"
       ]
      },
      {
       "output_type": "stream",
       "stream": "stdout",
       "text": [
        "\n",
        "Affine(-1,-8)\n",
        "Affine(0,-10)\n",
        "Affine(1,-8)\n",
        "Affine(-1,-5)"
       ]
      },
      {
       "output_type": "stream",
       "stream": "stdout",
       "text": [
        "\n",
        "Affine(-2,-5)"
       ]
      },
      {
       "output_type": "stream",
       "stream": "stdout",
       "text": [
        "\n",
        "Affine(3,-5)\n",
        "Affine(-7,1)"
       ]
      },
      {
       "output_type": "stream",
       "stream": "stdout",
       "text": [
        "\n",
        "28\n"
       ]
      }
     ],
     "prompt_number": 27
    },
    {
     "cell_type": "code",
     "collapsed": false,
     "input": [
      "hm = HallMirrors([\"########################\", \"#............X.........#\", \"#......................#\", \"########################\"])\n",
      "D = 45\n",
      "count = 0\n",
      "for direction in find_directions(D):\n",
      "    light = Light(direction.point, hm)\n",
      "    if light.does_get_home(D):\n",
      "        print(direction)\n",
      "        count += 1\n",
      "print(count)"
     ],
     "language": "python",
     "metadata": {},
     "outputs": [
      {
       "output_type": "stream",
       "stream": "stdout",
       "text": [
        "Affine(28,19)\n",
        "Affine(-28,-35)\n",
        "Affine(-16,38)"
       ]
      },
      {
       "output_type": "stream",
       "stream": "stdout",
       "text": [
        "\n",
        "Affine(11,19)\n",
        "Affine(20,19)\n",
        "Affine(-17,-25)"
       ]
      },
      {
       "output_type": "stream",
       "stream": "stdout",
       "text": [
        "\n",
        "Affine(8,-25)\n",
        "Affine(-20,19)\n",
        "Affine(0,-45)\n",
        "Affine(8,19)\n",
        "Affine(2,-11)\n",
        "Affine(-29,19)\n",
        "Affine(28,-25)"
       ]
      },
      {
       "output_type": "stream",
       "stream": "stdout",
       "text": [
        "\n",
        "Affine(7,44)\n",
        "Affine(-37,19)\n",
        "Affine(-16,-25)"
       ]
      },
      {
       "output_type": "stream",
       "stream": "stdout",
       "text": [
        "\n",
        "Affine(-28,-25)\n",
        "Affine(-4,-25)\n",
        "Affine(-5,-44)"
       ]
      },
      {
       "output_type": "stream",
       "stream": "stdout",
       "text": [
        "\n",
        "Affine(16,19)\n",
        "Affine(0,1)\n",
        "Affine(7,-5)"
       ]
      },
      {
       "output_type": "stream",
       "stream": "stdout",
       "text": [
        "\n",
        "Affine(39,19)"
       ]
      },
      {
       "output_type": "stream",
       "stream": "stdout",
       "text": [
        "\n",
        "Affine(-36,-25)\n",
        "Affine(-2,38)\n",
        "Affine(7,-25)\n",
        "Affine(1,11)"
       ]
      },
      {
       "output_type": "stream",
       "stream": "stdout",
       "text": [
        "\n",
        "Affine(27,19)\n",
        "Affine(-1,-44)\n",
        "Affine(19,-25)\n",
        "Affine(-18,38)"
       ]
      },
      {
       "output_type": "stream",
       "stream": "stdout",
       "text": [
        "\n",
        "Affine(-4,44)\n",
        "Affine(-13,-25)"
       ]
      },
      {
       "output_type": "stream",
       "stream": "stdout",
       "text": [
        "\n",
        "Affine(12,-25)\n",
        "Affine(-1,-25)\n",
        "Affine(24,-25)\n",
        "Affine(-29,-25)"
       ]
      },
      {
       "output_type": "stream",
       "stream": "stdout",
       "text": [
        "\n",
        "Affine(24,19)\n",
        "Affine(12,19)"
       ]
      },
      {
       "output_type": "stream",
       "stream": "stdout",
       "text": [
        "\n",
        "Affine(-16,19)\n",
        "Affine(3,19)\n",
        "Affine(-33,19)"
       ]
      },
      {
       "output_type": "stream",
       "stream": "stdout",
       "text": [
        "\n",
        "Affine(-4,-44)\n",
        "Affine(32,19)\n",
        "Affine(-1,44)"
       ]
      },
      {
       "output_type": "stream",
       "stream": "stdout",
       "text": [
        "\n",
        "Affine(-36,19)\n",
        "Affine(1,-11)\n",
        "Affine(-25,19)"
       ]
      },
      {
       "output_type": "stream",
       "stream": "stdout",
       "text": [
        "\n",
        "Affine(32,-25)"
       ]
      },
      {
       "output_type": "stream",
       "stream": "stdout",
       "text": [
        "\n",
        "Affine(23,-25)\n",
        "Affine(-28,19)"
       ]
      },
      {
       "output_type": "stream",
       "stream": "stdout",
       "text": [
        "\n",
        "Affine(-24,-25)\n",
        "Affine(-5,44)\n",
        "Affine(-12,-25)\n",
        "Affine(-40,19)\n",
        "Affine(31,19)"
       ]
      },
      {
       "output_type": "stream",
       "stream": "stdout",
       "text": [
        "\n",
        "Affine(27,-25)"
       ]
      },
      {
       "output_type": "stream",
       "stream": "stdout",
       "text": [
        "\n",
        "Affine(-45,0)\n",
        "Affine(7,-44)\n",
        "Affine(-17,19)"
       ]
      },
      {
       "output_type": "stream",
       "stream": "stdout",
       "text": [
        "\n",
        "Affine(2,11)\n",
        "Affine(1,1)"
       ]
      },
      {
       "output_type": "stream",
       "stream": "stdout",
       "text": [
        "\n",
        "Affine(-21,-25)"
       ]
      },
      {
       "output_type": "stream",
       "stream": "stdout",
       "text": [
        "\n",
        "Affine(4,-25)\n",
        "Affine(4,19)\n",
        "Affine(-9,-25)\n",
        "Affine(16,-25)\n",
        "Affine(36,19)\n",
        "Affine(-32,19)"
       ]
      },
      {
       "output_type": "stream",
       "stream": "stdout",
       "text": [
        "\n",
        "Affine(-37,-25)\n",
        "Affine(3,44)"
       ]
      },
      {
       "output_type": "stream",
       "stream": "stdout",
       "text": [
        "\n",
        "Affine(-21,19)\n",
        "Affine(-8,-44)\n",
        "Affine(-24,38)\n",
        "Affine(7,19)\n",
        "Affine(-32,-25)\n",
        "Affine(-8,-25)"
       ]
      },
      {
       "output_type": "stream",
       "stream": "stdout",
       "text": [
        "\n",
        "Affine(11,-25)\n",
        "Affine(-24,19)\n",
        "Affine(-8,-40)"
       ]
      },
      {
       "output_type": "stream",
       "stream": "stdout",
       "text": [
        "\n",
        "Affine(4,-5)\n",
        "Affine(-9,-44)\n",
        "Affine(31,-25)\n",
        "Affine(-8,38)"
       ]
      },
      {
       "output_type": "stream",
       "stream": "stdout",
       "text": [
        "\n",
        "Affine(15,19)\n",
        "Affine(3,-25)\n",
        "Affine(3,-5)"
       ]
      },
      {
       "output_type": "stream",
       "stream": "stdout",
       "text": [
        "\n",
        "Affine(-9,44)\n",
        "Affine(-13,19)"
       ]
      },
      {
       "output_type": "stream",
       "stream": "stdout",
       "text": [
        "\n",
        "Affine(23,19)\n",
        "Affine(35,19)"
       ]
      },
      {
       "output_type": "stream",
       "stream": "stdout",
       "text": [
        "\n",
        "Affine(-8,44)\n",
        "Affine(3,-44)\n",
        "Affine(-33,-25)"
       ]
      },
      {
       "output_type": "stream",
       "stream": "stdout",
       "text": [
        "\n",
        "Affine(-10,38)\n",
        "Affine(-31,-31)"
       ]
      },
      {
       "output_type": "stream",
       "stream": "stdout",
       "text": [
        "\n",
        "Affine(1,0)\n",
        "Affine(40,19)"
       ]
      },
      {
       "output_type": "stream",
       "stream": "stdout",
       "text": [
        "\n",
        "Affine(36,-25)\n",
        "99\n"
       ]
      }
     ],
     "prompt_number": 33
    },
    {
     "cell_type": "code",
     "collapsed": false,
     "input": [],
     "language": "python",
     "metadata": {},
     "outputs": []
    }
   ],
   "metadata": {}
  }
 ]
}