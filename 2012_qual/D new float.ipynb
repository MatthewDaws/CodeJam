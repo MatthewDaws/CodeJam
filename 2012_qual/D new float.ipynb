{
 "metadata": {
  "name": "",
  "signature": "sha256:454deb9d711c3acea03ec6ebaf29aafc351558a253d520d59058b8722a3380fa"
 },
 "nbformat": 3,
 "nbformat_minor": 0,
 "worksheets": [
  {
   "cells": [
    {
     "cell_type": "code",
     "collapsed": false,
     "input": [
      "import math\n",
      "from collections import namedtuple\n",
      "Point = namedtuple(\"Point\", [\"row\",\"col\"])\n",
      "\n",
      "epsilon = 1e-7\n",
      "\n",
      "class BounceBox:\n",
      "    def __init__(self, position, direction):\n",
      "        self.position = position\n",
      "        self.direction = direction\n",
      "\n",
      "    def __repr__(self):\n",
      "        return \"Pos: {} Dir: {}\".format(self.position, self.direction)\n",
      "        \n",
      "    @staticmethod\n",
      "    def distance(one, two):\n",
      "        x = one.row - two.row\n",
      "        y = one.col - two.col\n",
      "        return math.sqrt( float(x*x + y*y) )\n",
      "\n",
      "    def hit_point(self, p):\n",
      "        \"\"\"Returns distance to `p` or -1 if can't hit.\"\"\"\n",
      "        delta = Point(self.position.row - p.row, self.position.col - p.col)\n",
      "        normsq_delta = delta.row * delta.row + delta.col * delta.col\n",
      "        ip = self.direction.row * delta.row + self.direction.col * delta.col\n",
      "        normsq = self.direction.row * self.direction.row + self.direction.col * self.direction.col\n",
      "        #t = -ip / normsq\n",
      "        mindist = (normsq * normsq_delta - ip * ip) / (normsq * normsq)\n",
      "        if ip < 0 and abs(mindist) < epsilon:\n",
      "            return self.distance(self.position, p)\n",
      "        return -1\n",
      "\n",
      "    middle = Point(0.5, 0.5)\n",
      "\n",
      "    def update(self):\n",
      "        \"\"\"Move position to the boundary of the box, or to (1/2,1/2).\n",
      "        Returns distance travelled.\"\"\"\n",
      "        # Can hit middle?\n",
      "        d = self.hit_point(self.middle)\n",
      "        if d != -1:\n",
      "            self.position = self.middle\n",
      "            return d\n",
      "        # Hit corners\n",
      "        #corners = [ Point(0,0), Point(1,0), Point(0,1), Point(1,1) ]\n",
      "        #for p in corners:\n",
      "        #    d = self.hit_point(p)\n",
      "        #    if d != -1:\n",
      "        #        self.travelled += d\n",
      "        #        self.position = p\n",
      "        #        return\n",
      "        # Hit side?\n",
      "        if self.direction.row == 0:\n",
      "            col = 1 if self.direction.col > 0 else 0\n",
      "            # Solve self.position.col + t * self.direction.col == col\n",
      "            t = (col - self.position.col) / self.direction.col\n",
      "            if t <= 0: raise Exception(\"Shouldn't happen 1\")\n",
      "            row = self.position.row + t * self.direction.row\n",
      "            if abs(row) < epsilon:\n",
      "                row = 0\n",
      "            elif abs(1.0 - row) < epsilon:\n",
      "                row = 1\n",
      "        else:\n",
      "            if self.direction.col == 0:\n",
      "                row = 1 if self.direction.row > 0 else 0\n",
      "                t = (row - self.position.row) / self.direction.row\n",
      "                if t <= 0: raise Exception(\"Shouldn't happen 2\")\n",
      "                col = self.position.col + t * self.direction.col\n",
      "                if abs(col) < epsilon:\n",
      "                    col = 0\n",
      "                elif abs(1.0 - col) < epsilon:\n",
      "                    col = 1\n",
      "            else:\n",
      "                col = 1 if self.direction.col > 0 else 0\n",
      "                tcol = (col - self.position.col) / self.direction.col\n",
      "                if tcol <= 0: raise Exception(\"Shouldn't happen 3\")\n",
      "                row = 1 if self.direction.row > 0 else 0\n",
      "                trow = (row - self.position.row) / self.direction.row\n",
      "                if trow <= 0: raise Exception(\"Shouldn't happen 4\")\n",
      "                t = min(trow, tcol)\n",
      "                row = self.position.row + t * self.direction.row\n",
      "                if abs(row) < epsilon:\n",
      "                    row = 0\n",
      "                elif abs(1.0 - row) < epsilon:\n",
      "                    row = 1\n",
      "                col = self.position.col + t * self.direction.col\n",
      "                if abs(col) < epsilon:\n",
      "                    col = 0\n",
      "                elif abs(1.0 - col) < epsilon:\n",
      "                    col = 1\n",
      "        oldp = self.position\n",
      "        self.position = Point(row, col)\n",
      "        return self.distance(self.position, oldp)\n"
     ],
     "language": "python",
     "metadata": {},
     "outputs": [],
     "prompt_number": 37
    },
    {
     "cell_type": "code",
     "collapsed": false,
     "input": [
      "bb = BounceBox(BounceBox.middle, Point(1,0))\n",
      "bb"
     ],
     "language": "python",
     "metadata": {},
     "outputs": [
      {
       "metadata": {},
       "output_type": "pyout",
       "prompt_number": 38,
       "text": [
        "Pos: Point(row=0.5, col=0.5) Dir: Point(row=1, col=0)"
       ]
      }
     ],
     "prompt_number": 38
    },
    {
     "cell_type": "code",
     "collapsed": false,
     "input": [
      "bb.update()"
     ],
     "language": "python",
     "metadata": {},
     "outputs": [
      {
       "metadata": {},
       "output_type": "pyout",
       "prompt_number": 39,
       "text": [
        "0.5"
       ]
      }
     ],
     "prompt_number": 39
    },
    {
     "cell_type": "code",
     "collapsed": false,
     "input": [
      "bb"
     ],
     "language": "python",
     "metadata": {},
     "outputs": [
      {
       "metadata": {},
       "output_type": "pyout",
       "prompt_number": 40,
       "text": [
        "Pos: Point(row=1, col=0.5) Dir: Point(row=1, col=0)"
       ]
      }
     ],
     "prompt_number": 40
    },
    {
     "cell_type": "code",
     "collapsed": false,
     "input": [
      "bb.direction = Point(-1, 0)\n",
      "bb"
     ],
     "language": "python",
     "metadata": {},
     "outputs": [
      {
       "metadata": {},
       "output_type": "pyout",
       "prompt_number": 41,
       "text": [
        "Pos: Point(row=1, col=0.5) Dir: Point(row=-1, col=0)"
       ]
      }
     ],
     "prompt_number": 41
    },
    {
     "cell_type": "code",
     "collapsed": false,
     "input": [
      "bb.update()"
     ],
     "language": "python",
     "metadata": {},
     "outputs": [
      {
       "metadata": {},
       "output_type": "pyout",
       "prompt_number": 42,
       "text": [
        "0.5"
       ]
      }
     ],
     "prompt_number": 42
    },
    {
     "cell_type": "code",
     "collapsed": false,
     "input": [
      "bb"
     ],
     "language": "python",
     "metadata": {},
     "outputs": [
      {
       "metadata": {},
       "output_type": "pyout",
       "prompt_number": 43,
       "text": [
        "Pos: Point(row=0.5, col=0.5) Dir: Point(row=-1, col=0)"
       ]
      }
     ],
     "prompt_number": 43
    },
    {
     "cell_type": "code",
     "collapsed": false,
     "input": [
      "p = BounceBox.middle\n",
      "delta = Point(bb.position.row - p.row, bb.position.col - p.col)\n",
      "normsq_delta = delta.row * delta.row + delta.col * delta.col\n",
      "ip = bb.direction.row * delta.row + bb.direction.col * delta.col\n",
      "normsq = bb.direction.row * bb.direction.row + bb.direction.col * bb.direction.col\n",
      "#t = ip / normsq\n",
      "mindist = (normsq * normsq_delta - ip * ip) / (normsq * normsq)\n"
     ],
     "language": "python",
     "metadata": {},
     "outputs": [],
     "prompt_number": 32
    },
    {
     "cell_type": "code",
     "collapsed": false,
     "input": [
      "ip"
     ],
     "language": "python",
     "metadata": {},
     "outputs": [
      {
       "metadata": {},
       "output_type": "pyout",
       "prompt_number": 34,
       "text": [
        "-0.5"
       ]
      }
     ],
     "prompt_number": 34
    },
    {
     "cell_type": "code",
     "collapsed": false,
     "input": [
      "mindist"
     ],
     "language": "python",
     "metadata": {},
     "outputs": [
      {
       "metadata": {},
       "output_type": "pyout",
       "prompt_number": 35,
       "text": [
        "0.0"
       ]
      }
     ],
     "prompt_number": 35
    },
    {
     "cell_type": "code",
     "collapsed": true,
     "input": [
      "normsq"
     ],
     "language": "python",
     "metadata": {},
     "outputs": [
      {
       "metadata": {},
       "output_type": "pyout",
       "prompt_number": 36,
       "text": [
        "1"
       ]
      }
     ],
     "prompt_number": 36
    },
    {
     "cell_type": "code",
     "collapsed": false,
     "input": [],
     "language": "python",
     "metadata": {},
     "outputs": []
    }
   ],
   "metadata": {}
  }
 ]
}