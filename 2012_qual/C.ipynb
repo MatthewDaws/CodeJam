{
 "metadata": {
  "name": "",
  "signature": "sha256:f8e96d67a0eda30d0e9ef9406e7674fce3d45b826ae2934062a0d288d6223f3f"
 },
 "nbformat": 3,
 "nbformat_minor": 0,
 "worksheets": [
  {
   "cells": [
    {
     "cell_type": "code",
     "collapsed": false,
     "input": [
      "A, B = 1000000, 2000000"
     ],
     "language": "python",
     "metadata": {},
     "outputs": [],
     "prompt_number": 19
    },
    {
     "cell_type": "code",
     "collapsed": false,
     "input": [
      "length = 1\n",
      "pow10 = 1\n",
      "x = A\n",
      "while x >= 10:\n",
      "    x //= 10\n",
      "    pow10 *= 10\n",
      "    length += 1\n",
      "print(A, \"-->\", pow10, length)"
     ],
     "language": "python",
     "metadata": {},
     "outputs": [
      {
       "output_type": "stream",
       "stream": "stdout",
       "text": [
        "1000000 --> 1000000 7\n"
       ]
      }
     ],
     "prompt_number": 20
    },
    {
     "cell_type": "code",
     "collapsed": false,
     "input": [
      "def rotate(n):\n",
      "    m = n\n",
      "    for i in range(length - 1):\n",
      "        m = (m // 10) + pow10 * (m % 10)\n",
      "        if n < m and m <= B:\n",
      "            yield m\n",
      "        \n",
      "def count(n):\n",
      "    return len(set(rotate(n)))"
     ],
     "language": "python",
     "metadata": {},
     "outputs": [],
     "prompt_number": 23
    },
    {
     "cell_type": "code",
     "collapsed": false,
     "input": [
      "sum( count(n) for n in range(A, B) )"
     ],
     "language": "python",
     "metadata": {},
     "outputs": [
      {
       "metadata": {},
       "output_type": "pyout",
       "prompt_number": 24,
       "text": [
        "299997"
       ]
      }
     ],
     "prompt_number": 24
    },
    {
     "cell_type": "code",
     "collapsed": false,
     "input": [],
     "language": "python",
     "metadata": {},
     "outputs": []
    }
   ],
   "metadata": {}
  }
 ]
}