{
 "metadata": {
  "name": "",
  "signature": "sha256:56a87e40187f3ccb35201326b7da1ae321abab1289c1532d0b028ca6ad924415"
 },
 "nbformat": 3,
 "nbformat_minor": 0,
 "worksheets": [
  {
   "cells": [
    {
     "cell_type": "code",
     "collapsed": false,
     "input": [
      "def prob_exact(ld, target, copies, length, postfix):\n",
      "    \"\"\"As below, but == `copies`\"\"\"\n",
      "    #print(\"exact:\", copies, length, postfix)\n",
      "    return prob(ld, target, copies, length, postfix) - prob(ld, target, copies + 1, length, postfix)\n",
      "\n",
      "def prob(ld, target, copies, length, postfix):\n",
      "    \"\"\"Returns probability a string of `length` contains >= `copies` of `target` and ends in `postfix`\"\"\"\n",
      "    #print(\"prob:\", copies, length, postfix)\n",
      "    if len(postfix) == 0:\n",
      "        if copies <= 0: return 1\n",
      "        if length < len(target): return 0\n",
      "        if length == len(target):\n",
      "            if copies > 1: return 0\n",
      "            p = 1\n",
      "            for c in target:\n",
      "                p *= ld[c]\n",
      "            return p\n",
      "        return ( prob(ld, target, copies, length - 1, \"\") +\n",
      "            prob_exact(ld, target, copies - 1, length - 1, target[:-1]) * ld[target[-1]] )\n",
      "    # So have a postfix.\n",
      "    if length < len(postfix): return 0\n",
      "    if length == len(postfix):\n",
      "        if copies > 0: return 0 # len(postfix) < len(target)\n",
      "        p = 1\n",
      "        for c in postfix:\n",
      "            p *= ld[c]\n",
      "        return p\n",
      "    # Does postfix overlap exactly with end of target?\n",
      "    if target[-len(postfix):] == postfix:\n",
      "        return ( prob(ld, target, copies, length - 1, postfix[:-1]) * ld[postfix[-1]] +\n",
      "            prob_exact(ld, target, copies - 1, length - 1, target[:-1]) * ld[postfix[-1]] )\n",
      "    return prob(ld, target, copies, length - 1, postfix[:-1]) * ld[postfix[-1]]\n",
      "\n",
      "def solve(letters, target, S):\n",
      "    ld = Counter(letters)\n",
      "    for c in target:\n",
      "        if c not in ld:\n",
      "            return 0\n",
      "    global letterdict\n",
      "    letterdict = { c : Fraction(ld[c],len(letters)) for c in ld }\n",
      "    # In business\n",
      "    copies = 1\n",
      "    expect = 0\n",
      "    while True:\n",
      "        p = prob(letterdict, target, copies, S, \"\")\n",
      "        if p == 0:\n",
      "            break\n",
      "        expect += p\n",
      "        copies += 1\n",
      "    maximum = copies - 1\n",
      "    return float(maximum - expect)\n",
      "\n",
      "solve(\"ORJHNER\", \"RR\", 7)"
     ],
     "language": "python",
     "metadata": {},
     "outputs": [
      {
       "metadata": {},
       "output_type": "pyout",
       "prompt_number": 64,
       "text": [
        "5.510204081632653"
       ]
      }
     ],
     "prompt_number": 64
    },
    {
     "cell_type": "code",
     "collapsed": false,
     "input": [
      "solve(\"RY\", \"R\", 1)"
     ],
     "language": "python",
     "metadata": {},
     "outputs": [
      {
       "metadata": {},
       "output_type": "pyout",
       "prompt_number": 72,
       "text": [
        "0.5"
       ]
      }
     ],
     "prompt_number": 72
    },
    {
     "cell_type": "code",
     "collapsed": false,
     "input": [
      "prob({\"R\":Fraction(2,7), \"A\":Fraction(5,7)}, \"RR\", 0, 3, \"R\")"
     ],
     "language": "python",
     "metadata": {},
     "outputs": [
      {
       "metadata": {},
       "output_type": "pyout",
       "prompt_number": 58,
       "text": [
        "Fraction(10, 49)"
       ]
      }
     ],
     "prompt_number": 58
    },
    {
     "cell_type": "code",
     "collapsed": false,
     "input": [
      "prob({\"R\":Fraction(2,7), \"A\":Fraction(5,7)}, \"RR\", 0, 2, \"\") * Fraction(2,7)"
     ],
     "language": "python",
     "metadata": {},
     "outputs": [
      {
       "metadata": {},
       "output_type": "pyout",
       "prompt_number": 59,
       "text": [
        "Fraction(2, 7)"
       ]
      }
     ],
     "prompt_number": 59
    },
    {
     "cell_type": "code",
     "collapsed": false,
     "input": [
      "prob({\"R\":Fraction(2,7), \"A\":Fraction(5,7)}, \"RR\", -1, 2, \"\")"
     ],
     "language": "python",
     "metadata": {},
     "outputs": [
      {
       "metadata": {},
       "output_type": "pyout",
       "prompt_number": 63,
       "text": [
        "Fraction(4, 49)"
       ]
      }
     ],
     "prompt_number": 63
    },
    {
     "cell_type": "heading",
     "level": 1,
     "metadata": {},
     "source": [
      "Brute force"
     ]
    },
    {
     "cell_type": "code",
     "collapsed": false,
     "input": [
      "import functools, itertools\n",
      "\n",
      "from collections import Counter\n",
      "from fractions import Fraction\n",
      "def solve_slow(letters, target, S):\n",
      "    ld = Counter(letters)\n",
      "    for c in target:\n",
      "        if c not in ld:\n",
      "            return 0\n",
      "    global letterdict\n",
      "    letterdict = { c : Fraction(ld[c],len(letters)) for c in ld }\n",
      "    L = len(target)\n",
      "    maximum = 0\n",
      "    expect = 0\n",
      "    for choice in itertools.product(letters, repeat = S):\n",
      "        x = \"\".join(choice)\n",
      "        count = sum( x[i:i+L] == target for i in range(S - L + 1) )\n",
      "        #print(x, count)\n",
      "        maximum = max(maximum, count)\n",
      "        expect += count\n",
      "    expect /= len(letters)**S\n",
      "    return maximum - expect\n",
      "\n",
      "solve_slow(\"ORJHNER\", \"RR\", 7)"
     ],
     "language": "python",
     "metadata": {},
     "outputs": [
      {
       "metadata": {},
       "output_type": "pyout",
       "prompt_number": 67,
       "text": [
        "5.510204081632653"
       ]
      }
     ],
     "prompt_number": 67
    },
    {
     "cell_type": "code",
     "collapsed": false,
     "input": [
      "solve_slow(\"RY\", \"R\", 1)"
     ],
     "language": "python",
     "metadata": {},
     "outputs": [
      {
       "metadata": {},
       "output_type": "pyout",
       "prompt_number": 69,
       "text": [
        "0.5"
       ]
      }
     ],
     "prompt_number": 69
    },
    {
     "cell_type": "code",
     "collapsed": false,
     "input": [],
     "language": "python",
     "metadata": {},
     "outputs": []
    }
   ],
   "metadata": {}
  }
 ]
}