{
 "metadata": {
  "name": "",
  "signature": "sha256:cfcca1b412e89fec1ed0f1c1b5e5f93cf4635244059520b8b2ee3b748d0203a7"
 },
 "nbformat": 3,
 "nbformat_minor": 0,
 "worksheets": [
  {
   "cells": [
    {
     "cell_type": "code",
     "collapsed": false,
     "input": [
      "import itertools\n",
      "\n",
      "def gen_all(C, D, V):\n",
      "    \"\"\"C = max numbr of coins of one type\n",
      "    D = list of demons\n",
      "    V = maximum to make\"\"\"\n",
      "    poss = set()\n",
      "    # This is O( (C+1)**D )\n",
      "    for choice in itertools.product(range(C+1), repeat = len(D)):\n",
      "        s = sum( c * d for c, d in zip(choice, D) )\n",
      "        if s <= V:\n",
      "            poss.add(s)\n",
      "    return list(poss)\n",
      "\n",
      "def solve(C, D, V):\n",
      "    options = [ [] ]\n",
      "    count = -1\n",
      "    while len(options) > 0:\n",
      "        added = options.pop()\n",
      "        #print(\"Trying\", D+added)\n",
      "        can_make = gen_all(C, D + added, V)\n",
      "        can_make.sort()\n",
      "        done = True\n",
      "        # STUPID MISTAKE here: need to also check if we can make up V!\n",
      "        for i, x in enumerate(can_make):\n",
      "            if x != i:\n",
      "                # Can't make i but can make 0, ..., i-1\n",
      "                maybe = set(range(1, i+1))\n",
      "                maybe = maybe.difference( set(D) )\n",
      "                maybe = maybe.difference( set(added) )\n",
      "                for x in maybe:\n",
      "                    options.append( added + [x] )\n",
      "                done = False\n",
      "                break\n",
      "        if done and max(can_make) < V:\n",
      "            i = max(can_make) + 1\n",
      "            maybe = set(range(1, i+1))\n",
      "            maybe = maybe.difference( set(D) )\n",
      "            maybe = maybe.difference( set(added) )\n",
      "            for x in maybe:\n",
      "                options.append( added + [x] )\n",
      "            done = False\n",
      "        if done:\n",
      "            if count == -1 or len(added) < count:\n",
      "                count = len(added)\n",
      "    return count\n",
      "\n",
      "solve(1,[15,20,22],27)"
     ],
     "language": "python",
     "metadata": {},
     "outputs": [
      {
       "metadata": {},
       "output_type": "pyout",
       "prompt_number": 50,
       "text": [
        "4"
       ]
      }
     ],
     "prompt_number": 50
    },
    {
     "cell_type": "code",
     "collapsed": false,
     "input": [
      "def solve_better(C, D, V):\n",
      "    added = []\n",
      "    while True:\n",
      "        can_make = gen_all(C, D + added, V)\n",
      "        want = set(range(V+1))\n",
      "        want.difference_update(can_make)\n",
      "        if len(want) == 0:\n",
      "            return len(added)\n",
      "        added.append( min(want) )\n",
      "\n",
      "solve_better(1,[15,20,22],27)"
     ],
     "language": "python",
     "metadata": {},
     "outputs": [
      {
       "metadata": {},
       "output_type": "pyout",
       "prompt_number": 55,
       "text": [
        "4"
       ]
      }
     ],
     "prompt_number": 55
    },
    {
     "cell_type": "code",
     "collapsed": false,
     "input": [
      "solve(1,[1,14], 30)"
     ],
     "language": "python",
     "metadata": {},
     "outputs": [
      {
       "metadata": {},
       "output_type": "pyout",
       "prompt_number": 56,
       "text": [
        "4"
       ]
      }
     ],
     "prompt_number": 56
    },
    {
     "cell_type": "code",
     "collapsed": false,
     "input": [
      "solve_better(1,[1,14], 30)"
     ],
     "language": "python",
     "metadata": {},
     "outputs": [
      {
       "metadata": {},
       "output_type": "pyout",
       "prompt_number": 57,
       "text": [
        "4"
       ]
      }
     ],
     "prompt_number": 57
    },
    {
     "cell_type": "code",
     "collapsed": false,
     "input": [],
     "language": "python",
     "metadata": {},
     "outputs": []
    },
    {
     "cell_type": "code",
     "collapsed": false,
     "input": [
      "def solve_fast(C, D, V):\n",
      "    not_used = D[:]\n",
      "    not_used.sort()\n",
      "    max_can_do = 0\n",
      "    added = []\n",
      "    while max_can_do < V:\n",
      "        if max_can_do + 1 in not_used:\n",
      "            not_used.remove( max_can_do + 1 )\n",
      "        else:\n",
      "            added.append(max_can_do + 1)\n",
      "        # Can make 0 ... max_can_do and max_can_do+1, 2*(max_can_do+1), ..., C*(max_can_do+1)\n",
      "        # Together means can now make C*max_can_do + C + max_can_do\n",
      "        max_can_do += C * (max_can_do + 1)\n",
      "        # If k in not_used then can also now make k, k+1, ..., k + max_can_do\n",
      "        #   and 2*k, ..., 2*k + max_can_do etc.\n",
      "        # If k > max_can_do then we'll consider in the future\n",
      "        # If k <= max_can_do then k + max_can_do >= 2*k and so we get the whole interval\n",
      "        # up to C*k + max_can_do\n",
      "        index = 0\n",
      "        while index < len(not_used):\n",
      "            if not_used[index] <= max_can_do:\n",
      "                max_can_do += C * not_used[index]\n",
      "                del not_used[index]\n",
      "            else:\n",
      "                index += 1\n",
      "    return len(added)\n",
      "\n",
      "solve_fast(1,[1,14], 30)    \n",
      "        \n",
      "        "
     ],
     "language": "python",
     "metadata": {},
     "outputs": [
      {
       "output_type": "stream",
       "stream": "stdout",
       "text": [
        "[1, 14, 2, 4, 8, 30]\n"
       ]
      },
      {
       "metadata": {},
       "output_type": "pyout",
       "prompt_number": 61,
       "text": [
        "4"
       ]
      }
     ],
     "prompt_number": 61
    },
    {
     "cell_type": "code",
     "collapsed": false,
     "input": [],
     "language": "python",
     "metadata": {},
     "outputs": []
    }
   ],
   "metadata": {}
  }
 ]
}