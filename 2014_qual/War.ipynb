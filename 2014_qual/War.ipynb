{
 "metadata": {
  "name": "",
  "signature": "sha256:0d4164086de2e0b028dd632e49a5acb695d9a36fefadace85fe1efec757c3e92"
 },
 "nbformat": 3,
 "nbformat_minor": 0,
 "worksheets": [
  {
   "cells": [
    {
     "cell_type": "code",
     "collapsed": false,
     "input": [
      "class Ken:\n",
      "    def __init__(self, weights):\n",
      "        self.weights = weights[:]\n",
      "        self.weights.sort()\n",
      "        \n",
      "    def play(self, other_weight):\n",
      "        \"\"\"Implements Ken's optimal strategy, based on `other_weight` being played by\n",
      "        Naomi.  Returns weight which Ken will play.\"\"\"\n",
      "        if other_weight > self.weights[-1]:\n",
      "            # Can't win so play smallest weight\n",
      "            ken_play = self.weights[0]\n",
      "            del self.weights[0]\n",
      "        else:\n",
      "            # Can win, so play least weight which wins\n",
      "            index = len(self.weights) - 1\n",
      "            while index > 0 and self.weights[index - 1] > other_weight:\n",
      "                index -= 1\n",
      "            ken_play = self.weights[index]\n",
      "            del self.weights[index]\n",
      "        return ken_play\n",
      "    \n",
      "def War(kweights, nweights):\n",
      "    \"\"\"Returns number of points Ken wins.\"\"\"\n",
      "    k = Ken(kweights)\n",
      "    kwins = 0\n",
      "    for x in nweights:\n",
      "        ken_play = k.play(x)\n",
      "        if ken_play > x:\n",
      "            kwins += 1\n",
      "    return kwins\n",
      "\n",
      "def DWar(kweights, nweights):\n",
      "    \"\"\"Return number of points Ken wins in deceitful war.\"\"\"\n",
      "    n = nweights[:]\n",
      "    n.sort() # So n now increasing\n",
      "    k = Ken(kweights)\n",
      "    kwins = 0\n",
      "    while len(n) > 0:\n",
      "        # Can n cheat and win?\n",
      "        if n[-1] > k.weights[0]:\n",
      "            index = next( i for i, w in enumerate(n) if w > k.weights[0] )\n",
      "            k_play = k.play(k.weights[-1] + 1)\n",
      "            if k_play > n[index]:\n",
      "                raise Exception(\"Shouldn't happen\")\n",
      "            del n[index]\n",
      "        else:\n",
      "            n_play = n.pop()\n",
      "            k_play = k.play(n_play)\n",
      "            if k_play < n_play:\n",
      "                raise Exception(\"Really shouldn't happen\")\n",
      "            else:\n",
      "                kwins += 1\n",
      "    return kwins"
     ],
     "language": "python",
     "metadata": {},
     "outputs": [],
     "prompt_number": 62
    },
    {
     "cell_type": "code",
     "collapsed": false,
     "input": [
      "import random\n",
      "kweights = [random.random()*10 for _ in range(10)]\n",
      "n = [random.random()*10 for _ in range(10)]\n",
      "# Check distinct\n",
      "for x in n:\n",
      "    if x in kweights:\n",
      "        raise Exception(\"What are the odds?\")\n",
      "# Test\n",
      "for _ in range(100):\n",
      "    random.shuffle(n)\n",
      "    print(War(kweights, n), DWar(kweights,n), end=\", \")"
     ],
     "language": "python",
     "metadata": {},
     "outputs": [
      {
       "output_type": "stream",
       "stream": "stdout",
       "text": [
        "7 0, 7 0, 7 0, 7 0, 7 0, 7 0, 7 0, 7 0, 7 0, 7 0, 7 0, 7 0, 7 0, 7 0, 7 0, 7 0, 7 0, 7 0, 7 0, 7 0, 7 0, 7 0, 7 0, 7 0, 7 0, 7 0, 7 0, 7 0, 7 0, 7 0, 7 0, 7 0, 7 0, 7 0, 7 0, 7 0, 7 0, 7 0, 7 0, 7 0, 7 0, 7 0, 7 0, 7 0, 7 0, 7 0, 7 0, 7 0, 7 0, 7 0, 7 0, 7 0, 7 0, 7 0, 7 0, 7 0, 7 0, 7 0, 7 0, 7 0, 7 0, 7 0, 7"
       ]
      },
      {
       "output_type": "stream",
       "stream": "stdout",
       "text": [
        " 0, 7 0, 7 0, 7 0, 7 0, 7 0, 7 0, 7 0, 7 0, 7 0, 7 0, 7 0, 7 0, 7 0, 7 0, 7 0, 7 0, 7 0, 7 0, 7 0, 7 0, 7 0, 7 0, 7 0, 7 0, 7 0, 7 0, 7 0, 7 0, 7 0, 7 0, 7 0, 7 0, 7 0, 7 0, 7 0, 7 0, 7 0, "
       ]
      }
     ],
     "prompt_number": 63
    },
    {
     "cell_type": "code",
     "collapsed": false,
     "input": [],
     "language": "python",
     "metadata": {},
     "outputs": []
    }
   ],
   "metadata": {}
  }
 ]
}