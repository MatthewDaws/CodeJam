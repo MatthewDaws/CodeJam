{
 "metadata": {
  "name": "",
  "signature": "sha256:4d1d03c8d6f817888ba2ad7624e13f81b27868b5188b5c68c942e97a82519ef1"
 },
 "nbformat": 3,
 "nbformat_minor": 0,
 "worksheets": [
  {
   "cells": [
    {
     "cell_type": "heading",
     "level": 1,
     "metadata": {},
     "source": [
      "Qualification Round 2008, Problem B, Train Timetable"
     ]
    },
    {
     "cell_type": "markdown",
     "metadata": {},
     "source": [
      " A train line has two stations on it, A and B. Trains can take trips from A to B or from B to A multiple times during a day. When a train arrives at B from A (or arrives at A from B), it needs a certain amount of time before it is ready to take the return journey - this is the turnaround time. For example, if a train arrives at 12:00 and the turnaround time is 0 minutes, it can leave immediately, at 12:00.\n",
      "\n",
      "A train timetable specifies departure and arrival time of all trips between A and B. The train company needs to know how many trains have to start the day at A and B in order to make the timetable work: whenever a train is supposed to leave A or B, there must actually be one there ready to go. There are passing sections on the track, so trains don't necessarily arrive in the same order that they leave. Trains may not travel on trips that do not appear on the schedule.\n",
      "\n",
      "Input\n",
      "\n",
      "The first line of input gives the number of cases, N. N test cases follow.\n",
      "\n",
      "Each case contains a number of lines. The first line is the turnaround time, T, in minutes. The next line has two numbers on it, NA and NB. NA is the number of trips from A to B, and NB is the number of trips from B to A. Then there are NA lines giving the details of the trips from A to B.\n",
      "\n",
      "Each line contains two fields, giving the HH:MM departure and arrival time for that trip. The departure time for each trip will be earlier than the arrival time. All arrivals and departures occur on the same day. The trips may appear in any order - they are not necessarily sorted by time. The hour and minute values are both two digits, zero-padded, and are on a 24-hour clock (00:00 through 23:59).\n",
      "\n",
      "After these NA lines, there are NB lines giving the departure and arrival times for the trips from B to A.\n",
      "\n",
      "Output\n",
      "For each test case, output one line containing \"Case #x: \" followed by the number of trains that must start at A and the number of trains that must start at B. "
     ]
    },
    {
     "cell_type": "code",
     "collapsed": false,
     "input": [
      "def time_to_mins(time):\n",
      "    hours, mins = [int(x) for x in time.split(\":\")]\n",
      "    return hours * 60 + mins\n",
      "\n",
      "from collections import namedtuple\n",
      "Node = namedtuple(\"Node\", [\"index\", \"station\"])"
     ],
     "language": "python",
     "metadata": {},
     "outputs": [],
     "prompt_number": 12
    },
    {
     "cell_type": "code",
     "collapsed": false,
     "input": [
      "def get_dep(node):\n",
      "    if node.station==\"a\":\n",
      "        return times_a[node.index]\n",
      "    return times_b[node.index]\n",
      "\n",
      "num_cases = int( input() )\n",
      "for case in range(num_cases):\n",
      "    turn_around_time = int( input() )\n",
      "    num_a, num_b = [int(x) for x in input().split()]\n",
      "    times_a = [tuple(time_to_mins(x) for x in input().split()) for _ in range(num_a)]\n",
      "    times_a.sort(key = lambda pair : pair[0])\n",
      "    times_b = [tuple(time_to_mins(x) for x in input().split()) for _ in range(num_b)]\n",
      "    times_b.sort(key = lambda pair : pair[0])\n",
      "    \n",
      "    # Identify \"nodes\" by (index, \"a\") or (index, \"b\")\n",
      "    edges = []\n",
      "    for index, (dep, arr) in enumerate(times_a):\n",
      "        links = [Node(i,\"b\") for i, pair in enumerate(times_b) if pair[0] >= arr + turn_around_time]\n",
      "        edges.append( (Node(index,\"a\"), links) )\n",
      "    for index, (dep, arr) in enumerate(times_b):\n",
      "        links = [Node(i,\"a\") for i, pair in enumerate(times_a) if pair[0] >= arr + turn_around_time]\n",
      "        edges.append( (Node(index,\"b\"), links) )\n",
      "    \n",
      "    edges.sort(key = lambda pair : get_dep(pair[0]))\n",
      "    visited = []\n",
      "    acount = 0\n",
      "    bcount = 0\n",
      "    for node, links in edges:\n",
      "        if node not in visited:\n",
      "            if node.station == \"a\":\n",
      "                acount += 1\n",
      "            else:\n",
      "                bcount += 1\n",
      "        # Walk down links and find first available not in visited.\n",
      "        for ld in links:\n",
      "            if ld not in visited:\n",
      "                visited.append(ld)\n",
      "                break\n",
      "                \n",
      "    print(\"Case #{}: {} {}\".format(case, acount, bcount))"
     ],
     "language": "python",
     "metadata": {},
     "outputs": []
    },
    {
     "cell_type": "markdown",
     "metadata": {},
     "source": [
      "The **mistake** I made: changed the design, and then the line\n",
      "\n",
      "    edges.sort(key = lambda triple : triple[0])\n",
      "    \n",
      "which is meant to sort on departure time, didn't make sense anymore!\n",
      "\n",
      "What we learn:\n",
      "\n",
      "   - Slow down\n",
      "   - Document complex instructions\n",
      "   - Write more structured code?"
     ]
    },
    {
     "cell_type": "code",
     "collapsed": false,
     "input": [],
     "language": "python",
     "metadata": {},
     "outputs": []
    }
   ],
   "metadata": {}
  }
 ]
}