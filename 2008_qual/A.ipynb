{
 "metadata": {
  "name": "",
  "signature": "sha256:311fb39f2e22580677f351990829c2d1172b2249b71097091243552850edbc6e"
 },
 "nbformat": 3,
 "nbformat_minor": 0,
 "worksheets": [
  {
   "cells": [
    {
     "cell_type": "heading",
     "level": 1,
     "metadata": {},
     "source": [
      "Qualification Round 2008, Problem A, Saving the Universe"
     ]
    },
    {
     "cell_type": "markdown",
     "metadata": {},
     "source": [
      " The urban legend goes that if you go to the Google homepage and search for \"Google\", the universe will implode. We have a secret to share... It is true! Please don't try it, or tell anyone. All right, maybe not. We are just kidding.\n",
      "\n",
      "The same is not true for a universe far far away. In that universe, if you search on any search engine for that search engine's name, the universe does implode!\n",
      "\n",
      "To combat this, people came up with an interesting solution. All queries are pooled together. They are passed to a central system that decides which query goes to which search engine. The central system sends a series of queries to one search engine, and can switch to another at any time. Queries must be processed in the order they're received. The central system must never send a query to a search engine whose name matches the query. In order to reduce costs, the number of switches should be minimized.\n",
      "\n",
      "Your task is to tell us how many times the central system will have to switch between search engines, assuming that we program it optimally.\n",
      "\n",
      "Input\n",
      "\n",
      "The first line of the input file contains the number of cases, N. N test cases follow.\n",
      "\n",
      "Each case starts with the number S -- the number of search engines. The next S lines each contain the name of a search engine. Each search engine name is no more than one hundred characters long and contains only uppercase letters, lowercase letters, spaces, and numbers. There will not be two search engines with the same name.\n",
      "\n",
      "The following line contains a number Q -- the number of incoming queries. The next Q lines will each contain a query. Each query will be the name of a search engine in the case.\n",
      "\n",
      "Output\n",
      "\n",
      "For each input case, you should output:\n",
      "\n",
      "Case #X: Y\n",
      "\n",
      "where X is the number of the test case and Y is the number of search engine switches. Do not count the initial choice of a search engine as a switch. "
     ]
    },
    {
     "cell_type": "code",
     "collapsed": false,
     "input": [
      "num_cases = int( input() )\n",
      "for case in range(num_cases):\n",
      "    num_search_engines = int( input() )\n",
      "    search_engines = [input() for _ in range(num_search_engines)]\n",
      "    num_queries = int( input() )\n",
      "    queries = []\n",
      "    for _ in range(num_queries):\n",
      "        name = input()\n",
      "        index = search_engines.index(name)\n",
      "        queries.append( index )\n",
      "\n",
      "    index = 0\n",
      "    swaps = 0\n",
      "    while True:\n",
      "        used = set()\n",
      "        while len(used) < num_search_engines and index < num_queries:\n",
      "            used.add( queries[index] )\n",
      "            index += 1\n",
      "        if index == num_queries:\n",
      "            break\n",
      "        # So last added index broke, so reduce to add again\n",
      "        index -= 1\n",
      "        swaps += 1\n",
      "    print(\"Case #{}: {}\".format(case+1, swaps))"
     ],
     "language": "python",
     "metadata": {},
     "outputs": [
      {
       "name": "stdout",
       "output_type": "stream",
       "stream": "stdout",
       "text": [
        "1\n"
       ]
      },
      {
       "name": "stdout",
       "output_type": "stream",
       "stream": "stdout",
       "text": [
        "as\n"
       ]
      },
      {
       "ename": "ValueError",
       "evalue": "invalid literal for int() with base 10: 'as'",
       "output_type": "pyerr",
       "traceback": [
        "\u001b[1;31m---------------------------------------------------------------------------\u001b[0m\n\u001b[1;31mValueError\u001b[0m                                Traceback (most recent call last)",
        "\u001b[1;32m<ipython-input-1-3ca539c2092b>\u001b[0m in \u001b[0;36m<module>\u001b[1;34m()\u001b[0m\n\u001b[0;32m      1\u001b[0m \u001b[0mnum_cases\u001b[0m \u001b[1;33m=\u001b[0m \u001b[0mint\u001b[0m\u001b[1;33m(\u001b[0m \u001b[0minput\u001b[0m\u001b[1;33m(\u001b[0m\u001b[1;33m)\u001b[0m \u001b[1;33m)\u001b[0m\u001b[1;33m\u001b[0m\u001b[0m\n\u001b[0;32m      2\u001b[0m \u001b[1;32mfor\u001b[0m \u001b[0mcase\u001b[0m \u001b[1;32min\u001b[0m \u001b[0mrange\u001b[0m\u001b[1;33m(\u001b[0m\u001b[0mnum_cases\u001b[0m\u001b[1;33m)\u001b[0m\u001b[1;33m:\u001b[0m\u001b[1;33m\u001b[0m\u001b[0m\n\u001b[1;32m----> 3\u001b[1;33m     \u001b[0mnum_search_engines\u001b[0m \u001b[1;33m=\u001b[0m \u001b[0mint\u001b[0m\u001b[1;33m(\u001b[0m \u001b[0minput\u001b[0m\u001b[1;33m(\u001b[0m\u001b[1;33m)\u001b[0m \u001b[1;33m)\u001b[0m\u001b[1;33m\u001b[0m\u001b[0m\n\u001b[0m\u001b[0;32m      4\u001b[0m     \u001b[0msearch_engines\u001b[0m \u001b[1;33m=\u001b[0m \u001b[1;33m[\u001b[0m\u001b[0minput\u001b[0m\u001b[1;33m(\u001b[0m\u001b[1;33m)\u001b[0m \u001b[1;32mfor\u001b[0m \u001b[0m_\u001b[0m \u001b[1;32min\u001b[0m \u001b[0mrange\u001b[0m\u001b[1;33m(\u001b[0m\u001b[0mnum_search_engines\u001b[0m\u001b[1;33m)\u001b[0m\u001b[1;33m]\u001b[0m\u001b[1;33m\u001b[0m\u001b[0m\n\u001b[0;32m      5\u001b[0m     \u001b[0mnum_queries\u001b[0m \u001b[1;33m=\u001b[0m \u001b[0mint\u001b[0m\u001b[1;33m(\u001b[0m \u001b[0minput\u001b[0m\u001b[1;33m(\u001b[0m\u001b[1;33m)\u001b[0m \u001b[1;33m)\u001b[0m\u001b[1;33m\u001b[0m\u001b[0m\n",
        "\u001b[1;31mValueError\u001b[0m: invalid literal for int() with base 10: 'as'"
       ]
      }
     ],
     "prompt_number": 1
    },
    {
     "cell_type": "code",
     "collapsed": false,
     "input": [],
     "language": "python",
     "metadata": {},
     "outputs": []
    }
   ],
   "metadata": {}
  }
 ]
}