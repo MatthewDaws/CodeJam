{
 "cells": [
  {
   "cell_type": "code",
   "execution_count": 145,
   "metadata": {
    "collapsed": false
   },
   "outputs": [
    {
     "name": "stdout",
     "output_type": "stream",
     "text": [
      "Trial data contains 20 sentences and 50 unique words.\n"
     ]
    }
   ],
   "source": [
    "# Make some trial data\n",
    "num_words = 50\n",
    "num_sentences = 20\n",
    "\n",
    "import itertools\n",
    "def takesome(iterable, number):\n",
    "    ret = []\n",
    "    index = 0\n",
    "    while index < number:\n",
    "        ret.append( next(iterable) )\n",
    "        index += 1\n",
    "    return ret\n",
    "\n",
    "#words = takesome(itertools.product(\"abcdefghijklmnopqrstuvwxyz\", repeat = 5), num_words)\n",
    "#words = [\"\".join(x) for x in words]\n",
    "words = [str(x) for x in range(num_words)]\n",
    "import random\n",
    "firstlen = min(1000, num_words//2)\n",
    "sentences = [random.sample(words, firstlen), random.sample(words, firstlen)]\n",
    "otherlen = min(10, num_words//3)\n",
    "sentences.extend( random.sample(words, otherlen) for _ in range(num_sentences - 2) )\n",
    "sentences = [\" \".join(x) for x in sentences]\n",
    "\n",
    "print(\"Trial data contains {} sentences and {} unique words.\".format(len(sentences),\n",
    "        len( set( w for sen in sentences for w in sen.split() )) ) )"
   ]
  },
  {
   "cell_type": "code",
   "execution_count": 146,
   "metadata": {
    "collapsed": false
   },
   "outputs": [
    {
     "data": {
      "text/plain": [
       "48"
      ]
     },
     "execution_count": 146,
     "metadata": {},
     "output_type": "execute_result"
    }
   ],
   "source": [
    "def solve_brute(sentences):\n",
    "    \"\"\"Brute force solution trying all assignments.\"\"\"\n",
    "    N = len(sentences) - 2\n",
    "    words = list(set( w for sen in sentences for w in sen.split() ))\n",
    "    # word_edges[i] = list of j such that words[i] in sentences[j]\n",
    "    word_edges = [ [ i for i, sen in enumerate(sentences) if w in sen.split() ] for w in words ]\n",
    "    minimal_both = -1\n",
    "    for n in range(2**N):\n",
    "        assignment = [0,1] + [ (n >>i ) & 1 for i in range(N) ]\n",
    "        both = [wi for wi, _ in enumerate(words)\n",
    "                if len(set( assignment[i] for i in word_edges[wi] )) > 1 ]\n",
    "        if minimal_both == -1 or minimal_both < len(both):\n",
    "            minimal_both = len(both)\n",
    "    return minimal_both\n",
    "\n",
    "solve_brute(sentences)"
   ]
  },
  {
   "cell_type": "code",
   "execution_count": null,
   "metadata": {
    "collapsed": true
   },
   "outputs": [],
   "source": [
    "def solve(sentences):\n",
    "    \"\"\"Solves using the graph theory idea.\"\"\"\n",
    "    words = list(set( w for sen in sentences for w in sen.split() ))\n",
    "    sen_edges = [ list(set( words.index(w) for w in sen.split() )) for sen in sentences ]\n",
    "    edges = []\n",
    "    "
   ]
  },
  {
   "cell_type": "code",
   "execution_count": null,
   "metadata": {
    "collapsed": true
   },
   "outputs": [],
   "source": []
  },
  {
   "cell_type": "code",
   "execution_count": 137,
   "metadata": {
    "collapsed": false
   },
   "outputs": [],
   "source": [
    "# Build graph\n",
    "# Input in `sentences`\n",
    "words = list(set( w for sen in sentences for w in sen.split() ))\n",
    "sen_edges = [ list(set( words.index(w) for w in sen.split() )) for sen in sentences ]\n",
    "# Build inverse list: word_edges[i] is those sentences which contain word i\n",
    "word_edges = [ [ i for i, sen in enumerate(sentences) if w in sen.split() ] for w in words ]"
   ]
  },
  {
   "cell_type": "code",
   "execution_count": 138,
   "metadata": {
    "collapsed": false
   },
   "outputs": [
    {
     "name": "stdout",
     "output_type": "stream",
     "text": [
      "['45 13 35 48 16 22 3 30 17 1 21 14 23 47 37 24 9 4 10 0 8 42 28 5 34', '9 11 36 26 49 4 34 5 45 1 27 38 30 28 46 7 42 8 10 13 6 23 40 16 20', '21 0 23 4 25 15 43 45 9 13', '35 3 37 42 38 46 24 43 16 1', '18 43 28 21 3 11 24 40 47 6', '3 26 5 37 46 29 28 12 13 43', '3 16 44 18 30 9 37 20 48 17', '26 19 16 22 33 8 13 28 4 47', '33 38 9 13 17 40 20 10 12 30', '35 34 37 38 4 5 16 13 36 28', '17 24 18 46 32 5 26 1 22 37', '14 0 31 46 16 40 10 17 20 4', '3 16 18 21 46 34 42 10 4 1', '29 38 10 5 36 12 48 41 13 17', '44 8 27 14 3 4 37 17 35 47', '49 17 45 41 19 21 26 40 4 28', '38 47 5 23 32 22 30 15 20 35', '10 7 32 26 3 6 35 37 12 39', '38 16 4 24 12 10 47 22 29 26', '5 7 20 12 28 21 48 30 1 41']\n",
      "['9', '27', '40', '41', '17', '23', '7', '30', '46', '11', '24', '37', '26', '5', '18', '29', '3', '32', '22', '45', '14', '20', '35', '4', '0', '6', '36', '49', '47', '16', '38', '39', '1', '28', '34', '19', '12', '31', '25', '43', '15', '33', '44', '48', '8', '13', '42', '10', '21']\n",
      "[[0, 4, 5, 7, 10, 11, 13, 16, 18, 19, 20, 22, 23, 24, 28, 29, 32, 33, 34, 43, 44, 45, 46, 47, 48], [0, 1, 2, 5, 6, 7, 8, 9, 12, 13, 19, 21, 23, 25, 26, 27, 29, 30, 32, 33, 34, 44, 45, 46, 47], [0, 5, 38, 39, 40, 45, 48, 19, 23, 24], [32, 39, 8, 10, 11, 46, 16, 22, 29, 30], [33, 2, 39, 9, 10, 14, 48, 16, 25, 28], [33, 36, 39, 8, 11, 12, 13, 45, 15, 16], [0, 4, 7, 42, 11, 43, 14, 16, 21, 29], [33, 35, 41, 12, 44, 45, 18, 23, 28, 29], [0, 2, 4, 36, 7, 41, 45, 47, 21, 30], [33, 34, 11, 13, 45, 22, 23, 26, 29, 30], [32, 4, 8, 10, 11, 12, 13, 14, 17, 18], [2, 4, 37, 8, 47, 20, 21, 23, 24, 29], [32, 34, 8, 14, 46, 16, 48, 47, 23, 29], [3, 36, 4, 43, 13, 45, 47, 15, 26, 30], [1, 4, 42, 11, 44, 16, 20, 22, 23, 28], [33, 2, 3, 4, 35, 12, 48, 19, 23, 27], [5, 7, 40, 13, 17, 18, 21, 22, 28, 30], [36, 6, 11, 12, 47, 16, 17, 22, 25, 31], [36, 10, 12, 47, 15, 18, 23, 28, 29, 30], [32, 33, 3, 36, 6, 7, 43, 13, 48, 21]]\n",
      "[[0, 1, 2, 6, 8], [1, 14], [1, 4, 8, 11, 15], [13, 15, 19], [0, 6, 8, 10, 11, 13, 14, 15], [0, 1, 2, 16], [1, 17, 19], [0, 1, 6, 8, 16, 19], [1, 3, 5, 10, 11, 12], [1, 4], [0, 3, 4, 10, 18], [0, 3, 5, 6, 9, 10, 14, 17], [1, 5, 7, 10, 15, 17, 18], [0, 1, 5, 9, 10, 13, 16, 19], [4, 6, 10, 12], [5, 13, 18], [0, 3, 4, 5, 6, 12, 14, 17], [10, 16, 17], [0, 7, 10, 16, 18], [0, 1, 2, 15], [0, 11, 14], [1, 6, 8, 11, 16, 19], [0, 3, 9, 14, 16, 17], [0, 1, 2, 7, 9, 11, 12, 14, 15, 18], [0, 2, 11], [1, 4, 17], [1, 9, 13], [1, 15], [0, 4, 7, 14, 16, 18], [0, 1, 3, 6, 7, 9, 11, 12, 18], [1, 3, 8, 9, 13, 16, 18], [17], [0, 1, 3, 10, 12, 19], [0, 1, 4, 5, 7, 9, 15, 19], [0, 1, 9, 12], [7, 15], [5, 8, 13, 17, 18, 19], [11], [2], [2, 3, 4, 5], [2, 16], [7, 8], [6, 14], [0, 6, 13, 19], [0, 1, 7, 14], [0, 1, 2, 5, 7, 8, 9, 13], [0, 1, 3, 12], [0, 1, 8, 11, 12, 13, 17, 18], [0, 2, 4, 12, 15, 19]]\n"
     ]
    }
   ],
   "source": [
    "print(sentences)\n",
    "print(words)\n",
    "print(sen_edges)\n",
    "print(word_edges)"
   ]
  },
  {
   "cell_type": "code",
   "execution_count": 139,
   "metadata": {
    "collapsed": false
   },
   "outputs": [],
   "source": [
    "# Very simple\n",
    "# To optimise, we could keep a local copy of word_edges and trim it each time we\n",
    "#   add an assignment, as if a word is in both languages, we don't care about it anymore.\n",
    "#   Should also keep local copy of sen_edges and trim that as well when we remove words.\n",
    "class WordGraph:\n",
    "    def __init__(self):\n",
    "        self.assignment = {0:0, 1:1}\n",
    "        \n",
    "    def next_unassigned(self):\n",
    "        return 1 + max(self.assignment.keys())\n",
    "        \n",
    "    def done(self):\n",
    "        if len(self.assignment) != num_sentences:\n",
    "            return -1\n",
    "        return sum( len(set( self.assignment[i] for i in we )) == 1 for we in word_edges )\n",
    "        \n",
    "    def options_for_sentence(self, sen_num):\n",
    "        linked = [j for i in sen_edges[sen_num] for j in word_edges[i] ]\n",
    "        for j in linked:\n",
    "            if j not in self.assignment:\n",
    "                return [0, 1]\n",
    "        zerocount = len([j for j in linked if self.assignment[j] == 0])\n",
    "        onecount = len([j for j in linked if self.assignment[j] == 1])\n",
    "        if zerocount >= onecount:\n",
    "            return [0]\n",
    "        return [1]\n",
    "    \n",
    "    def make_split(self, sen_num, assign):\n",
    "        ret = WordGraph()\n",
    "        ret.assignment = dict(self.assignment)\n",
    "        ret.assignment[sen_num] = assign\n",
    "        return ret"
   ]
  },
  {
   "cell_type": "code",
   "execution_count": 140,
   "metadata": {
    "collapsed": false
   },
   "outputs": [
    {
     "name": "stdout",
     "output_type": "stream",
     "text": [
      "24 {0: 0, 1: 1, 2: 1, 3: 1, 4: 1, 5: 1, 6: 1, 7: 1, 8: 1, 9: 1, 10: 1, 11: 1, 12: 1, 13: 1, 14: 1, 15: 1, 16: 1, 17: 1, 18: 1, 19: 1}\n",
      "24 {0: 0, 1: 1, 2: 0, 3: 0, 4: 0, 5: 0, 6: 0, 7: 0, 8: 0, 9: 0, 10: 0, 11: 0, 12: 0, 13: 0, 14: 0, 15: 0, 16: 0, 17: 0, 18: 0, 19: 0}\n"
     ]
    }
   ],
   "source": [
    "todo = [WordGraph()]\n",
    "best = -1\n",
    "while len(todo) > 0:\n",
    "    assignment = todo.pop()\n",
    "    count = assignment.done()\n",
    "    if count > -1:\n",
    "        if count >= best:\n",
    "            best = count\n",
    "            best_assignment = dict(assignment.assignment)\n",
    "            print(best, assignment.assignment)\n",
    "        continue\n",
    "    sn = assignment.next_unassigned()\n",
    "    for x in assignment.options_for_sentence(sn):\n",
    "        todo.append( assignment.make_split(sn, x) )"
   ]
  },
  {
   "cell_type": "code",
   "execution_count": 141,
   "metadata": {
    "collapsed": false
   },
   "outputs": [
    {
     "data": {
      "text/plain": [
       "(24,\n",
       " {0: 0,\n",
       "  1: 1,\n",
       "  2: 0,\n",
       "  3: 0,\n",
       "  4: 0,\n",
       "  5: 0,\n",
       "  6: 0,\n",
       "  7: 0,\n",
       "  8: 0,\n",
       "  9: 0,\n",
       "  10: 0,\n",
       "  11: 0,\n",
       "  12: 0,\n",
       "  13: 0,\n",
       "  14: 0,\n",
       "  15: 0,\n",
       "  16: 0,\n",
       "  17: 0,\n",
       "  18: 0,\n",
       "  19: 0},\n",
       " ['45 13 35 48 16 22 3 30 17 1 21 14 23 47 37 24 9 4 10 0 8 42 28 5 34',\n",
       "  '9 11 36 26 49 4 34 5 45 1 27 38 30 28 46 7 42 8 10 13 6 23 40 16 20',\n",
       "  '21 0 23 4 25 15 43 45 9 13',\n",
       "  '35 3 37 42 38 46 24 43 16 1',\n",
       "  '18 43 28 21 3 11 24 40 47 6',\n",
       "  '3 26 5 37 46 29 28 12 13 43',\n",
       "  '3 16 44 18 30 9 37 20 48 17',\n",
       "  '26 19 16 22 33 8 13 28 4 47',\n",
       "  '33 38 9 13 17 40 20 10 12 30',\n",
       "  '35 34 37 38 4 5 16 13 36 28',\n",
       "  '17 24 18 46 32 5 26 1 22 37',\n",
       "  '14 0 31 46 16 40 10 17 20 4',\n",
       "  '3 16 18 21 46 34 42 10 4 1',\n",
       "  '29 38 10 5 36 12 48 41 13 17',\n",
       "  '44 8 27 14 3 4 37 17 35 47',\n",
       "  '49 17 45 41 19 21 26 40 4 28',\n",
       "  '38 47 5 23 32 22 30 15 20 35',\n",
       "  '10 7 32 26 3 6 35 37 12 39',\n",
       "  '38 16 4 24 12 10 47 22 29 26',\n",
       "  '5 7 20 12 28 21 48 30 1 41'])"
      ]
     },
     "execution_count": 141,
     "metadata": {},
     "output_type": "execute_result"
    }
   ],
   "source": [
    "best, best_assignment, sentences"
   ]
  },
  {
   "cell_type": "code",
   "execution_count": 142,
   "metadata": {
    "collapsed": false
   },
   "outputs": [],
   "source": [
    "zero_words = list(set( int(x) for i, sen in enumerate(sentences) for x in sen.split() if best_assignment[i]==0 ))\n",
    "zero_words.sort()\n",
    "one_words = list(set( int(x) for i, sen in enumerate(sentences) for x in sen.split() if best_assignment[i]==1 ))\n",
    "one_words.sort()"
   ]
  },
  {
   "cell_type": "code",
   "execution_count": 143,
   "metadata": {
    "collapsed": false
   },
   "outputs": [
    {
     "data": {
      "text/plain": [
       "([0,\n",
       "  1,\n",
       "  3,\n",
       "  4,\n",
       "  5,\n",
       "  6,\n",
       "  7,\n",
       "  8,\n",
       "  9,\n",
       "  10,\n",
       "  11,\n",
       "  12,\n",
       "  13,\n",
       "  14,\n",
       "  15,\n",
       "  16,\n",
       "  17,\n",
       "  18,\n",
       "  19,\n",
       "  20,\n",
       "  21,\n",
       "  22,\n",
       "  23,\n",
       "  24,\n",
       "  25,\n",
       "  26,\n",
       "  27,\n",
       "  28,\n",
       "  29,\n",
       "  30,\n",
       "  31,\n",
       "  32,\n",
       "  33,\n",
       "  34,\n",
       "  35,\n",
       "  36,\n",
       "  37,\n",
       "  38,\n",
       "  39,\n",
       "  40,\n",
       "  41,\n",
       "  42,\n",
       "  43,\n",
       "  44,\n",
       "  45,\n",
       "  46,\n",
       "  47,\n",
       "  48,\n",
       "  49],\n",
       " [1,\n",
       "  4,\n",
       "  5,\n",
       "  6,\n",
       "  7,\n",
       "  8,\n",
       "  9,\n",
       "  10,\n",
       "  11,\n",
       "  13,\n",
       "  16,\n",
       "  20,\n",
       "  23,\n",
       "  26,\n",
       "  27,\n",
       "  28,\n",
       "  30,\n",
       "  34,\n",
       "  36,\n",
       "  38,\n",
       "  40,\n",
       "  42,\n",
       "  45,\n",
       "  46,\n",
       "  49])"
      ]
     },
     "execution_count": 143,
     "metadata": {},
     "output_type": "execute_result"
    }
   ],
   "source": [
    "zero_words, one_words"
   ]
  },
  {
   "cell_type": "code",
   "execution_count": 144,
   "metadata": {
    "collapsed": false
   },
   "outputs": [
    {
     "data": {
      "text/plain": [
       "{0,\n",
       " 3,\n",
       " 12,\n",
       " 14,\n",
       " 15,\n",
       " 17,\n",
       " 18,\n",
       " 19,\n",
       " 21,\n",
       " 22,\n",
       " 24,\n",
       " 25,\n",
       " 29,\n",
       " 31,\n",
       " 32,\n",
       " 33,\n",
       " 35,\n",
       " 37,\n",
       " 39,\n",
       " 41,\n",
       " 43,\n",
       " 44,\n",
       " 47,\n",
       " 48}"
      ]
     },
     "execution_count": 144,
     "metadata": {},
     "output_type": "execute_result"
    }
   ],
   "source": [
    "set(zero_words).symmetric_difference(set(one_words))"
   ]
  },
  {
   "cell_type": "code",
   "execution_count": null,
   "metadata": {
    "collapsed": true
   },
   "outputs": [],
   "source": []
  }
 ],
 "metadata": {
  "kernelspec": {
   "display_name": "Python 3",
   "language": "python",
   "name": "python3"
  },
  "language_info": {
   "codemirror_mode": {
    "name": "ipython",
    "version": 3
   },
   "file_extension": ".py",
   "mimetype": "text/x-python",
   "name": "python",
   "nbconvert_exporter": "python",
   "pygments_lexer": "ipython3",
   "version": "3.4.3"
  }
 },
 "nbformat": 4,
 "nbformat_minor": 0
}
