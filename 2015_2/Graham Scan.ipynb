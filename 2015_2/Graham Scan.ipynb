{
 "cells": [
  {
   "cell_type": "markdown",
   "metadata": {},
   "source": [
    "Implementation of the Graham Scan algorithm.\n",
    "\n",
    "Sources:\n",
    "    \n",
    "    - https://en.wikipedia.org/wiki/Graham_scan  (Not 100% clear to me)\n",
    "    - http://www.dcs.gla.ac.uk/~pat/52233/slides/Hull1x1.pdf"
   ]
  },
  {
   "cell_type": "code",
   "execution_count": 1,
   "metadata": {
    "collapsed": true
   },
   "outputs": [],
   "source": [
    "%matplotlib inline\n",
    "import matplotlib.pyplot as plt"
   ]
  },
  {
   "cell_type": "markdown",
   "metadata": {},
   "source": [
    "We want to sort a set of points in the upper half plane by the angle the point makes with the +ve x-axis.\n",
    "\n",
    "Thus (x1,y1) <= (x2,y2) if decided by:\n",
    "\n",
    "   - x1 >= 0 and x2 < 0\n",
    "   - x2 ==0 and x1 > 0\n",
    "   - if x1, x2 == 0 then y1 <= y2\n",
    "   - if x1, x2 > 0 then y1/x1 <= y2/x2\n",
    "   - and if y1/x1 == y2/x2 then x1 <= x2\n",
    "   - and finally if x1, x2 < 0 then iff (-x1,y1) >= (-x2,y2)"
   ]
  },
  {
   "cell_type": "code",
   "execution_count": 33,
   "metadata": {
    "collapsed": false
   },
   "outputs": [
    {
     "data": {
      "text/plain": [
       "True"
      ]
     },
     "execution_count": 33,
     "metadata": {},
     "output_type": "execute_result"
    }
   ],
   "source": [
    "class UpperHalfPlanePoint:\n",
    "    def __init__(self, x, y):\n",
    "        self.x, self.y = x, y\n",
    "        \n",
    "    def __repr__(self):\n",
    "        return \"UpperHalfPlanePoint({},{})\".format(self.x, self.y)\n",
    "        \n",
    "    def __le__(self, rhs):\n",
    "        # Special case is that (0,0) is the \"smallest\", so effectively (infty, 0)\n",
    "        if self.x == 0 and self.y == 0:\n",
    "            return True\n",
    "        if rhs.x == 0 and rhs.y == 0:\n",
    "            return False\n",
    "        if rhs.x < 0:\n",
    "            if self.x < 0:\n",
    "                return UpperHalfPlanePoint(-rhs.x, rhs.y) <= UpperHalfPlanePoint(-self.x, self.y)\n",
    "            return True\n",
    "        if rhs.x == 0:\n",
    "            if self.x > 0:\n",
    "                return True\n",
    "            if self.x < 0:\n",
    "                return False\n",
    "            return self.y <= rhs.y\n",
    "        # So now rhs.x > 0\n",
    "        if self.x <= 0:\n",
    "            return False\n",
    "        #slope1 = self.y / self.x\n",
    "        #slope2 = rhs.y / rhs.x\n",
    "        #if slope1 < slope2:\n",
    "        #    return True\n",
    "        #if slope1 > slope2:\n",
    "        #    return False\n",
    "        if self.y * rhs.x < rhs.y * self.x:\n",
    "            return True\n",
    "        if self.y * rhs.x > rhs.y * self.x:\n",
    "            return False\n",
    "        return self.x <= rhs.x\n",
    "        \n",
    "    def __eq__(self, rhs):\n",
    "        return self <= rhs and rhs <= self\n",
    "    \n",
    "    def __ge__(self, rhs):\n",
    "        return rhs <= self\n",
    "    \n",
    "    def __lt__(self, rhs):\n",
    "        return self <= rhs and not rhs <= self\n",
    "    \n",
    "    def __gt__(self, rhs):\n",
    "        return rhs < self\n",
    "    \n",
    "    def __ne__(self, rhs):\n",
    "        return not self <= rhs or not rhs <= self\n",
    "    \n",
    "UpperHalfPlanePoint(0,1) <= UpperHalfPlanePoint(-1,-1)"
   ]
  },
  {
   "cell_type": "code",
   "execution_count": 165,
   "metadata": {
    "collapsed": false
   },
   "outputs": [],
   "source": [
    "from collections import namedtuple\n",
    "Point = namedtuple(\"Point\", [\"x\", \"y\"])\n",
    "\n",
    "def colinear(one, two, three):\n",
    "    \"\"\"Considers the vectors from one--two and one--three.  Returns:\n",
    "    0 to indicate colinear\n",
    "    -ve to indicate three lies on the right of the half-plane from one to two.\n",
    "    +ve shows on the left.\"\"\"\n",
    "    return (two.x-one.x) * (three.y-one.y) - (two.y-one.y) * (three.x-one.x)\n",
    "\n",
    "def FindExtremePoints(points, leaveColinear = True):\n",
    "    lowerLeft = points[0]\n",
    "    for point in points:\n",
    "        if point.y < lowerLeft.y or ( point.y == lowerLeft.y and point.x < lowerLeft.x ):\n",
    "            lowerLeft = point\n",
    "    inUHP = [ UpperHalfPlanePoint(pt.x - lowerLeft.x, pt.y - lowerLeft.y) for pt in points ]\n",
    "    inUHP.sort()\n",
    "    #print(points, \"-->\", lowerLeft)\n",
    "    #print(inUHP)\n",
    "    # Need to check for repeated points\n",
    "    uniques = [inUHP[0]]\n",
    "    index = 1\n",
    "    for index in range(1, len(inUHP)):\n",
    "        if inUHP[index] != inUHP[index - 1]:\n",
    "            uniques.append(inUHP[index])\n",
    "    inUHP = uniques\n",
    "    if len(inUHP) <= 2:\n",
    "        return [ Point(pt.x + lowerLeft.x, pt.y + lowerLeft.y) for pt in inUHP ]\n",
    "    # Now implement the Graham Scan algorithm\n",
    "    convexHull = [inUHP[0], inUHP[1], inUHP[2]]\n",
    "    index = 3\n",
    "    while True:\n",
    "        #direction = ( (convexHull[-2].x - convexHull[-3].x) * (convexHull[-1].y - convexHull[-3].y)\n",
    "        #             - (convexHull[-2].y - convexHull[-3].y) * (convexHull[-1].x - convexHull[-3].x) )\n",
    "        direction = colinear(convexHull[-3], convexHull[-2], convexHull[-1])\n",
    "        if direction < 0 or (leaveColinear == False and direction == 0):\n",
    "            # Right turn, so reject -2 point\n",
    "            #print(convexHull[-3], convexHull[-2], convexHull[-1], \"Right\")\n",
    "            del convexHull[-2]\n",
    "            #newBack = convexHull.pop()\n",
    "            #convexHull.pop()\n",
    "            #convexHull.append(newBack)\n",
    "            # If we delete colinears then possible to run out of points!\n",
    "            if len(convexHull) < 3:\n",
    "                if index == len(inUHP):\n",
    "                    break\n",
    "                convexHull.append( inUHP[index] )\n",
    "                index += 1\n",
    "        else:\n",
    "            #print(convexHull[-3], convexHull[-2], convexHull[-1], \"Left\")\n",
    "            if index == len(inUHP):\n",
    "                break\n",
    "            convexHull.append( inUHP[index] )\n",
    "            index += 1\n",
    "\n",
    "    return [ Point(pt.x + lowerLeft.x, pt.y + lowerLeft.y) for pt in convexHull ]"
   ]
  },
  {
   "cell_type": "code",
   "execution_count": 166,
   "metadata": {
    "collapsed": false
   },
   "outputs": [
    {
     "name": "stdout",
     "output_type": "stream",
     "text": [
      "[Point(x=0, y=0), Point(x=2, y=2)]\n",
      "[Point(x=0, y=0), Point(x=1, y=1), Point(x=2, y=2)]\n",
      "[Point(x=0, y=0), Point(x=2, y=2)]\n",
      "[Point(x=0, y=0), Point(x=1, y=1), Point(x=2, y=2), Point(x=3, y=3)]\n",
      "[Point(x=0, y=0), Point(x=3, y=3)]\n",
      "[Point(x=0, y=0), Point(x=1, y=1), Point(x=2, y=2), Point(x=3, y=3), Point(x=0, y=5)]\n",
      "[Point(x=0, y=0), Point(x=3, y=3), Point(x=0, y=5)]\n"
     ]
    }
   ],
   "source": [
    "# So difficult corner cases!\n",
    "print(FindExtremePoints([Point(0,0), Point(2,2)]))\n",
    "print(FindExtremePoints([Point(0,0), Point(2,2), Point(1,1)]))\n",
    "print(FindExtremePoints([Point(0,0), Point(2,2), Point(1,1)], False))\n",
    "print(FindExtremePoints([Point(0,0), Point(2,2), Point(1,1), Point(3,3)]))\n",
    "print(FindExtremePoints([Point(0,0), Point(2,2), Point(1,1), Point(3,3)], False))\n",
    "print(FindExtremePoints([Point(0,0), Point(2,2), Point(1,1), Point(3,3), Point(0,5)]))\n",
    "print(FindExtremePoints([Point(0,0), Point(2,2), Point(1,1), Point(3,3), Point(0,5)], False))"
   ]
  },
  {
   "cell_type": "code",
   "execution_count": 170,
   "metadata": {
    "collapsed": false
   },
   "outputs": [
    {
     "data": {
      "text/plain": [
       "[<matplotlib.lines.Line2D at 0xe383f98>]"
      ]
     },
     "execution_count": 170,
     "metadata": {},
     "output_type": "execute_result"
    },
    {
     "data": {
      "image/png": "[encoded data removed]",
      "text/plain": [
       "<matplotlib.figure.Figure at 0xe342860>"
      ]
     },
     "metadata": {},
     "output_type": "display_data"
    }
   ],
   "source": [
    "import random\n",
    "points = [Point(random.randrange(10), random.randrange(10)) for _ in range(15)]\n",
    "extpts = FindExtremePoints( points, False )\n",
    "fig, ax = plt.subplots()\n",
    "ax.scatter([pt.x for pt in points], [pt.y for pt in points], color = \"green\")\n",
    "ax.scatter([pt.x for pt in extpts], [pt.y for pt in extpts], color = \"blue\")\n",
    "for i in range(len(extpts)-1):\n",
    "    ax.plot( [extpts[i].x, extpts[i+1].x], [extpts[i].y, extpts[i+1].y], color = \"black\" )\n",
    "ax.plot( [extpts[-1].x, extpts[0].x], [extpts[-1].y, extpts[0].y], color = \"black\" )"
   ]
  },
  {
   "cell_type": "markdown",
   "metadata": {},
   "source": [
    "# Application to 2D Linear Programming"
   ]
  },
  {
   "cell_type": "code",
   "execution_count": 197,
   "metadata": {
    "collapsed": false
   },
   "outputs": [
    {
     "data": {
      "text/plain": [
       "[Point(x=0, y=0),\n",
       " Point(x=40.0, y=2.0),\n",
       " Point(x=340.0, y=97.0),\n",
       " Point(x=360.0, y=147.0),\n",
       " Point(x=370.0, y=177.0),\n",
       " Point(x=330.0, y=175.0),\n",
       " Point(x=30.0, y=80.0),\n",
       " Point(x=10.0, y=30.0)]"
      ]
     },
     "execution_count": 197,
     "metadata": {},
     "output_type": "execute_result"
    },
    {
     "data": {
      "image/png": "[encoded data removed]",
      "text/plain": [
       "<matplotlib.figure.Figure at 0xd1ca1d0>"
      ]
     },
     "metadata": {},
     "output_type": "display_data"
    }
   ],
   "source": [
    "data = [\n",
    "[10.0000, 30.0000],\n",
    "[20.0000, 50.0000],\n",
    "[300.0000, 95.0000],\n",
    "[40.0000, 2.0000] ]\n",
    "\n",
    "points = []\n",
    "for n in range(2**len(data)):\n",
    "    t = [ (n>>i)&1 for i in range(len(data)) ]\n",
    "    x = sum(ti * pair[0] for ti, pair in zip(t,data))\n",
    "    y = sum(ti * pair[1] for ti, pair in zip(t,data))\n",
    "    points.append(Point(x,y))\n",
    "\n",
    "extpts = [Point(0,0)]\n",
    "for (x,y) in data:\n",
    "    pt = Point(x, y)\n",
    "    points = extpts[:] + [Point(p.x + pt.x, p.y + pt.y) for p in extpts]\n",
    "    extpts = FindExtremePoints( points, False )\n",
    "    \n",
    "fig, ax = plt.subplots()\n",
    "ax.scatter([pt.x for pt in points], [pt.y for pt in points], color = \"green\")\n",
    "ax.scatter([pt.x for pt in extpts], [pt.y for pt in extpts], color = \"blue\")\n",
    "for i in range(len(extpts)-1):\n",
    "    ax.plot( [extpts[i].x, extpts[i+1].x], [extpts[i].y, extpts[i+1].y], color = \"black\" )\n",
    "ax.plot( [extpts[-1].x, extpts[0].x], [extpts[-1].y, extpts[0].y], color = \"black\" )\n",
    "extpts"
   ]
  },
  {
   "cell_type": "code",
   "execution_count": 200,
   "metadata": {
    "collapsed": false
   },
   "outputs": [
    {
     "data": {
      "text/plain": [
       "([Point(x=0, y=0),\n",
       "  Point(x=40.0, y=80.0),\n",
       "  Point(x=50.0, y=380.0),\n",
       "  Point(x=70.0, y=1380.0),\n",
       "  Point(x=370.0, y=29880.0),\n",
       "  Point(x=330.0, y=29800.0),\n",
       "  Point(x=320.0, y=29500.0),\n",
       "  Point(x=300.0, y=28500.0)],\n",
       " Point(x=50.0, y=3750.0))"
      ]
     },
     "execution_count": 200,
     "metadata": {},
     "output_type": "execute_result"
    },
    {
     "data": {
      "image/png": "[encoded data removed]",
      "text/plain": [
       "<matplotlib.figure.Figure at 0xe7c0a20>"
      ]
     },
     "metadata": {},
     "output_type": "display_data"
    }
   ],
   "source": [
    "data = [\n",
    "[10.0000, 30.0000],\n",
    "[20.0000, 50.0000],\n",
    "[300.0000, 95.0000],\n",
    "[40.0000, 2.0000] ]\n",
    "data = [ [pair[0], pair[0]*pair[1]] for pair in data ]\n",
    "extpts = [Point(0,0)]\n",
    "for (x,y) in data:\n",
    "    pt = Point(x, y)\n",
    "    points = extpts[:] + [Point(p.x + pt.x, p.y + pt.y) for p in extpts]\n",
    "    extpts = FindExtremePoints( points, False )\n",
    "\n",
    "aim = [5000.0000, 75.0000]\n",
    "aim = [aim[0], aim[0] * aim[1]]\n",
    "scale = 100\n",
    "aim = Point(aim[0] / scale, aim[1] / scale)\n",
    "\n",
    "fig, ax = plt.subplots()\n",
    "ax.scatter([pt.x for pt in extpts], [pt.y for pt in extpts], color = \"blue\")\n",
    "for i in range(len(extpts)-1):\n",
    "    ax.plot( [extpts[i].x, extpts[i+1].x], [extpts[i].y, extpts[i+1].y], color = \"black\" )\n",
    "ax.plot( [extpts[-1].x, extpts[0].x], [extpts[-1].y, extpts[0].y], color = \"black\" )\n",
    "ax.plot( [0, aim[0]], [0, aim[1]], color = \"green\" )\n",
    "extpts, aim"
   ]
  },
  {
   "cell_type": "code",
   "execution_count": 208,
   "metadata": {
    "collapsed": false
   },
   "outputs": [
    {
     "name": "stdout",
     "output_type": "stream",
     "text": [
      "0.6\n"
     ]
    }
   ],
   "source": [
    "def IntersectSegmentVector(seg0, seg1, vec):\n",
    "    \"\"\"Finds if the line segment from `seg0` to `seg1` intersects the\n",
    "    half-line in the direction of `vec`.  Returns the value of t>0 with\n",
    "    vec / t in the line segment, or 0.\"\"\"\n",
    "    det = (seg1.x - seg0.x) * vec.y - (seg1.y - seg0.y) * vec.x\n",
    "    if det == 0:\n",
    "        if vec.x * seg0.y == vec.y * seg0.x:\n",
    "            if seg0.x == 0:\n",
    "                if seg1.x == 0:\n",
    "                    return 0\n",
    "                return vec.x / seg1.x\n",
    "            if seg1.x == 0:\n",
    "                return vec.x / seg0.x\n",
    "            return min( vec.x / seg0.x, vec.x / seg1.x )\n",
    "        return 0\n",
    "    s = (vec.y * seg1.x - vec.x * seg1.y) / det\n",
    "    if s < 0 or s > 1:\n",
    "        return 0\n",
    "    invt = ( (seg0.y - seg1.y) * seg1.x - (seg0.x - seg1.x) * seg1.y ) / det\n",
    "    if invt <= 0:\n",
    "        return 0\n",
    "    return 1 / invt\n",
    "\n",
    "print( IntersectSegmentVector(Point(0.2,0.8), Point(1,1), Point(0.2,0.5)) )"
   ]
  },
  {
   "cell_type": "code",
   "execution_count": 184,
   "metadata": {
    "collapsed": false
   },
   "outputs": [],
   "source": [
    "def FindMinScale(convexHull, vector):\n",
    "    \"\"\"Input: convexHull is a list of extreme points of a convex set.\n",
    "    Assumes convexHull[0] = Point(0,0) and ordering is counter-clockwise.\n",
    "    Find the minimal t so that vector / t is in convexHull\n",
    "    Returns 0 if t = infinity is the answer.\"\"\"\n",
    "    if colinear(convexHull[0], convexHull[1], vector) < 0:\n",
    "        return 0\n",
    "    if colinear(convexHull[0], convexHull[-1], vector) > 0:\n",
    "        return 0\n",
    "    t = 0\n",
    "    for i in range(len(convexHull)-1):\n",
    "        tnew = IntersectSegmentVector( convexHull[i], convexHull[i+1], vector)\n",
    "        if tnew != 0 and ( t == 0 or tnew < t ):\n",
    "            t = tnew\n",
    "    tnew = IntersectSegmentVector( convexHull[-1], convexHull[0], vector)\n",
    "    if tnew != 0 and ( t == 0 or tnew < t ):\n",
    "        t = tnew\n",
    "    return t"
   ]
  },
  {
   "cell_type": "code",
   "execution_count": 202,
   "metadata": {
    "collapsed": false
   },
   "outputs": [
    {
     "data": {
      "text/plain": [
       "18.975332068311197"
      ]
     },
     "execution_count": 202,
     "metadata": {},
     "output_type": "execute_result"
    }
   ],
   "source": [
    "aim = [5000.0000, 75.0000]\n",
    "aim = [aim[0], aim[0] * aim[1]]\n",
    "FindMinScale(extpts, Point(aim[0], aim[1]))"
   ]
  },
  {
   "cell_type": "markdown",
   "metadata": {},
   "source": [
    "## Hard Case"
   ]
  },
  {
   "cell_type": "code",
   "execution_count": 210,
   "metadata": {
    "collapsed": false
   },
   "outputs": [
    {
     "data": {
      "text/plain": [
       "([Point(x=0, y=0),\n",
       "  Point(x=0.0001, y=0.008839830000000002),\n",
       "  Point(x=100.0, y=8839.83999999),\n",
       "  Point(x=99.9999, y=8839.83116016)],\n",
       " Point(x=100.0, y=8839.83))"
      ]
     },
     "execution_count": 210,
     "metadata": {},
     "output_type": "execute_result"
    },
    {
     "data": {
      "image/png": "[encoded data removed]",
      "text/plain": [
       "<matplotlib.figure.Figure at 0xe353e10>"
      ]
     },
     "metadata": {},
     "output_type": "display_data"
    }
   ],
   "source": [
    "aim = [100.0000, 88.3983]\n",
    "data = [\n",
    "[0.0001, 88.3983],\n",
    "[99.9999, 88.3984] ]\n",
    "\n",
    "#aim = [1000000, 883983]\n",
    "#data = [ [1, 883983], [999999, 883984] ]\n",
    "\n",
    "\n",
    "data = [ [pair[0], pair[0]*pair[1]] for pair in data ]\n",
    "extpts = [Point(0,0)]\n",
    "for (x,y) in data:\n",
    "    pt = Point(x, y)\n",
    "    points = extpts[:] + [Point(p.x + pt.x, p.y + pt.y) for p in extpts]\n",
    "    extpts = FindExtremePoints( points, False )\n",
    "\n",
    "aim = [aim[0], aim[0] * aim[1]]\n",
    "scale = 1\n",
    "aim = Point(aim[0] / scale, aim[1] / scale)\n",
    "\n",
    "fig, ax = plt.subplots()\n",
    "ax.scatter([pt.x for pt in extpts], [pt.y for pt in extpts], color = \"blue\")\n",
    "for i in range(len(extpts)-1):\n",
    "    ax.plot( [extpts[i].x, extpts[i+1].x], [extpts[i].y, extpts[i+1].y], color = \"black\" )\n",
    "ax.plot( [extpts[-1].x, extpts[0].x], [extpts[-1].y, extpts[0].y], color = \"black\" )\n",
    "ax.plot( [0, aim[0]], [0, aim[1]], color = \"green\" )\n",
    "extpts, aim"
   ]
  },
  {
   "cell_type": "code",
   "execution_count": 211,
   "metadata": {
    "collapsed": false
   },
   "outputs": [
    {
     "data": {
      "text/plain": [
       "0"
      ]
     },
     "execution_count": 211,
     "metadata": {},
     "output_type": "execute_result"
    }
   ],
   "source": [
    "FindMinScale(extpts, Point(aim[0], aim[1]))"
   ]
  },
  {
   "cell_type": "markdown",
   "metadata": {},
   "source": [
    "## Convert to integers\n",
    "\n",
    "My convex hull finding code will work with just integers, which preserves accuracy.  So, if we can convert the input to integers, we have won, in some sense."
   ]
  },
  {
   "cell_type": "code",
   "execution_count": 229,
   "metadata": {
    "collapsed": false
   },
   "outputs": [
    {
     "data": {
      "text/plain": [
       "[1200100, 504200, 751123]"
      ]
     },
     "execution_count": 229,
     "metadata": {},
     "output_type": "execute_result"
    }
   ],
   "source": [
    "def ScaleFloats(data):\n",
    "    \"\"\"Pass a list of floating point numbers, as strings of the from \"12\" or \"5.2300\"\n",
    "    but _not_ exponential format.  Finds a power of 10 to multiply them all by so they\n",
    "    become integers, and returns this list of integers.\"\"\"\n",
    "    dataParts = [ x.split(\".\") for x in data ]\n",
    "    scalePower = [len(x[1]) for x in dataParts if len(x) > 1]\n",
    "    scalePower = max(scalePower) if len(scalePower) > 0 else 0\n",
    "    newData = []\n",
    "    for x in dataParts:\n",
    "        b = x[1] if len(x) > 1 else \"\"\n",
    "        b = b + \"0\"*(scalePower - len(b))\n",
    "        newData.append( int(x[0] + b) )\n",
    "    return newData\n",
    "\n",
    "ScaleFloats([\"12.00100\", \"5.042\", \"07.51123\"])"
   ]
  },
  {
   "cell_type": "code",
   "execution_count": 1,
   "metadata": {
    "collapsed": false
   },
   "outputs": [
    {
     "data": {
      "text/plain": [
       "[0, 1, 2, 3, 4, 5, 6, 7, 8, 9]"
      ]
     },
     "execution_count": 1,
     "metadata": {},
     "output_type": "execute_result"
    }
   ],
   "source": [
    "x=list(range(10))\n",
    "x"
   ]
  },
  {
   "cell_type": "code",
   "execution_count": 3,
   "metadata": {
    "collapsed": false
   },
   "outputs": [
    {
     "data": {
      "text/plain": [
       "[3, 5, 7, 9]"
      ]
     },
     "execution_count": 3,
     "metadata": {},
     "output_type": "execute_result"
    }
   ],
   "source": [
    "x[3::2]"
   ]
  },
  {
   "cell_type": "code",
   "execution_count": null,
   "metadata": {
    "collapsed": true
   },
   "outputs": [],
   "source": []
  }
 ],
 "metadata": {
  "kernelspec": {
   "display_name": "Python 3",
   "language": "python",
   "name": "python3"
  },
  "language_info": {
   "codemirror_mode": {
    "name": "ipython",
    "version": 3
   },
   "file_extension": ".py",
   "mimetype": "text/x-python",
   "name": "python",
   "nbconvert_exporter": "python",
   "pygments_lexer": "ipython3",
   "version": "3.4.3"
  }
 },
 "nbformat": 4,
 "nbformat_minor": 0
}
