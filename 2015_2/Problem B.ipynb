{
 "cells": [
  {
   "cell_type": "code",
   "execution_count": 1,
   "metadata": {
    "collapsed": false
   },
   "outputs": [
    {
     "data": {
      "text/plain": [
       "'0.15.1'"
      ]
     },
     "execution_count": 1,
     "metadata": {},
     "output_type": "execute_result"
    }
   ],
   "source": [
    "import scipy\n",
    "scipy.__version__"
   ]
  },
  {
   "cell_type": "code",
   "execution_count": 2,
   "metadata": {
    "collapsed": false
   },
   "outputs": [],
   "source": [
    "import numpy as np\n",
    "import scipy.optimize"
   ]
  },
  {
   "cell_type": "markdown",
   "metadata": {},
   "source": [
    "    Minimise -1*x[0]-2*x[1]-3*x[2]\n",
    "    subject to 5*x[0]+6*x[1]+7*x[2] <= 100\n",
    "               5*x[0]+6*x[1]+7*x[2] <= 101"
   ]
  },
  {
   "cell_type": "code",
   "execution_count": 3,
   "metadata": {
    "collapsed": false
   },
   "outputs": [
    {
     "name": "stdout",
     "output_type": "stream",
     "text": [
      "   slack: array([ 29.3,   0. ])\n",
      " message: 'Optimization terminated successfully.'\n",
      "       x: array([  0. ,   0. ,  10.1])\n",
      "     fun: -30.299999999999997\n",
      "     nit: 1\n",
      " success: True\n",
      "  status: 0\n"
     ]
    }
   ],
   "source": [
    "res = scipy.optimize.linprog(c=[-1,-2,-3], A_ub = [ [5,6,7], [8,9,10] ], b_ub = [100,101])\n",
    "print(res)"
   ]
  },
  {
   "cell_type": "code",
   "execution_count": 5,
   "metadata": {
    "collapsed": false
   },
   "outputs": [],
   "source": [
    "def Solve_old(x, y, full=False):\n",
    "    \"\"\"Solves the matrix equation x*t = 1, y*t = 1\n",
    "    and also t_1 - T <= 0, ..., t_n - T <=0,\n",
    "    and returns minimal possible T.\"\"\"\n",
    "    A = [ [0] * len(x) + [-1] for _ in range(len(x)) ]\n",
    "    for i in range(len(x)):\n",
    "        A[i][i] = 1\n",
    "    c = [0]*len(x) + [1]\n",
    "    b = [0]*len(x)\n",
    "    Aeq = [x+[0], y+[0]]\n",
    "    if full:\n",
    "        print(\"Solving {}*t = [1,1]\".format(Aeq))\n",
    "        print(\"{}*t <= {}\".format(A, b))\n",
    "        print(\"Minimising {}*t\".format(c))\n",
    "    #res = scipy.optimize.linprog(c=c, A_ub = A, b_ub = b, A_eq = Aeq, b_eq = [1,1] )\n",
    "    res = scipy.optimize.linprog(c, A, b, Aeq, [1.0, 1.0], bounds = (-1e-8, None))\n",
    "    if full: return res\n",
    "    return res.fun, res.success\n",
    "\n",
    "def Solve(x, y, full=False):\n",
    "    \"\"\"Solves the matrix equation x*t = 1, y*t = 1\n",
    "    and also t_1 - T <= 0, ..., t_n - T <=0,\n",
    "    and returns minimal possible T.\"\"\"\n",
    "    A = [ [0] * len(x) + [-1] for _ in range(len(x)) ]\n",
    "    for i in range(len(x)):\n",
    "        A[i][i] = 1\n",
    "    A.extend( [0]*(len(x)+1) for _ in range(len(x)) )\n",
    "    for i in range(len(x)):\n",
    "        A[i+len(x)][i] = -1\n",
    "    c = [0]*len(x) + [1]\n",
    "    b = [0]*len(x)*2\n",
    "    Aeq = [x+[0], y+[0]]\n",
    "    print(A,b)\n",
    "    if full:\n",
    "        print(\"Solving {}*t = [1,1]\".format(Aeq))\n",
    "        print(\"{}*t <= {}\".format(A, b))\n",
    "        print(\"Minimising {}*t\".format(c))\n",
    "    #res = scipy.optimize.linprog(c=c, A_ub = A, b_ub = b, A_eq = Aeq, b_eq = [1,1] )\n",
    "    res = scipy.optimize.linprog(c, A, b, Aeq, [1.0, 1.0], bounds = (-1, None))\n",
    "    if full: return res\n",
    "    return res.fun, res.success"
   ]
  },
  {
   "cell_type": "code",
   "execution_count": 6,
   "metadata": {
    "collapsed": false
   },
   "outputs": [
    {
     "name": "stdout",
     "output_type": "stream",
     "text": [
      "[[1, 0, -1], [0, 1, -1], [-1, 0, 0], [0, -1, 0]] [0, 0, 0, 0]\n",
      "Case #1: 1.9970881863560779 -- 2.220446049250313e-15\n",
      "[[1, 0, -1], [0, 1, -1], [-1, 0, 0], [0, -1, 0]] [0, 0, 0, 0]\n"
     ]
    },
    {
     "ename": "Exception",
     "evalue": "Should be 5.000025000125E-06 but I think IMPOSSIBLE",
     "output_type": "error",
     "traceback": [
      "\u001b[1;31m---------------------------------------------------------------------------\u001b[0m",
      "\u001b[1;31mException\u001b[0m                                 Traceback (most recent call last)",
      "\u001b[1;32m<ipython-input-6-f0ae88d89370>\u001b[0m in \u001b[0;36m<module>\u001b[1;34m()\u001b[0m\n\u001b[0;32m     19\u001b[0m             \u001b[1;32melse\u001b[0m\u001b[1;33m:\u001b[0m\u001b[1;33m\u001b[0m\u001b[0m\n\u001b[0;32m     20\u001b[0m                 \u001b[1;32mif\u001b[0m \u001b[0mshouldbe\u001b[0m \u001b[1;33m!=\u001b[0m \u001b[1;34m\"IMPOSSIBLE\"\u001b[0m\u001b[1;33m:\u001b[0m\u001b[1;33m\u001b[0m\u001b[0m\n\u001b[1;32m---> 21\u001b[1;33m                     \u001b[1;32mraise\u001b[0m \u001b[0mException\u001b[0m\u001b[1;33m(\u001b[0m\u001b[1;34m\"Should be {} but I think IMPOSSIBLE\"\u001b[0m\u001b[1;33m.\u001b[0m\u001b[0mformat\u001b[0m\u001b[1;33m(\u001b[0m\u001b[0mshouldbe\u001b[0m\u001b[1;33m)\u001b[0m\u001b[1;33m)\u001b[0m\u001b[1;33m\u001b[0m\u001b[0m\n\u001b[0m\u001b[0;32m     22\u001b[0m                 \u001b[0mprint\u001b[0m\u001b[1;33m(\u001b[0m\u001b[1;34m\"Case #{}: IMPOSSIBLE\"\u001b[0m\u001b[1;33m.\u001b[0m\u001b[0mformat\u001b[0m\u001b[1;33m(\u001b[0m\u001b[0mcase\u001b[0m\u001b[1;33m)\u001b[0m\u001b[1;33m)\u001b[0m\u001b[1;33m\u001b[0m\u001b[0m\n",
      "\u001b[1;31mException\u001b[0m: Should be 5.000025000125E-06 but I think IMPOSSIBLE"
     ]
    }
   ],
   "source": [
    "with open(\"B-small-practice.in\") as f:\n",
    "    with open(\"B-small.out\") as g:\n",
    "        numCases = int(next(f))\n",
    "        for case in range(1, numCases+1):\n",
    "            data = next(f).split()\n",
    "            N = int(data[0])\n",
    "            V, X = float(data[1]), float(data[2])\n",
    "            R, C = zip(*[ [float(x) for x in next(f).split()] for _ in range(N)])\n",
    "            #print(\"V={}, X={}\".format(V,X))\n",
    "            #print(\"R={}, C={}\".format(R,C))\n",
    "            x = [r/V for r in R]\n",
    "            y = [r*c/(V*X) for r, c in zip(R,C) ]\n",
    "            #print(\"==> x={}, y={}\".format(x,y))\n",
    "            soln = Solve(x, y)\n",
    "            shouldbe = next(g).rstrip()\n",
    "            shouldbe = shouldbe[shouldbe.find(\":\")+2:]\n",
    "            if soln[1]:\n",
    "                print(\"Case #{}: {} -- {}\".format(case, soln[0], abs(soln[0]-float(shouldbe))))\n",
    "            else:\n",
    "                if shouldbe != \"IMPOSSIBLE\":\n",
    "                    raise Exception(\"Should be {} but I think IMPOSSIBLE\".format(shouldbe))\n",
    "                print(\"Case #{}: IMPOSSIBLE\".format(case))"
   ]
  },
  {
   "cell_type": "code",
   "execution_count": 8,
   "metadata": {
    "collapsed": false
   },
   "outputs": [
    {
     "name": "stdout",
     "output_type": "stream",
     "text": [
      "V=0.0005, X=83.5067\n",
      "R=(99.9998, 99.9995), C=(60.2114, 83.5067)\n",
      "==> x=[199999.59999999998, 199999.0], y=[144207.06261222152, 199999.0]\n",
      "[[1, 0, -1], [0, 1, -1], [-1, 0, 0], [0, -1, 0]] [0, 0, 0, 0]\n",
      "Solving [[199999.59999999998, 199999.0, 0], [144207.06261222152, 199999.0, 0]]*t = [1,1]\n",
      "[[1, 0, -1], [0, 1, -1], [-1, 0, 0], [0, -1, 0]]*t <= [0, 0, 0, 0]\n",
      "Minimising [0, 0, 1]*t\n",
      "     nit: 4\n",
      "  status: 2\n",
      " message: 'Optimzation failed. Unable to find a feasible starting point.'\n",
      " success: False\n",
      "     fun: -5.8207660913467407e-11\n",
      "       x: nan\n"
     ]
    }
   ],
   "source": [
    "with open(\"B-small-practice.in\") as f:\n",
    "    numCases = int(next(f))\n",
    "    for case in range(1, numCases+1):\n",
    "        data = next(f).split()\n",
    "        N = int(data[0])\n",
    "        V, X = float(data[1]), float(data[2])\n",
    "        R, C = zip(*[ [float(x) for x in next(f).split()] for _ in range(N)])\n",
    "        x = [r/V for r in R]\n",
    "        y = [r*c/(V*X) for r, c in zip(R,C) ]\n",
    "        if case == 2:\n",
    "            print(\"V={}, X={}\".format(V,X))\n",
    "            print(\"R={}, C={}\".format(R,C))\n",
    "            print(\"==> x={}, y={}\".format(x,y))\n",
    "            print(Solve(x, y, True))\n",
    "            break"
   ]
  },
  {
   "cell_type": "code",
   "execution_count": 9,
   "metadata": {
    "collapsed": false
   },
   "outputs": [
    {
     "data": {
      "text/plain": [
       "     nit: 3\n",
       "  status: 0\n",
       " message: 'Optimization terminated successfully.'\n",
       " success: True\n",
       "   slack: array([  5.00002500e-06,   0.00000000e+00,   1.00000000e-08,\n",
       "         5.01002500e-06])\n",
       "     fun: 5.0000250001249988e-06\n",
       "       x: array([  3.67929936e-21,   5.00002500e-06,   5.00002500e-06])"
      ]
     },
     "execution_count": 9,
     "metadata": {},
     "output_type": "execute_result"
    }
   ],
   "source": [
    "RR = [r for r in R]\n",
    "CR = [c*r for c, r in zip(C,R)]\n",
    "res = scipy.optimize.linprog([0,0,1], [[1,0,-1],[0,1,-1],[-1,0,0],[0,-1,0]], [0,0,0,0],\n",
    "                             [RR+[0],CR+[0]], [V, X*V], bounds = (-1e-8, None))\n",
    "res"
   ]
  },
  {
   "cell_type": "code",
   "execution_count": 102,
   "metadata": {
    "collapsed": false
   },
   "outputs": [
    {
     "data": {
      "text/plain": [
       "([0.0001, 99.9999], [0.008839830000000002, 8839.83116016], 100.0, 8839.83)"
      ]
     },
     "execution_count": 102,
     "metadata": {},
     "output_type": "execute_result"
    }
   ],
   "source": [
    "RR, CR, V, X*V"
   ]
  },
  {
   "cell_type": "code",
   "execution_count": 105,
   "metadata": {
    "collapsed": false
   },
   "outputs": [
    {
     "data": {
      "text/plain": [
       "(0.0, 1.8189894035458565e-12)"
      ]
     },
     "execution_count": 105,
     "metadata": {},
     "output_type": "execute_result"
    }
   ],
   "source": [
    "RR[0] * 1e6- V, CR[0]*1e6 - X*V"
   ]
  },
  {
   "cell_type": "markdown",
   "metadata": {
    "collapsed": true
   },
   "source": [
    "## Recast in the new way ##\n",
    "\n",
    "A different way to specify the optimisation problem is to:\n",
    "\n",
    "$$ \\text{Maximise}\\quad \\sum_i R_i'\n",
    "\\quad\\text{subject to}\\quad \\sum_i R_i'(C_i-X) = 0, \\quad 0\\leq R_i'\\leq R_i.  $$\n",
    "\n",
    "(And then $T = V / \\sum_i R_i'$.)"
   ]
  },
  {
   "cell_type": "code",
   "execution_count": 20,
   "metadata": {
    "collapsed": false
   },
   "outputs": [
    {
     "name": "stdout",
     "output_type": "stream",
     "text": [
      "0.998499419715 Case #1: 0.9984994197151571\n",
      "3.53447334411 Case #2: 3.534473344112177\n",
      "0.039407411796 Case #3: 0.039407411796042756\n",
      "7.53493991258e-09 Case #4: 7.534939912582608e-09\n",
      "0.01588305335 Case #5: 0.01588305335002975\n",
      "0.432927629729 Case #6: 0.4329276297289952\n",
      "0.0189714987169 Case #7: 0.018971498716944736\n",
      "1.42803489546 Case #8: 1.4280348954607054\n",
      "18.9753320683 Case #9: 18.975332068311197\n",
      "0.0201052061035 Case #10: 0.020105206103466458\n",
      "0.399047074568 Case #11: 0.3990470745683413\n",
      "5.28977361471e-10 Case #12: 5.289773614711203e-10\n",
      "IMPOSSIBLE Case #13: IMPOSSIBLE\n",
      "5.50398335893 Case #14: 5.503983358927176\n",
      "IMPOSSIBLE Case #15: IMPOSSIBLE\n",
      "49126760.0511 Case #16: 49126760.051128134\n",
      "0.312859275902 Case #17: 0.3128592759020815\n",
      "0.172514700671 Case #18: 0.17251470067075433\n",
      "24999998.5 Case #19: 24999998.499999996\n",
      "IMPOSSIBLE Case #20: IMPOSSIBLE\n",
      "IMPOSSIBLE Case #21: IMPOSSIBLE\n",
      "1000000.0 Case #22: 1000000.0\n",
      "0.0480617638134 Case #23: 0.04806176381337739\n",
      "0.0529388195326 Case #24: 0.05293881953258677\n",
      "0.00175019182591 Case #25: 0.0017501918259105005\n",
      "IMPOSSIBLE Case #26: IMPOSSIBLE\n",
      "177985.972723 Case #27: 177985.9727225396\n",
      "3.00000009e-08 Case #28: 3.0000000900000026e-08\n",
      "IMPOSSIBLE Case #29: IMPOSSIBLE\n",
      "49999996.0 Case #30: 49999996.0\n",
      "1.99949586068e-08 Case #31: 1.9994958606806153e-08\n",
      "0.158806360084 Case #32: 0.15880636008364987\n",
      "0.447968571677 Case #33: 0.44796857167736265\n",
      "9085804.96836 Case #34: 9085804.968357258\n",
      "1.00000001 Case #35: 1.0000000100000006\n",
      "11111110.6667 Case #36: 11111110.666666666\n",
      "14285714.1429 Case #37: 14285714.142857142\n",
      "0.99999999 Case #38: 0.9999999899999995\n",
      "0.999995999996 Case #39: 0.999995999996\n",
      "2.31955143177e-10 Case #40: 2.3195514317681137e-10\n",
      "6.00000012e-08 Case #41: 6.000000120000003e-08\n",
      "9.00000072e-08 Case #42: 9.000000720000057e-08\n",
      "207221.843687 Case #43: 207221.84368737476\n",
      "50.0 Case #44: 50.0\n",
      "0.0101000793266 Case #45: 0.010100079326647934\n",
      "0.0169491612499 Case #46: 0.016949161249890633\n",
      "5.68587547032 Case #47: 5.6858754703161365\n",
      "32636669.671 Case #48: 32636669.67101179\n",
      "0.497404248702 Case #49: 0.49740424870212435\n",
      "3.0 Case #50: 3.0\n",
      "1.000001 Case #51: 1.000001000001\n",
      "0.271105913595 Case #52: 0.2711059135953416\n",
      "IMPOSSIBLE Case #53: IMPOSSIBLE\n",
      "0.140351358704 Case #54: 0.14035135870426493\n",
      "0.0174980587602 Case #55: 0.017498058760201312\n",
      "1000000.0 Case #56: 1000000.0\n",
      "0.99999995 Case #57: 0.9999999499999985\n",
      "4.00000036e-08 Case #58: 4.0000003600000326e-08\n",
      "0.0193190479559 Case #59: 0.019319047955885568\n",
      "0.113184803876 Case #60: 0.11318480387589677\n",
      "0.015710564686 Case #61: 0.015710564686008385\n",
      "1.57142857143 Case #62: 1.5714285714285714\n",
      "0.0347771817052 Case #63: 0.03477718170516433\n",
      "5.06238473157e-10 Case #64: 5.062384731568818e-10\n",
      "5.9879188491e-08 Case #65: 5.987918849097085e-08\n",
      "4.06860922548e-09 Case #66: 4.068609225483176e-09\n",
      "0.945722171113 Case #67: 0.9457221711131555\n",
      "24931215.3585 Case #68: 24931215.358491745\n",
      "IMPOSSIBLE Case #69: IMPOSSIBLE\n",
      "0.0184054466725 Case #70: 0.0184054466725378\n",
      "1.000001 Case #71: 1.000001000003\n",
      "1.16663876332 Case #72: 1.1666387633238462\n",
      "IMPOSSIBLE Case #73: IMPOSSIBLE\n",
      "IMPOSSIBLE Case #74: IMPOSSIBLE\n",
      "1889038.69205 Case #75: 1889038.692054798\n",
      "0.52462285492 Case #76: 0.5246228549198162\n",
      "0.46480529324 Case #77: 0.46480529324026465\n",
      "1.000001 Case #78: 1.000001000001\n",
      "0.5 Case #79: 0.5\n",
      "2.32117749603e-07 Case #80: 2.3211774960309516e-07\n",
      "0.545454545455 Case #81: 0.5454545454545454\n",
      "0.985210958965 Case #82: 0.9852109589647672\n",
      "16555683.5441 Case #83: 16555683.5441152\n",
      "0.113184803876 Case #84: 0.11318480387589677\n",
      "2.14789743574e-08 Case #85: 2.1478974357369638e-08\n",
      "IMPOSSIBLE Case #86: IMPOSSIBLE\n",
      "0.285714285714 Case #87: 0.2857142857142857\n",
      "1.00000005 Case #88: 1.000000050000005\n",
      "4.06860922548e-09 Case #89: 4.068609225483176e-09\n",
      "0.0057666733545 Case #90: 0.00576667335450331\n",
      "0.0170308050139 Case #91: 0.017030805013899898\n",
      "7243.35742574 Case #92: 7243.357425742574\n",
      "5.10204530226e-10 Case #93: 5.102045302258928e-10\n",
      "1.0 Case #94: 1.0\n",
      "0.0397187350131 Case #95: 0.039718735013075226\n",
      "0.0570717995507 Case #96: 0.057071799550667844\n",
      "0.839050158325 Case #97: 0.8390501583248712\n",
      "0.00273288689911 Case #98: 0.002732886899110144\n",
      "0.666666666667 Case #99: 0.6666666666666666\n",
      "0.642899696776 Case #100: 0.6428996967762726\n"
     ]
    }
   ],
   "source": [
    "with open(\"B-large-practice.in\") as f:\n",
    "    with open(\"B-large.out\") as g:\n",
    "        numCases = int(next(f))\n",
    "        for case in range(1, numCases+1):\n",
    "            data = next(f).split()\n",
    "            N = int(data[0])\n",
    "            V, X = float(data[1]), float(data[2])\n",
    "            R, C = zip(*[ [float(x) for x in next(f).split()] for _ in range(N)])\n",
    "            \n",
    "            A_ub = [ [0]*len(R) for _ in range(len(R)) ]\n",
    "            for i in range(len(R)):\n",
    "                A_ub[i][i] = 1\n",
    "            res = scipy.optimize.linprog([-1]*len(R), A_eq=[[c-X for c in C]], b_eq=[0], A_ub = A_ub, b_ub = R)\n",
    "            if not res.success:\n",
    "                raise Exception(\"Optimisation failed!\")\n",
    "            if sum(res.x) == 0:\n",
    "                print(\"IMPOSSIBLE\", next(g).strip())\n",
    "            else:\n",
    "                T = V / sum(res.x)\n",
    "                print(T, next(g).strip())\n",
    "            #if case == 14: break"
   ]
  },
  {
   "cell_type": "code",
   "execution_count": null,
   "metadata": {
    "collapsed": true
   },
   "outputs": [],
   "source": []
  }
 ],
 "metadata": {
  "kernelspec": {
   "display_name": "Python 3",
   "language": "python",
   "name": "python3"
  },
  "language_info": {
   "codemirror_mode": {
    "name": "ipython",
    "version": 3
   },
   "file_extension": ".py",
   "mimetype": "text/x-python",
   "name": "python",
   "nbconvert_exporter": "python",
   "pygments_lexer": "ipython3",
   "version": "3.4.3"
  }
 },
 "nbformat": 4,
 "nbformat_minor": 0
}
