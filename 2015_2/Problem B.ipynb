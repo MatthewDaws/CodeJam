{
 "cells": [
  {
   "cell_type": "code",
   "execution_count": 2,
   "metadata": {
    "collapsed": false
   },
   "outputs": [
    {
     "data": {
      "text/plain": [
       "'0.15.1'"
      ]
     },
     "execution_count": 2,
     "metadata": {},
     "output_type": "execute_result"
    }
   ],
   "source": [
    "import scipy\n",
    "scipy.__version__"
   ]
  },
  {
   "cell_type": "code",
   "execution_count": 3,
   "metadata": {
    "collapsed": false
   },
   "outputs": [],
   "source": [
    "import numpy as np\n",
    "import scipy.optimize"
   ]
  },
  {
   "cell_type": "markdown",
   "metadata": {},
   "source": [
    "    Minimise -1*x[0]-2*x[1]-3*x[2]\n",
    "    subject to 5*x[0]+6*x[1]+7*x[2] <= 100\n",
    "               5*x[0]+6*x[1]+7*x[2] <= 101"
   ]
  },
  {
   "cell_type": "code",
   "execution_count": 4,
   "metadata": {
    "collapsed": false
   },
   "outputs": [
    {
     "name": "stdout",
     "output_type": "stream",
     "text": [
      "     nit: 1\n",
      "  status: 0\n",
      " message: 'Optimization terminated successfully.'\n",
      " success: True\n",
      "   slack: array([ 29.3,   0. ])\n",
      "     fun: -30.299999999999997\n",
      "       x: array([  0. ,   0. ,  10.1])\n"
     ]
    }
   ],
   "source": [
    "res = scipy.optimize.linprog(c=[-1,-2,-3], A_ub = [ [5,6,7], [8,9,10] ], b_ub = [100,101])\n",
    "print(res)"
   ]
  },
  {
   "cell_type": "code",
   "execution_count": 5,
   "metadata": {
    "collapsed": false
   },
   "outputs": [],
   "source": [
    "def Solve_old(x, y, full=False):\n",
    "    \"\"\"Solves the matrix equation x*t = 1, y*t = 1\n",
    "    and also t_1 - T <= 0, ..., t_n - T <=0,\n",
    "    and returns minimal possible T.\"\"\"\n",
    "    A = [ [0] * len(x) + [-1] for _ in range(len(x)) ]\n",
    "    for i in range(len(x)):\n",
    "        A[i][i] = 1\n",
    "    c = [0]*len(x) + [1]\n",
    "    b = [0]*len(x)\n",
    "    Aeq = [x+[0], y+[0]]\n",
    "    if full:\n",
    "        print(\"Solving {}*t = [1,1]\".format(Aeq))\n",
    "        print(\"{}*t <= {}\".format(A, b))\n",
    "        print(\"Minimising {}*t\".format(c))\n",
    "    #res = scipy.optimize.linprog(c=c, A_ub = A, b_ub = b, A_eq = Aeq, b_eq = [1,1] )\n",
    "    res = scipy.optimize.linprog(c, A, b, Aeq, [1.0, 1.0], bounds = (-1e-8, None))\n",
    "    if full: return res\n",
    "    return res.fun, res.success\n",
    "\n",
    "def Solve(x, y, full=False):\n",
    "    \"\"\"Solves the matrix equation x*t = 1, y*t = 1\n",
    "    and also t_1 - T <= 0, ..., t_n - T <=0,\n",
    "    and returns minimal possible T.\"\"\"\n",
    "    A = [ [0] * len(x) + [-1] for _ in range(len(x)) ]\n",
    "    for i in range(len(x)):\n",
    "        A[i][i] = 1\n",
    "    A.extend( [0]*(len(x)+1) for _ in range(len(x)) )\n",
    "    for i in range(len(x)):\n",
    "        A[i+len(x)][i] = -1\n",
    "    c = [0]*len(x) + [1]\n",
    "    b = [0]*len(x)*2\n",
    "    Aeq = [x+[0], y+[0]]\n",
    "    print(A,b)\n",
    "    if full:\n",
    "        print(\"Solving {}*t = [1,1]\".format(Aeq))\n",
    "        print(\"{}*t <= {}\".format(A, b))\n",
    "        print(\"Minimising {}*t\".format(c))\n",
    "    #res = scipy.optimize.linprog(c=c, A_ub = A, b_ub = b, A_eq = Aeq, b_eq = [1,1] )\n",
    "    res = scipy.optimize.linprog(c, A, b, Aeq, [1.0, 1.0], bounds = (-1, None))\n",
    "    if full: return res\n",
    "    return res.fun, res.success"
   ]
  },
  {
   "cell_type": "code",
   "execution_count": 6,
   "metadata": {
    "collapsed": false
   },
   "outputs": [
    {
     "name": "stdout",
     "output_type": "stream",
     "text": [
      "[[1, 0, -1], [0, 1, -1], [-1, 0, 0], [0, -1, 0]] [0, 0, 0, 0]\n",
      "Case #1: 1.9970881863560779 -- 2.220446049250313e-15\n",
      "[[1, 0, -1], [0, 1, -1], [-1, 0, 0], [0, -1, 0]] [0, 0, 0, 0]\n"
     ]
    },
    {
     "ename": "Exception",
     "evalue": "Should be 5.000025000125E-06 but I think IMPOSSIBLE",
     "output_type": "error",
     "traceback": [
      "\u001b[1;31m---------------------------------------------------------------------------\u001b[0m",
      "\u001b[1;31mException\u001b[0m                                 Traceback (most recent call last)",
      "\u001b[1;32m<ipython-input-6-f0ae88d89370>\u001b[0m in \u001b[0;36m<module>\u001b[1;34m()\u001b[0m\n\u001b[0;32m     19\u001b[0m             \u001b[1;32melse\u001b[0m\u001b[1;33m:\u001b[0m\u001b[1;33m\u001b[0m\u001b[0m\n\u001b[0;32m     20\u001b[0m                 \u001b[1;32mif\u001b[0m \u001b[0mshouldbe\u001b[0m \u001b[1;33m!=\u001b[0m \u001b[1;34m\"IMPOSSIBLE\"\u001b[0m\u001b[1;33m:\u001b[0m\u001b[1;33m\u001b[0m\u001b[0m\n\u001b[1;32m---> 21\u001b[1;33m                     \u001b[1;32mraise\u001b[0m \u001b[0mException\u001b[0m\u001b[1;33m(\u001b[0m\u001b[1;34m\"Should be {} but I think IMPOSSIBLE\"\u001b[0m\u001b[1;33m.\u001b[0m\u001b[0mformat\u001b[0m\u001b[1;33m(\u001b[0m\u001b[0mshouldbe\u001b[0m\u001b[1;33m)\u001b[0m\u001b[1;33m)\u001b[0m\u001b[1;33m\u001b[0m\u001b[0m\n\u001b[0m\u001b[0;32m     22\u001b[0m                 \u001b[0mprint\u001b[0m\u001b[1;33m(\u001b[0m\u001b[1;34m\"Case #{}: IMPOSSIBLE\"\u001b[0m\u001b[1;33m.\u001b[0m\u001b[0mformat\u001b[0m\u001b[1;33m(\u001b[0m\u001b[0mcase\u001b[0m\u001b[1;33m)\u001b[0m\u001b[1;33m)\u001b[0m\u001b[1;33m\u001b[0m\u001b[0m\n",
      "\u001b[1;31mException\u001b[0m: Should be 5.000025000125E-06 but I think IMPOSSIBLE"
     ]
    }
   ],
   "source": [
    "with open(\"B-small-practice.in\") as f:\n",
    "    with open(\"B-small.out\") as g:\n",
    "        numCases = int(next(f))\n",
    "        for case in range(1, numCases+1):\n",
    "            data = next(f).split()\n",
    "            N = int(data[0])\n",
    "            V, X = float(data[1]), float(data[2])\n",
    "            R, C = zip(*[ [float(x) for x in next(f).split()] for _ in range(N)])\n",
    "            #print(\"V={}, X={}\".format(V,X))\n",
    "            #print(\"R={}, C={}\".format(R,C))\n",
    "            x = [r/V for r in R]\n",
    "            y = [r*c/(V*X) for r, c in zip(R,C) ]\n",
    "            #print(\"==> x={}, y={}\".format(x,y))\n",
    "            soln = Solve(x, y)\n",
    "            shouldbe = next(g).rstrip()\n",
    "            shouldbe = shouldbe[shouldbe.find(\":\")+2:]\n",
    "            if soln[1]:\n",
    "                print(\"Case #{}: {} -- {}\".format(case, soln[0], abs(soln[0]-float(shouldbe))))\n",
    "            else:\n",
    "                if shouldbe != \"IMPOSSIBLE\":\n",
    "                    raise Exception(\"Should be {} but I think IMPOSSIBLE\".format(shouldbe))\n",
    "                print(\"Case #{}: IMPOSSIBLE\".format(case))"
   ]
  },
  {
   "cell_type": "code",
   "execution_count": 8,
   "metadata": {
    "collapsed": false
   },
   "outputs": [
    {
     "name": "stdout",
     "output_type": "stream",
     "text": [
      "V=0.0005, X=83.5067\n",
      "R=(99.9998, 99.9995), C=(60.2114, 83.5067)\n",
      "==> x=[199999.59999999998, 199999.0], y=[144207.06261222152, 199999.0]\n",
      "[[1, 0, -1], [0, 1, -1], [-1, 0, 0], [0, -1, 0]] [0, 0, 0, 0]\n",
      "Solving [[199999.59999999998, 199999.0, 0], [144207.06261222152, 199999.0, 0]]*t = [1,1]\n",
      "[[1, 0, -1], [0, 1, -1], [-1, 0, 0], [0, -1, 0]]*t <= [0, 0, 0, 0]\n",
      "Minimising [0, 0, 1]*t\n",
      "     nit: 4\n",
      "  status: 2\n",
      " message: 'Optimzation failed. Unable to find a feasible starting point.'\n",
      " success: False\n",
      "     fun: -5.8207660913467407e-11\n",
      "       x: nan\n"
     ]
    }
   ],
   "source": [
    "with open(\"B-small-practice.in\") as f:\n",
    "    numCases = int(next(f))\n",
    "    for case in range(1, numCases+1):\n",
    "        data = next(f).split()\n",
    "        N = int(data[0])\n",
    "        V, X = float(data[1]), float(data[2])\n",
    "        R, C = zip(*[ [float(x) for x in next(f).split()] for _ in range(N)])\n",
    "        x = [r/V for r in R]\n",
    "        y = [r*c/(V*X) for r, c in zip(R,C) ]\n",
    "        if case == 2:\n",
    "            print(\"V={}, X={}\".format(V,X))\n",
    "            print(\"R={}, C={}\".format(R,C))\n",
    "            print(\"==> x={}, y={}\".format(x,y))\n",
    "            print(Solve(x, y, True))\n",
    "            break"
   ]
  },
  {
   "cell_type": "code",
   "execution_count": 9,
   "metadata": {
    "collapsed": false
   },
   "outputs": [
    {
     "data": {
      "text/plain": [
       "     nit: 3\n",
       "  status: 0\n",
       " message: 'Optimization terminated successfully.'\n",
       " success: True\n",
       "   slack: array([  5.00002500e-06,   0.00000000e+00,   1.00000000e-08,\n",
       "         5.01002500e-06])\n",
       "     fun: 5.0000250001249988e-06\n",
       "       x: array([  3.67929936e-21,   5.00002500e-06,   5.00002500e-06])"
      ]
     },
     "execution_count": 9,
     "metadata": {},
     "output_type": "execute_result"
    }
   ],
   "source": [
    "RR = [r for r in R]\n",
    "CR = [c*r for c, r in zip(C,R)]\n",
    "res = scipy.optimize.linprog([0,0,1], [[1,0,-1],[0,1,-1],[-1,0,0],[0,-1,0]], [0,0,0,0],\n",
    "                             [RR+[0],CR+[0]], [V, X*V], bounds = (-1e-8, None))\n",
    "res"
   ]
  },
  {
   "cell_type": "code",
   "execution_count": 102,
   "metadata": {
    "collapsed": false
   },
   "outputs": [
    {
     "data": {
      "text/plain": [
       "([0.0001, 99.9999], [0.008839830000000002, 8839.83116016], 100.0, 8839.83)"
      ]
     },
     "execution_count": 102,
     "metadata": {},
     "output_type": "execute_result"
    }
   ],
   "source": [
    "RR, CR, V, X*V"
   ]
  },
  {
   "cell_type": "code",
   "execution_count": 105,
   "metadata": {
    "collapsed": false
   },
   "outputs": [
    {
     "data": {
      "text/plain": [
       "(0.0, 1.8189894035458565e-12)"
      ]
     },
     "execution_count": 105,
     "metadata": {},
     "output_type": "execute_result"
    }
   ],
   "source": [
    "RR[0] * 1e6- V, CR[0]*1e6 - X*V"
   ]
  },
  {
   "cell_type": "code",
   "execution_count": null,
   "metadata": {
    "collapsed": true
   },
   "outputs": [],
   "source": []
  }
 ],
 "metadata": {
  "kernelspec": {
   "display_name": "Python 3",
   "language": "python",
   "name": "python3"
  },
  "language_info": {
   "codemirror_mode": {
    "name": "ipython",
    "version": 3
   },
   "file_extension": ".py",
   "mimetype": "text/x-python",
   "name": "python",
   "nbconvert_exporter": "python",
   "pygments_lexer": "ipython3",
   "version": "3.4.3"
  }
 },
 "nbformat": 4,
 "nbformat_minor": 0
}
