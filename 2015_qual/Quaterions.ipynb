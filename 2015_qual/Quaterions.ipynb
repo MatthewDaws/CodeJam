{
 "metadata": {
  "name": "",
  "signature": "sha256:93e17645fcaddcff3e20a529c5d1d744b69c62f2095e19bf4ae7b1ce6f69ea51"
 },
 "nbformat": 3,
 "nbformat_minor": 0,
 "worksheets": [
  {
   "cells": [
    {
     "cell_type": "code",
     "collapsed": false,
     "input": [
      "class Quat:\n",
      "    rows = {\"1\":0, \"i\":1, \"j\":2, \"k\":3}\n",
      "    reverserows = [\"1\", \"i\", \"j\", \"k\"]\n",
      "    table = [ [\"1\", \"i\", \"j\", \"k\"],\n",
      "             [\"i\", \"-1\", \"k\", \"-j\"],\n",
      "             [\"j\", \"-k\", \"-1\", \"i\"],\n",
      "             [\"k\", \"j\", \"-i\", \"-1\"] ]\n",
      "\n",
      "    def __init__(self, val):\n",
      "        if val[0] == \"-\":\n",
      "            self.sign = -1\n",
      "            self.val = Quat.rows[val[1]]\n",
      "        else:\n",
      "            self.sign = 1\n",
      "            self.val = Quat.rows[val[0]]\n",
      "        \n",
      "    def __repr__(self):\n",
      "        return \"Quat(\"+str(self)+\")\"\n",
      "    \n",
      "    def __str__(self):\n",
      "        s = \"\"\n",
      "        if self.sign == -1:\n",
      "            s += \"-\"\n",
      "        return s + Quat.reverserows[self.val]\n",
      "        \n",
      "    def __eq__(self, other):\n",
      "        return self.val == other.val and self.sign == other.sign\n",
      "    \n",
      "    def __mul__(self, other):\n",
      "        val = Quat(Quat.table[self.val][other.val])\n",
      "        val.sign *= self.sign * other.sign\n",
      "        return val\n",
      "\n",
      "    def __pow__(self, n):\n",
      "        r = Quat(\"1\")\n",
      "        for _ in range(n % 4):\n",
      "            r *= self\n",
      "        return r\n"
     ],
     "language": "python",
     "metadata": {},
     "outputs": [],
     "prompt_number": 59
    },
    {
     "cell_type": "code",
     "collapsed": false,
     "input": [
      "rows = [\"1\", \"i\", \"j\", \"k\", \"-1\", \"-i\", \"-j\", \"-k\"]\n",
      "for x in rows:\n",
      "    row = []\n",
      "    for y in rows:\n",
      "        row.append( str(Quat(x) * Quat(y)) )\n",
      "    print(\" \".join(row))"
     ],
     "language": "python",
     "metadata": {},
     "outputs": [
      {
       "output_type": "stream",
       "stream": "stdout",
       "text": [
        "1 i j k -1 -i -j -k\n",
        "i -1 k -j -i 1 -k j\n",
        "j -k -1 i -j k 1 -i\n",
        "k j -i -1 -k -j i 1\n",
        "-1 -i -j -k 1 i j k\n",
        "-i 1 -k j i -1 k -j\n",
        "-j k 1 -i j -k -1 i\n",
        "-k -j i 1 k j -i -1\n"
       ]
      }
     ],
     "prompt_number": 60
    },
    {
     "cell_type": "code",
     "collapsed": false,
     "input": [
      "Quat(\"i\") ** 2"
     ],
     "language": "python",
     "metadata": {},
     "outputs": [
      {
       "metadata": {},
       "output_type": "pyout",
       "prompt_number": 61,
       "text": [
        "Quat(-1)"
       ]
      }
     ],
     "prompt_number": 61
    },
    {
     "cell_type": "code",
     "collapsed": false,
     "input": [
      "def choose_i(string):\n",
      "    \"\"\"Returns an iterable of integers n where string[:n] == i in the quaterion group.\"\"\"\n",
      "    prefix = Quat(\"1\")\n",
      "    for index, x in enumerate(string):\n",
      "        prefix *= Quat(x)\n",
      "        if prefix == Quat(\"i\"):\n",
      "            yield index+1\n",
      "\n",
      "def choose_j(string):\n",
      "    choices = []\n",
      "    prefix = Quat(\"1\")\n",
      "    for index, x in enumerate(string):\n",
      "        prefix *= Quat(x)\n",
      "        if prefix == Quat(\"j\"):\n",
      "            yield index+1\n",
      "            \n",
      "def collapse(string):\n",
      "    prefix = Quat(\"1\")\n",
      "    for x in string:\n",
      "        prefix *= Quat(x)\n",
      "    return prefix"
     ],
     "language": "python",
     "metadata": {},
     "outputs": [],
     "prompt_number": 62
    },
    {
     "cell_type": "code",
     "collapsed": false,
     "input": [
      "def solve(string):\n",
      "    flag = False\n",
      "    isplit, jsplit = -1, -1\n",
      "    for istart in choose_i(string):\n",
      "        substring = string[istart:]\n",
      "        for jstart in choose_j(substring):\n",
      "            if collapse(substring[jstart:]) == Quat(\"k\"):\n",
      "                isplit, jsplit = istart, jstart\n",
      "                flag = True\n",
      "                break\n",
      "        if flag:\n",
      "            break\n",
      "    return flag, isplit, jsplit"
     ],
     "language": "python",
     "metadata": {},
     "outputs": [],
     "prompt_number": 63
    },
    {
     "cell_type": "code",
     "collapsed": false,
     "input": [
      "import random\n",
      "\n",
      "choices = [\"i\", \"j\", \"k\"]\n",
      "strings = []\n",
      "for i in range(100):\n",
      "    string = \"\".join( choices[random.randrange(3)] for _ in range(10000) )\n",
      "    repeat = random.randrange(100000)\n",
      "    repeat = min(repeat, 12 + repeat % 4)\n",
      "    string = string * repeat\n",
      "    strings.append(string)"
     ],
     "language": "python",
     "metadata": {},
     "outputs": [],
     "prompt_number": 64
    },
    {
     "cell_type": "code",
     "collapsed": false,
     "input": [
      "import time\n",
      "starttime = time.perf_counter()\n",
      "\n",
      "for i, string in enumerate(strings):\n",
      "    if collapse(string) == Quat(\"-1\"):\n",
      "        flag, isplit, jsplit = solve(string)\n",
      "        if not flag:\n",
      "            raise Exception(\"Arse\")\n",
      "        first = string[:isplit]\n",
      "        second = string[isplit:]\n",
      "        third = second[jsplit:]\n",
      "        second = second[:jsplit]\n",
      "\n",
      "        #print(first, collapse(first))\n",
      "        #print(second, collapse(second))\n",
      "        #print(collapse(third))\n",
      "        if collapse(first) != Quat(\"i\") or collapse(second) != Quat(\"j\") or collapse(third) != Quat(\"k\"):\n",
      "            raise Exception(\"Arse again\")\n",
      "    print(time.perf_counter() - starttime, i)"
     ],
     "language": "python",
     "metadata": {},
     "outputs": [
      {
       "output_type": "stream",
       "stream": "stdout",
       "text": [
        "0.3830336459179762 0\n",
        "0.7945402304748654"
       ]
      },
      {
       "output_type": "stream",
       "stream": "stdout",
       "text": [
        " 1\n",
        "2.122101360180352"
       ]
      },
      {
       "output_type": "stream",
       "stream": "stdout",
       "text": [
        " 2\n",
        "3.443436933865428"
       ]
      },
      {
       "output_type": "stream",
       "stream": "stdout",
       "text": [
        " 3\n",
        "3.821874382935107"
       ]
      },
      {
       "output_type": "stream",
       "stream": "stdout",
       "text": [
        " 4\n",
        "4.290470116715312"
       ]
      },
      {
       "output_type": "stream",
       "stream": "stdout",
       "text": [
        " 5\n",
        "4.672106348014552"
       ]
      },
      {
       "output_type": "stream",
       "stream": "stdout",
       "text": [
        " 6\n",
        "6.090277335897156"
       ]
      },
      {
       "output_type": "stream",
       "stream": "stdout",
       "text": [
        " 7\n",
        "6.532371865002517"
       ]
      },
      {
       "output_type": "stream",
       "stream": "stdout",
       "text": [
        " 8\n",
        "7.007913209221783"
       ]
      },
      {
       "output_type": "stream",
       "stream": "stdout",
       "text": [
        " 9\n",
        "8.3194578491063"
       ]
      },
      {
       "output_type": "stream",
       "stream": "stdout",
       "text": [
        " 10\n",
        "8.796869117998995"
       ]
      },
      {
       "output_type": "stream",
       "stream": "stdout",
       "text": [
        " 11\n",
        "10.112647874915808"
       ]
      },
      {
       "output_type": "stream",
       "stream": "stdout",
       "text": [
        " 12\n",
        "11.439486487074532"
       ]
      },
      {
       "output_type": "stream",
       "stream": "stdout",
       "text": [
        " 13\n",
        "11.820387885187017"
       ]
      },
      {
       "output_type": "stream",
       "stream": "stdout",
       "text": [
        " 14\n",
        "12.196803927211306"
       ]
      },
      {
       "output_type": "stream",
       "stream": "stdout",
       "text": [
        " 15\n",
        "12.576069397810386"
       ]
      },
      {
       "output_type": "stream",
       "stream": "stdout",
       "text": [
        " 16\n",
        "13.898693187439505"
       ]
      },
      {
       "output_type": "stream",
       "stream": "stdout",
       "text": [
        " 17\n",
        "14.370416272737259"
       ]
      },
      {
       "output_type": "stream",
       "stream": "stdout",
       "text": [
        " 18\n",
        "14.74948428257494"
       ]
      },
      {
       "output_type": "stream",
       "stream": "stdout",
       "text": [
        " 19\n",
        "15.131507224970221"
       ]
      },
      {
       "output_type": "stream",
       "stream": "stdout",
       "text": [
        " 20\n",
        "15.510852336707956"
       ]
      },
      {
       "output_type": "stream",
       "stream": "stdout",
       "text": [
        " 21\n",
        "16.74090479722912"
       ]
      },
      {
       "output_type": "stream",
       "stream": "stdout",
       "text": [
        " 22\n",
        "17.212877479497536"
       ]
      },
      {
       "output_type": "stream",
       "stream": "stdout",
       "text": [
        " 23\n",
        "18.61800579409811"
       ]
      },
      {
       "output_type": "stream",
       "stream": "stdout",
       "text": [
        " 24\n",
        "19.106928902220773"
       ]
      },
      {
       "output_type": "stream",
       "stream": "stdout",
       "text": [
        " 25\n",
        "20.56675877396981"
       ]
      },
      {
       "output_type": "stream",
       "stream": "stdout",
       "text": [
        " 26\n",
        "20.947588330848987"
       ]
      },
      {
       "output_type": "stream",
       "stream": "stdout",
       "text": [
        " 27\n",
        "21.463754045174596"
       ]
      },
      {
       "output_type": "stream",
       "stream": "stdout",
       "text": [
        " 28\n",
        "22.819520864130993"
       ]
      },
      {
       "output_type": "stream",
       "stream": "stdout",
       "text": [
        " 29\n",
        "23.22235231187142"
       ]
      },
      {
       "output_type": "stream",
       "stream": "stdout",
       "text": [
        " 30\n",
        "24.61391084379784"
       ]
      },
      {
       "output_type": "stream",
       "stream": "stdout",
       "text": [
        " 31\n",
        "24.98714206131791"
       ]
      },
      {
       "output_type": "stream",
       "stream": "stdout",
       "text": [
        " 32\n",
        "26.295993681255652"
       ]
      },
      {
       "output_type": "stream",
       "stream": "stdout",
       "text": [
        " 33\n",
        "27.695160815574525"
       ]
      },
      {
       "output_type": "stream",
       "stream": "stdout",
       "text": [
        " 34\n",
        "28.161047519075908"
       ]
      },
      {
       "output_type": "stream",
       "stream": "stdout",
       "text": [
        " 35\n",
        "28.598081962226274"
       ]
      },
      {
       "output_type": "stream",
       "stream": "stdout",
       "text": [
        " 36\n",
        "28.975030860941217"
       ]
      },
      {
       "output_type": "stream",
       "stream": "stdout",
       "text": [
        " 37\n",
        "29.351841003445486"
       ]
      },
      {
       "output_type": "stream",
       "stream": "stdout",
       "text": [
        " 38\n",
        "30.724014718010835"
       ]
      },
      {
       "output_type": "stream",
       "stream": "stdout",
       "text": [
        " 39\n",
        "32.11525961163858"
       ]
      },
      {
       "output_type": "stream",
       "stream": "stdout",
       "text": [
        " 40\n",
        "32.59222382279927"
       ]
      },
      {
       "output_type": "stream",
       "stream": "stdout",
       "text": [
        " 41\n",
        "34.009187877961836"
       ]
      },
      {
       "output_type": "stream",
       "stream": "stdout",
       "text": [
        " 42\n",
        "34.5130621730454"
       ]
      },
      {
       "output_type": "stream",
       "stream": "stdout",
       "text": [
        " 43\n",
        "34.988899503146"
       ]
      },
      {
       "output_type": "stream",
       "stream": "stdout",
       "text": [
        " 44\n",
        "36.393464171955884"
       ]
      },
      {
       "output_type": "stream",
       "stream": "stdout",
       "text": [
        " 45\n",
        "36.785429120002334"
       ]
      },
      {
       "output_type": "stream",
       "stream": "stdout",
       "text": [
        " 46\n",
        "37.20329385897031"
       ]
      },
      {
       "output_type": "stream",
       "stream": "stdout",
       "text": [
        " 47\n",
        "38.50911254729721"
       ]
      },
      {
       "output_type": "stream",
       "stream": "stdout",
       "text": [
        " 48\n",
        "39.00699897821238"
       ]
      },
      {
       "output_type": "stream",
       "stream": "stdout",
       "text": [
        " 49\n",
        "39.44864686010703"
       ]
      },
      {
       "output_type": "stream",
       "stream": "stdout",
       "text": [
        " 50\n",
        "39.83972508207347"
       ]
      },
      {
       "output_type": "stream",
       "stream": "stdout",
       "text": [
        " 51\n",
        "40.20337350010897"
       ]
      },
      {
       "output_type": "stream",
       "stream": "stdout",
       "text": [
        " 52\n",
        "41.46458206670394"
       ]
      },
      {
       "output_type": "stream",
       "stream": "stdout",
       "text": [
        " 53\n",
        "41.874332440996795"
       ]
      },
      {
       "output_type": "stream",
       "stream": "stdout",
       "text": [
        " 54\n",
        "42.26578300581258"
       ]
      },
      {
       "output_type": "stream",
       "stream": "stdout",
       "text": [
        " 55\n",
        "42.659424112463114"
       ]
      },
      {
       "output_type": "stream",
       "stream": "stdout",
       "text": [
        " 56\n",
        "43.02270634546932"
       ]
      },
      {
       "output_type": "stream",
       "stream": "stdout",
       "text": [
        " 57\n",
        "44.28917369034457"
       ]
      },
      {
       "output_type": "stream",
       "stream": "stdout",
       "text": [
        " 58\n",
        "45.558321329005366"
       ]
      },
      {
       "output_type": "stream",
       "stream": "stdout",
       "text": [
        " 59\n",
        "46.84586524965647"
       ]
      },
      {
       "output_type": "stream",
       "stream": "stdout",
       "text": [
        " 60\n",
        "47.24128227159514"
       ]
      },
      {
       "output_type": "stream",
       "stream": "stdout",
       "text": [
        " 61\n",
        "47.697743405282665"
       ]
      },
      {
       "output_type": "stream",
       "stream": "stdout",
       "text": [
        " 62\n",
        "48.15312815203413"
       ]
      },
      {
       "output_type": "stream",
       "stream": "stdout",
       "text": [
        " 63\n",
        "48.54365545437116"
       ]
      },
      {
       "output_type": "stream",
       "stream": "stdout",
       "text": [
        " 64\n",
        "49.799732093777834"
       ]
      },
      {
       "output_type": "stream",
       "stream": "stdout",
       "text": [
        " 65\n",
        "51.061390181232866"
       ]
      },
      {
       "output_type": "stream",
       "stream": "stdout",
       "text": [
        " 66\n",
        "51.48348821619038"
       ]
      },
      {
       "output_type": "stream",
       "stream": "stdout",
       "text": [
        " 67\n",
        "51.963849491384565"
       ]
      },
      {
       "output_type": "stream",
       "stream": "stdout",
       "text": [
        " 68\n",
        "52.43050469082203"
       ]
      },
      {
       "output_type": "stream",
       "stream": "stdout",
       "text": [
        " 69\n",
        "52.836256176806614"
       ]
      },
      {
       "output_type": "stream",
       "stream": "stdout",
       "text": [
        " 70\n",
        "53.257080774588076"
       ]
      },
      {
       "output_type": "stream",
       "stream": "stdout",
       "text": [
        " 71\n",
        "54.55628801684122"
       ]
      },
      {
       "output_type": "stream",
       "stream": "stdout",
       "text": [
        " 72\n",
        "54.967965788794174"
       ]
      },
      {
       "output_type": "stream",
       "stream": "stdout",
       "text": [
        " 73\n",
        "55.36412051756889"
       ]
      },
      {
       "output_type": "stream",
       "stream": "stdout",
       "text": [
        " 74\n",
        "55.82800839269811"
       ]
      },
      {
       "output_type": "stream",
       "stream": "stdout",
       "text": [
        " 75\n",
        "57.14914609510055"
       ]
      },
      {
       "output_type": "stream",
       "stream": "stdout",
       "text": [
        " 76\n",
        "57.51628681811894"
       ]
      },
      {
       "output_type": "stream",
       "stream": "stdout",
       "text": [
        " 77\n",
        "57.93144498993604"
       ]
      },
      {
       "output_type": "stream",
       "stream": "stdout",
       "text": [
        " 78\n",
        "58.34085873673553"
       ]
      },
      {
       "output_type": "stream",
       "stream": "stdout",
       "text": [
        " 79\n",
        "58.73700484456225"
       ]
      },
      {
       "output_type": "stream",
       "stream": "stdout",
       "text": [
        " 80\n",
        "59.15882044084242"
       ]
      },
      {
       "output_type": "stream",
       "stream": "stdout",
       "text": [
        " 81\n",
        "59.62801184107735"
       ]
      },
      {
       "output_type": "stream",
       "stream": "stdout",
       "text": [
        " 82\n",
        "59.99965885677199"
       ]
      },
      {
       "output_type": "stream",
       "stream": "stdout",
       "text": [
        " 83\n",
        "60.36408521273421"
       ]
      },
      {
       "output_type": "stream",
       "stream": "stdout",
       "text": [
        " 84\n",
        "60.7589082103035"
       ]
      },
      {
       "output_type": "stream",
       "stream": "stdout",
       "text": [
        " 85\n",
        "61.13420886586505"
       ]
      },
      {
       "output_type": "stream",
       "stream": "stdout",
       "text": [
        " 86\n",
        "61.543830336459166"
       ]
      },
      {
       "output_type": "stream",
       "stream": "stdout",
       "text": [
        " 87\n",
        "61.915094335749814"
       ]
      },
      {
       "output_type": "stream",
       "stream": "stdout",
       "text": [
        " 88\n",
        "62.3114013679392"
       ]
      },
      {
       "output_type": "stream",
       "stream": "stdout",
       "text": [
        " 89\n",
        "62.677726795589535"
       ]
      },
      {
       "output_type": "stream",
       "stream": "stdout",
       "text": [
        " 90\n",
        "63.0550862156378"
       ]
      },
      {
       "output_type": "stream",
       "stream": "stdout",
       "text": [
        " 91\n",
        "63.48042736912885"
       ]
      },
      {
       "output_type": "stream",
       "stream": "stdout",
       "text": [
        " 92\n",
        "63.84500849163379"
       ]
      },
      {
       "output_type": "stream",
       "stream": "stdout",
       "text": [
        " 93\n",
        "64.29632415092897"
       ]
      },
      {
       "output_type": "stream",
       "stream": "stdout",
       "text": [
        " 94\n",
        "64.7638701816598"
       ]
      },
      {
       "output_type": "stream",
       "stream": "stdout",
       "text": [
        " 95\n",
        "66.06459060554772"
       ]
      },
      {
       "output_type": "stream",
       "stream": "stdout",
       "text": [
        " 96\n",
        "66.43465136681027"
       ]
      },
      {
       "output_type": "stream",
       "stream": "stdout",
       "text": [
        " 97\n",
        "67.72163246271339"
       ]
      },
      {
       "output_type": "stream",
       "stream": "stdout",
       "text": [
        " 98\n",
        "68.08687411404367"
       ]
      },
      {
       "output_type": "stream",
       "stream": "stdout",
       "text": [
        " 99\n"
       ]
      }
     ],
     "prompt_number": 65
    },
    {
     "cell_type": "code",
     "collapsed": false,
     "input": [
      "first, second"
     ],
     "language": "python",
     "metadata": {},
     "outputs": [
      {
       "metadata": {},
       "output_type": "pyout",
       "prompt_number": 66,
       "text": [
        "('jk', 'kkjjikkk')"
       ]
      }
     ],
     "prompt_number": 66
    },
    {
     "cell_type": "code",
     "collapsed": false,
     "input": [
      "import time"
     ],
     "language": "python",
     "metadata": {},
     "outputs": [],
     "prompt_number": 51
    },
    {
     "cell_type": "code",
     "collapsed": false,
     "input": [],
     "language": "python",
     "metadata": {},
     "outputs": [
      {
       "metadata": {},
       "output_type": "pyout",
       "prompt_number": 59,
       "text": [
        "35.74047374982912"
       ]
      }
     ],
     "prompt_number": 59
    },
    {
     "cell_type": "code",
     "collapsed": false,
     "input": [],
     "language": "python",
     "metadata": {},
     "outputs": []
    }
   ],
   "metadata": {}
  }
 ]
}