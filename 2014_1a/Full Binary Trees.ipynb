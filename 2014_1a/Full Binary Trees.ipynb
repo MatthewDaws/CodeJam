{
 "metadata": {
  "name": "",
  "signature": "sha256:498acb18f2c18ca85a232827ba586760b7c607a43e17fac0a035e548ce1c9d00"
 },
 "nbformat": 3,
 "nbformat_minor": 0,
 "worksheets": [
  {
   "cells": [
    {
     "cell_type": "code",
     "collapsed": false,
     "input": [
      "def find_size_cost(tree, root):\n",
      "    \"\"\"Input is a rooted tree, represented by tree, which is a dictionary with\n",
      "    tree[node] = list(children of node)\n",
      "    and root is the root of the subtree of interest.\n",
      "    Returns (size, cost) where size is the total size of the subtree, and cost\n",
      "    is the minimal number of nodes to remove to make the rooted subtree a full\n",
      "    binary tree.\"\"\"\n",
      "    if len( tree[root] ) == 0:\n",
      "        return (1,0)\n",
      "    if len( tree[root] ) == 1:\n",
      "        size, _ = find_size_cost(tree, tree[root][0])\n",
      "        return (size + 1, size)\n",
      "    sizes, costs = [], []\n",
      "    for node in tree[root]:\n",
      "        s, c = find_size_cost(tree, node)\n",
      "        sizes.append(s)\n",
      "        costs.append(c)\n",
      "    size = 1 + sum(sizes)\n",
      "    costs = [c - s for c, s in zip(costs, sizes)]\n",
      "    costs.sort()\n",
      "    cost = sum(sizes) + costs[0] + costs[1]\n",
      "    return (size, cost)\n",
      "\n",
      "def make_rooted_tree(edges, root):\n",
      "    \"\"\"edges is a list of edges and root is the root vertex\n",
      "    returns a dictionary tree = dict( node : list(children of node) )\"\"\"\n",
      "    neighbours = dict()\n",
      "    for e in edges:\n",
      "        if e[0] not in neighbours:\n",
      "            neighbours[ e[0] ] = list()\n",
      "        neighbours[ e[0] ].append( e[1] )\n",
      "        if e[1] not in neighbours:\n",
      "            neighbours[ e[1] ] = list()\n",
      "        neighbours[ e[1] ].append( e[0] )\n",
      "    tree = dict()\n",
      "    tovisit = [root]\n",
      "    visited = set()\n",
      "    while tovisit:\n",
      "        node = tovisit.pop()\n",
      "        visited.add(node)\n",
      "        tree[node] = list()\n",
      "        for child in neighbours[node]:\n",
      "            if child not in visited:\n",
      "                tree[node].append(child)\n",
      "                tovisit.append(child)\n",
      "    return tree"
     ],
     "language": "python",
     "metadata": {},
     "outputs": [],
     "prompt_number": 11
    },
    {
     "cell_type": "code",
     "collapsed": false,
     "input": [
      "edges = [ [4, 5], [4, 2], [1, 2], [3, 1], [6, 4], [3, 7] ]\n",
      "make_rooted_tree(edges, 7)"
     ],
     "language": "python",
     "metadata": {},
     "outputs": [
      {
       "metadata": {},
       "output_type": "pyout",
       "prompt_number": 20,
       "text": [
        "{1: [2], 2: [4], 3: [1], 4: [5, 6], 5: [], 6: [], 7: [3]}"
       ]
      }
     ],
     "prompt_number": 20
    },
    {
     "cell_type": "code",
     "collapsed": false,
     "input": [
      "for i in range(1, 8):\n",
      "    print(i, find_size_cost(make_rooted_tree(edges, i), i))"
     ],
     "language": "python",
     "metadata": {},
     "outputs": [
      {
       "output_type": "stream",
       "stream": "stdout",
       "text": [
        "1 (7, 4)\n",
        "2 (7, 2)\n",
        "3 (7, 4)\n",
        "4 (7, 4)\n",
        "5 (7, 6)\n",
        "6 (7, 6)\n",
        "7 (7, 6)\n"
       ]
      }
     ],
     "prompt_number": 19
    },
    {
     "cell_type": "code",
     "collapsed": false,
     "input": [],
     "language": "python",
     "metadata": {},
     "outputs": []
    }
   ],
   "metadata": {}
  }
 ]
}