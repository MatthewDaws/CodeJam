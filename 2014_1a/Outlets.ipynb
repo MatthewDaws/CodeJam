{
 "metadata": {
  "name": "",
  "signature": "sha256:d17085225a8d78b741d044fed6549c448afb5f633209b27c4fb0be01f118e470"
 },
 "nbformat": 3,
 "nbformat_minor": 0,
 "worksheets": [
  {
   "cells": [
    {
     "cell_type": "code",
     "collapsed": false,
     "input": [
      "import random\n",
      "\n",
      "def make_possible(N, bits):\n",
      "    \"\"\"Random generate a possible case\"\"\"\n",
      "    mask = [random.randrange(2) for _ in range(bits)]\n",
      "    outlets = []\n",
      "    devices = []\n",
      "    which = []\n",
      "    while len(which) < N:\n",
      "        k = sum(random.randrange(2) * (2**i) for i in range(bits))\n",
      "        if k not in which:\n",
      "            which.append(k)\n",
      "    for i in range(N):\n",
      "        o = []\n",
      "        for b in range(bits):\n",
      "            if which[i] & (2**b) > 0:\n",
      "                o.append(1)\n",
      "            else:\n",
      "                o.append(0)\n",
      "        d = [o[i] ^ mask[i] for i in range(bits)]\n",
      "        outlets.append(o)\n",
      "        devices.append(d)\n",
      "    random.shuffle(devices)\n",
      "    return outlets, devices\n",
      "    \n",
      "make_possible(2,3)"
     ],
     "language": "python",
     "metadata": {},
     "outputs": [
      {
       "metadata": {},
       "output_type": "pyout",
       "prompt_number": 47,
       "text": [
        "([[1, 0, 1], [1, 0, 0]], [[1, 1, 1], [1, 1, 0]])"
       ]
      }
     ],
     "prompt_number": 47
    },
    {
     "cell_type": "code",
     "collapsed": false,
     "input": [
      "from collections import namedtuple\n",
      "Partial = namedtuple(\"Partial\", [\"partial_mask\", \"Asets\", \"Bsets\"])"
     ],
     "language": "python",
     "metadata": {},
     "outputs": [],
     "prompt_number": 48
    },
    {
     "cell_type": "code",
     "collapsed": false,
     "input": [
      "N, L = 15, 40\n",
      "outlets, devices = make_possible(N, L)\n",
      "\n",
      "solutions = []\n",
      "totry = [Partial([], [list(range(N))], [list(range(N))])]\n",
      "while totry:\n",
      "    partial = totry.pop()\n",
      "    current_bit = len(partial.partial_mask)\n",
      "    if current_bit == L:\n",
      "        solutions.append( partial.partial_mask[:] )\n",
      "        continue\n",
      "\n",
      "    for newbit in range(2):\n",
      "        new_mask = partial.partial_mask[:]\n",
      "        new_mask.append(newbit)\n",
      "        newAsets = []\n",
      "        newBsets = []\n",
      "        coherent = True\n",
      "        for index in range(len(partial.Asets)):\n",
      "            A, B = partial.Asets[index], partial.Bsets[index]\n",
      "            zeros = [x for x in A if outlets[x][current_bit] == 0]\n",
      "            zerosc = [x for x in A if outlets[x][current_bit] == 1]\n",
      "            match = [x for x in B if devices[x][current_bit] ^ newbit == 0]\n",
      "            matchc = [x for x in B if devices[x][current_bit] ^ newbit == 1]\n",
      "            if len(zeros) == len(match):\n",
      "                if len(zeros) > 0:\n",
      "                    newAsets.append(zeros)\n",
      "                    newBsets.append(match)\n",
      "                if len(zerosc) > 0:\n",
      "                    newAsets.append(zerosc)\n",
      "                    newBsets.append(matchc)\n",
      "            else:\n",
      "                coherent = False\n",
      "                break\n",
      "        if coherent:\n",
      "            totry.append( Partial(new_mask, newAsets, newBsets) )"
     ],
     "language": "python",
     "metadata": {},
     "outputs": [],
     "prompt_number": 56
    },
    {
     "cell_type": "code",
     "collapsed": false,
     "input": [
      "#print(\"Outlets:\", outlets)\n",
      "for mask in solutions:\n",
      "    print(\"Mask:\", mask)\n",
      "    d = [ [ x[i] ^ mask[i] for i in range(L) ] for x in devices ]\n",
      "    #print(\"Should match:\", d)\n",
      "    print(set( tuple(x) for x in d ) == set( tuple(x) for x in outlets ))"
     ],
     "language": "python",
     "metadata": {},
     "outputs": [
      {
       "output_type": "stream",
       "stream": "stdout",
       "text": [
        "Mask: [1, 1, 1, 0, 1, 1, 1, 0, 0, 0, 0, 1, 0, 0, 1, 0, 0, 1, 0, 1, 1, 1, 0, 0, 0, 0, 0, 0, 0, 1, 0, 0, 1, 0, 0, 0, 1, 0, 1, 1]\n",
        "True\n"
       ]
      }
     ],
     "prompt_number": 57
    },
    {
     "cell_type": "code",
     "collapsed": false,
     "input": [
      "solns = [ [1,1,0], [0,0,1] ]\n",
      "min(solns, key = lambda x : sum(x))"
     ],
     "language": "python",
     "metadata": {},
     "outputs": [
      {
       "metadata": {},
       "output_type": "pyout",
       "prompt_number": 59,
       "text": [
        "[0, 0, 1]"
       ]
      }
     ],
     "prompt_number": 59
    },
    {
     "cell_type": "code",
     "collapsed": false,
     "input": [],
     "language": "python",
     "metadata": {},
     "outputs": []
    }
   ],
   "metadata": {}
  }
 ]
}