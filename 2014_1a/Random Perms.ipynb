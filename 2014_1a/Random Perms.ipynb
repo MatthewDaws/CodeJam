{
 "metadata": {
  "name": "",
  "signature": "sha256:a9eda1b471cd72f974f45fc0ef101cd830279aafe320c0739b76eaae3f84e760"
 },
 "nbformat": 3,
 "nbformat_minor": 0,
 "worksheets": [
  {
   "cells": [
    {
     "cell_type": "heading",
     "level": 1,
     "metadata": {},
     "source": [
      "Random Permutations"
     ]
    },
    {
     "cell_type": "code",
     "collapsed": false,
     "input": [
      "%matplotlib inline\n",
      "import matplotlib.pyplot as plt\n",
      "import numpy as np"
     ],
     "language": "python",
     "metadata": {},
     "outputs": [],
     "prompt_number": 1
    },
    {
     "cell_type": "markdown",
     "metadata": {},
     "source": [
      "This is not so different to the [official contest analysis](https://code.google.com/codejam/contest/2984486/dashboard#s=a&a=2).\n",
      "\n",
      "TODO: Maybe use scikit-learn at the end??"
     ]
    },
    {
     "cell_type": "code",
     "collapsed": false,
     "input": [
      "# The two algorithms\n",
      "import random\n",
      "\n",
      "def pick_bad(N):\n",
      "    a = list(range(N))\n",
      "    for i in range(N):\n",
      "        j = random.randrange(N)\n",
      "        x, y = a[i], a[j]\n",
      "        a[i], a[j] = y, x\n",
      "    return a\n",
      "\n",
      "def pick_good(N):\n",
      "    a = list(range(N))\n",
      "    for i in range(N):\n",
      "        j = random.randrange(i,N)\n",
      "        x, y = a[i], a[j]\n",
      "        a[i], a[j] = y, x\n",
      "    return a    "
     ],
     "language": "python",
     "metadata": {},
     "outputs": [],
     "prompt_number": 2
    },
    {
     "cell_type": "markdown",
     "metadata": {},
     "source": [
      "What makes the \"bad\" algorithm bad?\n",
      "\n",
      "Well, what makes the \"good\" algorithm good?  In the good algorithm, index `i` is swapped with a (uniformly) random choice between `i` and `N-1`.  This means that 0 is maybe swapped, but then index 0 is fixed; then maybe index 1 is swapped, but then it's fixed.  So, given some permutation a[0...N-1], how can the \"good\" algorithm form it?  The 1st stage must swap 0 and a[0], then a[0] stays fixed.  Change of this is 1/N.  The 2nd step swaps 1 and a[1], and then a[1] is fixed.  Change is 1/(N-1).  And so on, each stage independent, so overall chance is $1/N!$ as hoped.\n",
      "\n",
      "For the \"bad\" algorithm, at each stage we swap `i` with anything.  Naively, comparing this to the good algorithm, small indexes have a higher chance being swapped again, so `a[i]` is less likely to be small relative to `i`."
     ]
    },
    {
     "cell_type": "code",
     "collapsed": false,
     "input": [
      "fig, axes = plt.subplots(1, 2, figsize=(14, 6))\n",
      "\n",
      "N = 1000\n",
      "trials = 10000\n",
      "\n",
      "goodcounts = []\n",
      "for _ in range(trials):\n",
      "    a = pick_good(N)\n",
      "    goodcounts.append( sum( a[i]<=i for i in range(N) ) )\n",
      "axes[0].hist(goodcounts)\n",
      "\n",
      "badcounts = []\n",
      "for _ in range(trials):\n",
      "    a = pick_bad(N)\n",
      "    badcounts.append( sum( a[i]<=i for i in range(N) ) )\n",
      "axes[1].hist(badcounts)\n"
     ],
     "language": "python",
     "metadata": {},
     "outputs": [
      {
       "metadata": {},
       "output_type": "pyout",
       "prompt_number": 72,
       "text": [
        "(array([    5.,    70.,   380.,  1341.,  2145.,  3006.,  1991.,   835.,\n",
        "          203.,    24.]),\n",
        " array([ 436. ,  442.8,  449.6,  456.4,  463.2,  470. ,  476.8,  483.6,\n",
        "         490.4,  497.2,  504. ]),\n",
        " <a list of 10 Patch objects>)"
       ]
      },
      {
       "metadata": {},
       "output_type": "display_data",
       "png": "[encoded data removed]",
       "text": [
        "<matplotlib.figure.Figure at 0x6cea748>"
       ]
      }
     ],
     "prompt_number": 72
    },
    {
     "cell_type": "markdown",
     "metadata": {},
     "source": [
      "So, for the \"bad\" algorithm, the count of `i` with `a[i]<=i` is centred around 470, while for \"good\" it's close to 500.\n",
      "\n",
      "The buzzword here is \"classifier\" (see [Statistical Classifier)[https://en.wikipedia.org/wiki/Statistical_classification)) so we shall say that if this count is `<= threshold` then guess \"bad\", otherwise guess \"good\".  To find the value of `threshold` we'll run some trials, and pick `threshold` so that the number of incorrect classifications is as small as possible."
     ]
    },
    {
     "cell_type": "code",
     "collapsed": false,
     "input": [
      "def wrong_count(threshold, goodcounts, badcounts):\n",
      "    return sum( t <= threshold for t in goodcounts ) + sum( t > threshold for t in badcounts )\n",
      "\n",
      "candidates = [ (t, wrong_count(t, goodcounts, badcounts)) for t in range(460, 510) ]\n",
      "threshold = min(candidates, key = lambda pair: pair[1])\n",
      "threshold"
     ],
     "language": "python",
     "metadata": {},
     "outputs": [
      {
       "metadata": {},
       "output_type": "pyout",
       "prompt_number": 73,
       "text": [
        "(486, 1172)"
       ]
      }
     ],
     "prompt_number": 73
    },
    {
     "cell_type": "markdown",
     "metadata": {},
     "source": [
      "So in this case, out of 20000 trials, we'd misclassify 1172 cases, or around 5.9%.  That _should_ be good enough for the problem, with some luck!  The following implements this, and in 20 trials, in only 1 case would we do badly!"
     ]
    },
    {
     "cell_type": "code",
     "collapsed": false,
     "input": [
      "def basic_classifier(a):\n",
      "    stat = sum( a[i]<=i for i in range(N) )\n",
      "    if stat <= 486:\n",
      "        return \"BAD\"\n",
      "    return \"GOOD\"\n",
      "\n",
      "badbad = sum( basic_classifier(pick_bad(N)) == \"GOOD\" for _ in range(10000) )\n",
      "print(\"False rate on BAD is:\",badbad,\"out of 10000\")\n",
      "goodbad = sum( basic_classifier(pick_good(N)) == \"BAD\" for _ in range(10000) )\n",
      "print(\"False rate on GOOD is:\",goodbad,\"out of 10000\")"
     ],
     "language": "python",
     "metadata": {},
     "outputs": [
      {
       "output_type": "stream",
       "stream": "stdout",
       "text": [
        "False rate on BAD is: 590 out of 10000\n",
        "False rate on GOOD is:"
       ]
      },
      {
       "output_type": "stream",
       "stream": "stdout",
       "text": [
        " 596 out of 10000\n"
       ]
      }
     ],
     "prompt_number": 75
    },
    {
     "cell_type": "code",
     "collapsed": false,
     "input": [
      "def simulate(N, T, G, classifier):\n",
      "    correct = 0\n",
      "    for _ in range(T):\n",
      "        if random.randrange(2) == 0:\n",
      "            a = pick_good(N)\n",
      "            b = \"GOOD\"\n",
      "        else:\n",
      "            a = pick_bad(N)\n",
      "            b = \"BAD\"\n",
      "        c = classifier(a)\n",
      "        if (c == \"BAD\" and b == \"BAD\") or (c==\"GOOD\" and b==\"GOOD\"):\n",
      "            correct += 1\n",
      "    print(correct, G)\n",
      "    return correct >= G\n",
      "\n",
      "for _ in range(20):\n",
      "    simulate(1000, 120, 109, basic_classifier)"
     ],
     "language": "python",
     "metadata": {},
     "outputs": [
      {
       "output_type": "stream",
       "stream": "stdout",
       "text": [
        "109 109\n",
        "112"
       ]
      },
      {
       "output_type": "stream",
       "stream": "stdout",
       "text": [
        " 109\n",
        "114"
       ]
      },
      {
       "output_type": "stream",
       "stream": "stdout",
       "text": [
        " 109\n",
        "114"
       ]
      },
      {
       "output_type": "stream",
       "stream": "stdout",
       "text": [
        " 109\n",
        "113"
       ]
      },
      {
       "output_type": "stream",
       "stream": "stdout",
       "text": [
        " 109\n",
        "111"
       ]
      },
      {
       "output_type": "stream",
       "stream": "stdout",
       "text": [
        " 109\n",
        "116"
       ]
      },
      {
       "output_type": "stream",
       "stream": "stdout",
       "text": [
        " 109\n",
        "113"
       ]
      },
      {
       "output_type": "stream",
       "stream": "stdout",
       "text": [
        " 109\n",
        "112"
       ]
      },
      {
       "output_type": "stream",
       "stream": "stdout",
       "text": [
        " 109\n",
        "112"
       ]
      },
      {
       "output_type": "stream",
       "stream": "stdout",
       "text": [
        " 109\n",
        "117"
       ]
      },
      {
       "output_type": "stream",
       "stream": "stdout",
       "text": [
        " 109\n",
        "110"
       ]
      },
      {
       "output_type": "stream",
       "stream": "stdout",
       "text": [
        " 109\n",
        "108"
       ]
      },
      {
       "output_type": "stream",
       "stream": "stdout",
       "text": [
        " 109\n",
        "115"
       ]
      },
      {
       "output_type": "stream",
       "stream": "stdout",
       "text": [
        " 109\n",
        "112"
       ]
      },
      {
       "output_type": "stream",
       "stream": "stdout",
       "text": [
        " 109\n",
        "114"
       ]
      },
      {
       "output_type": "stream",
       "stream": "stdout",
       "text": [
        " 109\n",
        "110"
       ]
      },
      {
       "output_type": "stream",
       "stream": "stdout",
       "text": [
        " 109\n",
        "109"
       ]
      },
      {
       "output_type": "stream",
       "stream": "stdout",
       "text": [
        " 109\n",
        "115"
       ]
      },
      {
       "output_type": "stream",
       "stream": "stdout",
       "text": [
        " 109\n",
        "111"
       ]
      },
      {
       "output_type": "stream",
       "stream": "stdout",
       "text": [
        " 109\n"
       ]
      }
     ],
     "prompt_number": 77
    },
    {
     "cell_type": "heading",
     "level": 1,
     "metadata": {},
     "source": [
      "Naive Bayes"
     ]
    },
    {
     "cell_type": "markdown",
     "metadata": {},
     "source": [
      "This is quite a fun idea.\n",
      "\n",
      "Firstly, let's use Bayes's theorem to derive the optimal classifier.  We have data $a = (a_0,\\cdots,a_{N-1})$ and want to know `good` or `bad`.  The prior probability, told to us in the question, is $\\mathbb P(\\text{G}) = \\mathbb P(\\text{B}) = 1/2$.  So\n",
      "$$ \\mathbb P(\\text{B} | a) \\mathbb P(a) = \\mathbb P(a | \\text{B}) \\mathbb P(\\text{B}). $$\n",
      "As ever, we then calculate $\\mathbb P(a) = \\mathbb P(a|\\text{B}) \\mathbb P(\\text{B}) + \\mathbb P(a|\\text{G}) \\mathbb P(\\text{G})$ and so we obtain\n",
      "$$ \\mathbb P(\\text{B} | a)  = \\frac{ \\mathbb P(a | \\text{B}) \\mathbb P(\\text{B}) }{ \\mathbb P(a|\\text{B}) \\mathbb P(\\text{B}) + \\mathbb P(a|\\text{G}) \\mathbb P(\\text{G}) } =  \\frac{ \\mathbb P(a | \\text{B}) }{ \\mathbb P(a|\\text{B}) + \\mathbb P(a|\\text{G}) }$$\n",
      "in this case.\n",
      "\n",
      "So, supposing we know $\\mathbb P(a | \\text{B})$ and $\\mathbb P(a | \\text{G})$, we find $\\mathbb P(\\text{B}|a)$.  Using a \"maximum likelihood\" criteria, we guess \"BAD\" if $\\mathbb P(\\text{B}|a) \\geq 1/2$.  This is equivalent to $\\mathbb P(a | \\text{B}) \\geq \\mathbb P(a | \\text{G})$.  Finally, we know that $\\mathbb P(a | \\text{G}) = 1/N!$.\n",
      "\n",
      "The problem is that working out $\\mathbb P(a | \\text{B})$ seems impossible, and for large N, it's also utterly impossible to even simulate."
     ]
    },
    {
     "cell_type": "markdown",
     "metadata": {},
     "source": [
      "This is where the [naive Bayes](https://en.wikipedia.org/wiki/Naive_Bayes_classifier) idea comes in.  We can use Conditional probability to find\n",
      "$$ \\mathbb P(a|\\text{B}) = \\mathbb P(a_0,\\cdots,a_{N-1}|\\text{B})\n",
      "= \\mathbb P(a_0|\\text{B}) \\mathbb P(a_1,\\cdots,a_{N-1}|a_0,\\text{B})\n",
      "= \\mathbb P(a_0|\\text{B}) \\mathbb P(a_1|a_0,\\text{B}) \\mathbb P(a_2,\\cdots,a_{N-1}|a_0,a_1,\\text{B})\n",
      "= \\cdots $$\n",
      "Now, this doesn't help!  But, let us \"naively\" assume that $a_0, a_1, \\cdots, a_{N-1}$ are independent (of course, they are not, but bear with us).  So we get\n",
      "$$ \\mathbb P(a|\\text{B}) = \\prod_{k=0}^{N-1} \\mathbb P(a_k|\\text{B}). $$\n",
      "So we simply need to work out, or simulate, the $N^2$ probabilities $\\mathbb P(a_j=k|\\text{B})$ for $0\\leq j,k <N$.\n",
      "\n",
      "**Note:** A mistake I made initially was to _not_ also impose the \"naive\" condition on calculating $\\mathbb P(a|\\text{G})$, but we should do this.  However, this is easy to do, as $\\mathbb P(a_j=k|\\text{G}) = 1/N$ for all $j,k$"
     ]
    },
    {
     "cell_type": "code",
     "collapsed": false,
     "input": [
      "def calc_probs(N, k):\n",
      "    \"\"\"Returns prob a[j] == k for varying j\"\"\"\n",
      "    prob = np.zeros(N, dtype=np.float64)\n",
      "    prob[k] = 1.0\n",
      "    for i in range(N):\n",
      "        val = prob[i] / N\n",
      "        prob = prob*(1-1/N) + val\n",
      "        prob[i] = 1/N\n",
      "    return prob\n",
      "\n",
      "# probs[k][j] = prob(a[j] == k | BAD)\n",
      "probs = [calc_probs(N,k) for k in range(N)]"
     ],
     "language": "python",
     "metadata": {},
     "outputs": [],
     "prompt_number": 78
    },
    {
     "cell_type": "code",
     "collapsed": false,
     "input": [
      "import math\n",
      "\n",
      "def nb_classifier(a):\n",
      "    global probs\n",
      "    prob = sum( math.log( probs[a[j]][j] ) for j in range(len(a)) )\n",
      "    probgood = -math.log(N) * N\n",
      "    #print(prob, probgood)\n",
      "    if prob >= probgood:\n",
      "        return \"BAD\"\n",
      "    return \"GOOD\"\n",
      "\n",
      "badbad = sum( nb_classifier(pick_bad(N)) == \"GOOD\" for _ in range(10000) )\n",
      "print(\"False rate on BAD is:\",badbad,\"out of 10000\")\n",
      "goodbad = sum( nb_classifier(pick_good(N)) == \"BAD\" for _ in range(10000) )\n",
      "print(\"False rate on GOOD is:\",goodbad,\"out of 10000\")"
     ],
     "language": "python",
     "metadata": {},
     "outputs": [
      {
       "output_type": "stream",
       "stream": "stdout",
       "text": [
        "False rate on BAD is: 385 out of 10000\n",
        "False rate on GOOD is:"
       ]
      },
      {
       "output_type": "stream",
       "stream": "stdout",
       "text": [
        " 375 out of 10000\n"
       ]
      }
     ],
     "prompt_number": 80
    },
    {
     "cell_type": "markdown",
     "metadata": {},
     "source": [
      "The \"basic classifier\" had a 6% error rate for both good and bad, whereas this has a 4% error rate."
     ]
    },
    {
     "cell_type": "code",
     "collapsed": false,
     "input": [],
     "language": "python",
     "metadata": {},
     "outputs": []
    }
   ],
   "metadata": {}
  }
 ]
}