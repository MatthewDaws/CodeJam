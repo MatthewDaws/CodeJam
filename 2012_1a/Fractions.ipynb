{
 "metadata": {
  "name": "",
  "signature": "sha256:27e0bb03210b59ee2bf7d6d0ca1306235ed8c1161fa0cbefbf082a89614eb8d4"
 },
 "nbformat": 3,
 "nbformat_minor": 0,
 "worksheets": [
  {
   "cells": [
    {
     "cell_type": "code",
     "collapsed": false,
     "input": [
      "import random\n",
      "from fractions import Fraction\n",
      "\n",
      "def abs_cmp(loops = 10000):\n",
      "    a = Fraction(random.randrange(10000), random.randrange(10000))\n",
      "    b = Fraction(random.randrange(10000), random.randrange(10000))\n",
      "    return sum( abs(a - b)< 5 for _ in range(loops) )"
     ],
     "language": "python",
     "metadata": {},
     "outputs": [],
     "prompt_number": 19
    },
    {
     "cell_type": "code",
     "collapsed": false,
     "input": [
      "%timeit(abs_cmp())"
     ],
     "language": "python",
     "metadata": {},
     "outputs": [
      {
       "output_type": "stream",
       "stream": "stdout",
       "text": [
        "1 loops, best of 3: 221 ms per loop\n"
       ]
      }
     ],
     "prompt_number": 26
    },
    {
     "cell_type": "code",
     "collapsed": false,
     "input": [
      "def fraction_diff_less5(a, b):\n",
      "    # return abs(a-b) < 5\n",
      "    # -5 * a.d * b.d < a.n*b.d - b.n*a.d < 5 * a.d * b.d\n",
      "    x = abs(a.numerator * b.denominator - b.numerator * a.denominator)\n",
      "    y = 5 * a.denominator * b.denominator\n",
      "    return x < y\n",
      "\n",
      "def abs_cmp_man(loops = 10000):\n",
      "    a = Fraction(random.randrange(10000), random.randrange(10000))\n",
      "    b = Fraction(random.randrange(10000), random.randrange(10000))\n",
      "    return sum( fraction_diff_less5(a,b) for _ in range(loops) )"
     ],
     "language": "python",
     "metadata": {},
     "outputs": [],
     "prompt_number": 21
    },
    {
     "cell_type": "code",
     "collapsed": false,
     "input": [
      "%timeit(abs_cmp_man())"
     ],
     "language": "python",
     "metadata": {},
     "outputs": [
      {
       "output_type": "stream",
       "stream": "stdout",
       "text": [
        "10 loops, best of 3: 20.5 ms per loop\n"
       ]
      }
     ],
     "prompt_number": 27
    },
    {
     "cell_type": "code",
     "collapsed": false,
     "input": [
      "def diff5(loops = 10000):\n",
      "    a = Fraction(random.randrange(10000), random.randrange(10000))\n",
      "    b = Fraction(random.randrange(10000), random.randrange(10000))\n",
      "    return sum( a == b - 5 for _ in range(loops) )\n",
      "\n",
      "%timeit(diff5())"
     ],
     "language": "python",
     "metadata": {},
     "outputs": [
      {
       "output_type": "stream",
       "stream": "stdout",
       "text": [
        "10 loops, best of 3: 115 ms per loop\n"
       ]
      }
     ],
     "prompt_number": 28
    },
    {
     "cell_type": "code",
     "collapsed": false,
     "input": [
      "def fraction_equal_5(a, b):\n",
      "    # return a == b - 5\n",
      "    # a.n * b.d == b.n * a.d - 5 * a.d * b.d\n",
      "    x = a.numerator * b.denominator\n",
      "    y = ( b.numerator - 5 * b.denominator) * a.denominator\n",
      "    return x == y\n",
      "\n",
      "def diff5man(loops = 10000):\n",
      "    a = Fraction(random.randrange(10000), random.randrange(10000))\n",
      "    b = Fraction(random.randrange(10000), random.randrange(10000))\n",
      "    return sum( fraction_equal_5(a,b) for _ in range(loops) )\n",
      "\n",
      "%timeit(diff5man())"
     ],
     "language": "python",
     "metadata": {},
     "outputs": [
      {
       "output_type": "stream",
       "stream": "stdout",
       "text": [
        "100 loops, best of 3: 17.4 ms per loop\n"
       ]
      }
     ],
     "prompt_number": 29
    },
    {
     "cell_type": "code",
     "collapsed": false,
     "input": [],
     "language": "python",
     "metadata": {},
     "outputs": []
    }
   ],
   "metadata": {}
  }
 ]
}