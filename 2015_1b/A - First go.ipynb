{
 "metadata": {
  "name": "",
  "signature": "sha256:7b27e8e3271cc87954cf848764ef9b2e7ec7e9a4e3868d20724bdfb0cca7fc7e"
 },
 "nbformat": 3,
 "nbformat_minor": 0,
 "worksheets": [
  {
   "cells": [
    {
     "cell_type": "code",
     "collapsed": false,
     "input": [
      "def flip(num):\n",
      "    \"\"\"Returns -1 if cannot flip (ends in 0 in decimal) or otherwise flipped.\"\"\"\n",
      "    if num <= 0 or ( num % 10 ) == 0:\n",
      "        return -1\n",
      "    return int(\"\".join(reversed(\"{}\".format(num))))\n",
      "\n",
      "from collections import namedtuple\n",
      "Case = namedtuple(\"Case\", [\"num\", \"length\", \"history\"])\n",
      "\n",
      "solved = {1 : [1]}\n",
      "\n",
      "def solve(num):\n",
      "    if num <= 1:\n",
      "        return [num]\n",
      "    if num not in solved:\n",
      "        flipped = flip(num)\n",
      "        if flipped != -1 and flipped < num:\n",
      "            withflip = [num] + solve(flipped)\n",
      "            without = [num] + solve(num - 1)\n",
      "            if len(without) < len(withflip):\n",
      "                solved[num] = without\n",
      "            else:\n",
      "                solved[num] = withflip\n",
      "        else:\n",
      "            solved[num] = [num] + solve(num - 1)\n",
      "    return solved[num]\n",
      "\n",
      "x = solve(9999)"
     ],
     "language": "python",
     "metadata": {},
     "outputs": [],
     "prompt_number": 1
    },
    {
     "cell_type": "code",
     "collapsed": false,
     "input": [
      "for i in range(len(x)-1):\n",
      "    if x[i]-1 != x[i+1]:\n",
      "        print(x[i], x[i+1])"
     ],
     "language": "python",
     "metadata": {},
     "outputs": [
      {
       "output_type": "stream",
       "stream": "stdout",
       "text": [
        "9901 1099\n",
        "991 199\n",
        "91 19\n"
       ]
      }
     ],
     "prompt_number": 129
    },
    {
     "cell_type": "code",
     "collapsed": false,
     "input": [
      "x[:10]"
     ],
     "language": "python",
     "metadata": {},
     "outputs": [
      {
       "metadata": {},
       "output_type": "pyout",
       "prompt_number": 100,
       "text": [
        "[21001, 21000, 20999, 20998, 20997, 20996, 20995, 20994, 20993, 20992]"
       ]
      }
     ],
     "prompt_number": 100
    },
    {
     "cell_type": "code",
     "collapsed": false,
     "input": [
      "def local_solve1(num, target):\n",
      "    \"\"\"target should be power of 10 juust below num, e.g. call as (40099, 10000)\"\"\"\n",
      "    totry = [ Case(num, 1, [num]) ]\n",
      "    best = -1\n",
      "    best_history = []\n",
      "    seen = { num }\n",
      "    while len(totry) > 0:\n",
      "        case = totry.pop()\n",
      "        if case.num == target:\n",
      "            if best == -1 or best > case.length:\n",
      "                best = case.length\n",
      "                best_history = case.history[:]\n",
      "            continue\n",
      "        if best != -1 and case.length >= best:\n",
      "            continue\n",
      "        num = flip(case.num)\n",
      "        if num != -1 and num < case.num and num not in seen: # Huristic here\n",
      "            totry.append( Case(num, case.length+1, case.history + [num]) )\n",
      "            seen.add( num )\n",
      "        num = case[0] - 1\n",
      "        if num not in seen:\n",
      "            totry.append( Case(num, case.length+1, case.history + [num]) )\n",
      "            seen.add( num )\n",
      "    return best_history\n",
      "\n",
      "def solve1(num):\n",
      "    if num <= 1:\n",
      "        return 1\n",
      "    target = 1\n",
      "    while num > target:\n",
      "        target *= 10\n",
      "    target = target // 10\n",
      "    history = []\n",
      "    while target >= 1:\n",
      "        history += local_solve1(num, target)\n",
      "        num = target - 1\n",
      "        target = target // 10\n",
      "    return history\n",
      "\n",
      "len(solve1(40099))"
     ],
     "language": "python",
     "metadata": {},
     "outputs": [
      {
       "metadata": {},
       "output_type": "pyout",
       "prompt_number": 63,
       "text": [
        "440"
       ]
      }
     ],
     "prompt_number": 63
    },
    {
     "cell_type": "heading",
     "level": 1,
     "metadata": {},
     "source": [
      "Fast way"
     ]
    },
    {
     "cell_type": "code",
     "collapsed": false,
     "input": [
      "def solve_fast(num):\n",
      "    if num <= 10:\n",
      "        return num\n",
      "    count = 0\n",
      "    # Decrease to ???0001\n",
      "    if num % 10 > 0:\n",
      "        digits = \"{}\".format(num)\n",
      "        number_digits = len( digits )\n",
      "        last_half = int( digits[number_digits//2 : ] )\n",
      "        newnum = digits[ : number_digits//2] + \"0\" * ((number_digits - 1) // 2) + \"1\"\n",
      "        newnum = int( newnum )\n",
      "        if newnum < num:\n",
      "            count = last_half - 1\n",
      "            #print(\"Moved to\", num)\n",
      "            num = newnum\n",
      "    # Try flipping\n",
      "    newnumflipped = flip(num)\n",
      "    if newnumflipped != -1 and newnumflipped < num:\n",
      "        count += 1\n",
      "        num = newnumflipped\n",
      "        #print(\"Flipped to\", num)\n",
      "    # Now decrease to 10^k\n",
      "    pow10 = 1\n",
      "    while pow10 <= num:\n",
      "        pow10 *= 10\n",
      "    pow10 = pow10 // 10\n",
      "    count += ( num - pow10 )\n",
      "    return 1 + count + solve_fast(pow10 - 1)\n",
      "\n",
      "solve_fast(30)"
     ],
     "language": "python",
     "metadata": {},
     "outputs": [
      {
       "metadata": {},
       "output_type": "pyout",
       "prompt_number": 19,
       "text": [
        "30"
       ]
      }
     ],
     "prompt_number": 19
    },
    {
     "cell_type": "code",
     "collapsed": false,
     "input": [
      "for x in range(1, 100):\n",
      "    if len(solve(x)) != solve_fast(x):\n",
      "        print(x, len(solve(x)), solve_fast(x))"
     ],
     "language": "python",
     "metadata": {},
     "outputs": [
      {
       "output_type": "stream",
       "stream": "stdout",
       "text": [
        "30 22 30\n",
        "40 23 40\n",
        "50 24 50\n",
        "60 25 60\n",
        "70 26 70\n",
        "80 27 80\n",
        "90 28 90\n"
       ]
      }
     ],
     "prompt_number": 18
    },
    {
     "cell_type": "code",
     "collapsed": false,
     "input": [],
     "language": "python",
     "metadata": {},
     "outputs": []
    }
   ],
   "metadata": {}
  }
 ]
}