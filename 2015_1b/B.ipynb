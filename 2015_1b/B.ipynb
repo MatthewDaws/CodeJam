{
 "metadata": {
  "name": "",
  "signature": "sha256:3e17475367909b0d64ae6f873349f652bb131c5775a0de2aba0fd0f85e34e0f3"
 },
 "nbformat": 3,
 "nbformat_minor": 0,
 "worksheets": [
  {
   "cells": [
    {
     "cell_type": "code",
     "collapsed": false,
     "input": [
      "import itertools\n",
      "\n",
      "list( itertools.product([0,1], repeat = 3) )"
     ],
     "language": "python",
     "metadata": {},
     "outputs": [
      {
       "metadata": {},
       "output_type": "pyout",
       "prompt_number": 2,
       "text": [
        "[(0, 0, 0),\n",
        " (0, 0, 1),\n",
        " (0, 1, 0),\n",
        " (0, 1, 1),\n",
        " (1, 0, 0),\n",
        " (1, 0, 1),\n",
        " (1, 1, 0),\n",
        " (1, 1, 1)]"
       ]
      }
     ],
     "prompt_number": 2
    },
    {
     "cell_type": "code",
     "collapsed": false,
     "input": [
      "def reshape(it, R, C):\n",
      "    out = []\n",
      "    for rows in range(R):\n",
      "        out.append( [next(it) for _ in range(C)] )\n",
      "    return out\n",
      "\n",
      "reshape(iter([1,2,3,4,5,6]), 2, 3)"
     ],
     "language": "python",
     "metadata": {},
     "outputs": [
      {
       "metadata": {},
       "output_type": "pyout",
       "prompt_number": 3,
       "text": [
        "[[1, 2, 3], [4, 5, 6]]"
       ]
      }
     ],
     "prompt_number": 3
    },
    {
     "cell_type": "code",
     "collapsed": false,
     "input": [
      "def nbhs(row, col, R, C):\n",
      "    out = []\n",
      "    if row != 0:\n",
      "        out.append( (row-1, col))\n",
      "    if row != R - 1:\n",
      "        out.append( (row+1, col))\n",
      "    if col != 0:\n",
      "        out.append( (row, col-1))\n",
      "    if col != C - 1:\n",
      "        out.append( (row, col+1))\n",
      "    return out\n",
      "\n",
      "def unhappy(matrix):\n",
      "    num_rows = len(matrix)\n",
      "    num_cols = len(matrix[0])\n",
      "    count = 0\n",
      "    for row in range(num_rows):\n",
      "        for col in range(num_cols):\n",
      "            if matrix[row][col] == 1:\n",
      "                count += sum( matrix[n[0]][n[1]] == 1 for n in nbhs(row, col, num_rows, num_cols) )\n",
      "    return count\n",
      "\n",
      "def solve(R, C, N):\n",
      "    best = -1\n",
      "    for arr in itertools.product([0,1], repeat = R*C):\n",
      "        if sum(arr) == N:\n",
      "            arrangement = reshape(iter(arr), R, C)\n",
      "            count = unhappy(arrangement)\n",
      "            if best == -1 or count < best:\n",
      "                best = count\n",
      "                shape = arrangement[:]\n",
      "    return best // 2, shape"
     ],
     "language": "python",
     "metadata": {},
     "outputs": [],
     "prompt_number": 15
    },
    {
     "cell_type": "code",
     "collapsed": false,
     "input": [
      "b, shape = solve(1,4,3)\n",
      "b"
     ],
     "language": "python",
     "metadata": {},
     "outputs": [
      {
       "metadata": {},
       "output_type": "pyout",
       "prompt_number": 62,
       "text": [
        "1"
       ]
      }
     ],
     "prompt_number": 62
    },
    {
     "cell_type": "code",
     "collapsed": false,
     "input": [
      "for row in shape:\n",
      "    print(row)"
     ],
     "language": "python",
     "metadata": {},
     "outputs": [
      {
       "output_type": "stream",
       "stream": "stdout",
       "text": [
        "[1, 0, 1, 1]\n"
       ]
      }
     ],
     "prompt_number": 63
    },
    {
     "cell_type": "code",
     "collapsed": false,
     "input": [
      "def odd_alg1(R, C, N):\n",
      "    to_remove = R * C - N\n",
      "    saving = 0\n",
      "    mid_choices = ((R-2) * (C-2) + 1) // 2\n",
      "    saving += 4 * min(to_remove, mid_choices)\n",
      "    to_remove -= min(to_remove, mid_choices)\n",
      "    if to_remove <= 0: return saving\n",
      "    edge_choices = R + C - 6\n",
      "    saving += 3 * min(to_remove, edge_choices)\n",
      "    to_remove -= min(to_remove, edge_choices)\n",
      "    if to_remove <= 0: return saving\n",
      "    saving += 2 * min(to_remove, 4)\n",
      "    to_remove -= min(to_remove, 4)\n",
      "    if to_remove <= 0: return saving\n",
      "    return -1 # Can't actually do!\n",
      "\n",
      "def odd_alg2(R, C, N):\n",
      "    to_remove = R * C - N\n",
      "    saving = 0\n",
      "    mid_choices = ((R-2) * (C-2) - 1) // 2\n",
      "    saving += 4 * min(to_remove, mid_choices)\n",
      "    to_remove -= min(to_remove, mid_choices)\n",
      "    if to_remove <= 0: return saving\n",
      "    edge_choices = R + C -2\n",
      "    saving += 3 * min(to_remove, edge_choices)\n",
      "    to_remove -= min(to_remove, edge_choices)\n",
      "    if to_remove <= 0: return saving\n",
      "    return -1\n",
      "\n",
      "def solve_fast(R, C, N):\n",
      "    # Various corner cases:\n",
      "    if N == 0:\n",
      "        return 0\n",
      "    if R > C: # Ensure R <= C\n",
      "        R, C = C, R\n",
      "    if R == 1:\n",
      "        if (C % 2) == 0:\n",
      "            left = N - (C // 2)\n",
      "            count = 0\n",
      "            if left <= 0: return count\n",
      "            left -= 1\n",
      "            count += 1\n",
      "            if left <= 0: return count\n",
      "            return count + 2 * left\n",
      "        # C odd\n",
      "        left = N - ((C+1) // 2)\n",
      "        count = 0\n",
      "        if left <= 0: return count\n",
      "        return count + 2 * left\n",
      "        \n",
      "    if (R % 2) == 1 and (C % 2) == 1:\n",
      "        # Both odd algorithm\n",
      "        left = N - (R * C + 1) // 2\n",
      "        if left <= 0: return 0\n",
      "        one = odd_alg1(R, C, N)\n",
      "        two = odd_alg2(R, C, N)\n",
      "        if_full = 2*R*C - R - C\n",
      "        if one == -1:\n",
      "            if two == -1:\n",
      "                raise Exception(\"Arse!\")\n",
      "            return if_full - two\n",
      "        return if_full - max(one, two)\n",
      "        \n",
      "    # One even\n",
      "    left = N - R * C // 2\n",
      "    count = 0\n",
      "    if left <= 0: return count\n",
      "    count += 2 * min(2, left)\n",
      "    left -= min(2, left)\n",
      "    if left <= 0: return count\n",
      "    count += 3 * min(left, R + C - 4)\n",
      "    left -= min(left, R + C - 4)\n",
      "    if left <= 0: return count\n",
      "    return count + 4 * left"
     ],
     "language": "python",
     "metadata": {},
     "outputs": [],
     "prompt_number": 74
    },
    {
     "cell_type": "code",
     "collapsed": false,
     "input": [
      "for R in range(1, 5):\n",
      "    for C in range(1, 6):\n",
      "        for n in range(R*C+1):\n",
      "            b, _ = solve(R,C,n)\n",
      "            if b != solve_fast(R,C,n):\n",
      "                print(R, C, n, b, solve_fast(R,C,n))\n",
      "                raise Exception(\"B\")"
     ],
     "language": "python",
     "metadata": {},
     "outputs": [],
     "prompt_number": 78
    },
    {
     "cell_type": "code",
     "collapsed": false,
     "input": [
      "odd_alg1(3,3,6)"
     ],
     "language": "python",
     "metadata": {},
     "outputs": [
      {
       "metadata": {},
       "output_type": "pyout",
       "prompt_number": 70,
       "text": [
        "8"
       ]
      }
     ],
     "prompt_number": 70
    },
    {
     "cell_type": "code",
     "collapsed": false,
     "input": [
      "odd_alg2(3,3,6)"
     ],
     "language": "python",
     "metadata": {},
     "outputs": [
      {
       "metadata": {},
       "output_type": "pyout",
       "prompt_number": 71,
       "text": [
        "9"
       ]
      }
     ],
     "prompt_number": 71
    },
    {
     "cell_type": "code",
     "collapsed": false,
     "input": [],
     "language": "python",
     "metadata": {},
     "outputs": []
    }
   ],
   "metadata": {}
  }
 ]
}