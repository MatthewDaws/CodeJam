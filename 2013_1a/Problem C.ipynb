{
 "metadata": {
  "name": "",
  "signature": "sha256:bf2cca45e97c6b0b257be7b6b1978884a774ea3c6d708ff510578e81e96c147f"
 },
 "nbformat": 3,
 "nbformat_minor": 0,
 "worksheets": [
  {
   "cells": [
    {
     "cell_type": "code",
     "collapsed": false,
     "input": [
      "import itertools\n",
      "def choices(N, M):\n",
      "    \"\"\"Generate x = [x2 ... xM] where we have x2 lots of 2, x3 lots of 3,\n",
      "    and so on.  So 0 <= x2 and \\sum xi = N\"\"\"\n",
      "    #yield from itertools.combinations(range(2, M+1), N)\n",
      "    # Use stars and bars method\n",
      "    allbars = itertools.combinations( range(1,N+M-1), M-2 )\n",
      "    for bars in allbars:\n",
      "        bars = [0] + list(bars) + [N+M-1]\n",
      "        yi = [ y-x for x, y in zip(bars, bars[1:]) ]\n",
      "        yield [ y-1 for y in yi ]\n",
      "        \n",
      "list( choices(12, 8) )[:20]"
     ],
     "language": "python",
     "metadata": {},
     "outputs": [
      {
       "metadata": {},
       "output_type": "pyout",
       "prompt_number": 133,
       "text": [
        "[[0, 0, 0, 0, 0, 0, 12],\n",
        " [0, 0, 0, 0, 0, 1, 11],\n",
        " [0, 0, 0, 0, 0, 2, 10],\n",
        " [0, 0, 0, 0, 0, 3, 9],\n",
        " [0, 0, 0, 0, 0, 4, 8],\n",
        " [0, 0, 0, 0, 0, 5, 7],\n",
        " [0, 0, 0, 0, 0, 6, 6],\n",
        " [0, 0, 0, 0, 0, 7, 5],\n",
        " [0, 0, 0, 0, 0, 8, 4],\n",
        " [0, 0, 0, 0, 0, 9, 3],\n",
        " [0, 0, 0, 0, 0, 10, 2],\n",
        " [0, 0, 0, 0, 0, 11, 1],\n",
        " [0, 0, 0, 0, 0, 12, 0],\n",
        " [0, 0, 0, 0, 1, 0, 11],\n",
        " [0, 0, 0, 0, 1, 1, 10],\n",
        " [0, 0, 0, 0, 1, 2, 9],\n",
        " [0, 0, 0, 0, 1, 3, 8],\n",
        " [0, 0, 0, 0, 1, 4, 7],\n",
        " [0, 0, 0, 0, 1, 5, 6],\n",
        " [0, 0, 0, 0, 1, 6, 5]]"
       ]
      }
     ],
     "prompt_number": 133
    },
    {
     "cell_type": "code",
     "collapsed": false,
     "input": [
      "import math\n",
      "\n",
      "from collections import namedtuple\n",
      "ProdFreqPair = namedtuple(\"ProdFreqPair\", [\"product\", \"freq\"])\n",
      "\n",
      "def prodgreqs_base(A):\n",
      "    \"\"\"Given A = [x2 ... xM] where set A contains x2 lots of 2, x3 lots of 3, etc.\n",
      "    Yields all ProdFreqPair's\n",
      "    This algorithm does _not_ ensure that the products returned are distinct...\"\"\"\n",
      "    choices = [ list(range(xi+1)) for xi in A ]\n",
      "    M = len(choices) + 1\n",
      "    for yi in itertools.product(*choices):\n",
      "        prod, freq = 1, 1\n",
      "        for a, y, x in zip(range(2, M+1), yi, A):\n",
      "            prod *= a ** y\n",
      "            freq *= math.factorial(x) // math.factorial(y) // math.factorial(x-y)\n",
      "        yield ProdFreqPair(prod, freq)\n",
      "            \n",
      "def prodgreqs(A):\n",
      "    \"\"\"Corrects the above by merging entries.\"\"\"\n",
      "    pairs = list(prodgreqs_base(A))\n",
      "    pairs.sort(key = lambda pfp : pfp.product)\n",
      "    current_prod = -1\n",
      "    current_freq = 0\n",
      "    for pfp in pairs:\n",
      "        if current_prod == -1:\n",
      "            current_prod = pfp.product\n",
      "            current_freq = pfp.freq\n",
      "        else:\n",
      "            if current_prod == pfp.product:\n",
      "                current_freq += pfp.freq\n",
      "            else:\n",
      "                yield ProdFreqPair(current_prod, current_freq)\n",
      "                current_prod = pfp.product\n",
      "                current_freq = pfp.freq\n",
      "    yield ProdFreqPair(current_prod, current_freq)\n",
      "            \n",
      "Achoices = list( choices(12, 8) )\n",
      "print(Achoices[10], list( prodgreqs(Achoices[10]) ) )"
     ],
     "language": "python",
     "metadata": {},
     "outputs": [
      {
       "output_type": "stream",
       "stream": "stdout",
       "text": [
        "[0, 0, 0, 0, 0, 10, 2] [ProdFreqPair(product=1, freq=1), ProdFreqPair(product=7, freq=10), ProdFreqPair(product=8, freq=2), ProdFreqPair(product=49, freq=45), ProdFreqPair(product=56, freq=20), ProdFreqPair(product=64, freq=1), ProdFreqPair(product=343, freq=120), ProdFreqPair(product=392, freq=90), ProdFreqPair(product=448, freq=10), ProdFreqPair(product=2401, freq=210), ProdFreqPair(product=2744, freq=240), ProdFreqPair(product=3136, freq=45), ProdFreqPair(product=16807, freq=252), ProdFreqPair(product=19208, freq=420), ProdFreqPair(product=21952, freq=120), ProdFreqPair(product=117649, freq=210), ProdFreqPair(product=134456, freq=504), ProdFreqPair(product=153664, freq=210), ProdFreqPair(product=823543, freq=120), ProdFreqPair(product=941192, freq=420), ProdFreqPair(product=1075648, freq=252), ProdFreqPair(product=5764801, freq=45), ProdFreqPair(product=6588344, freq=240), ProdFreqPair(product=7529536, freq=210), ProdFreqPair(product=40353607, freq=10), ProdFreqPair(product=46118408, freq=90), ProdFreqPair(product=52706752, freq=120), ProdFreqPair(product=282475249, freq=1), ProdFreqPair(product=322828856, freq=20), ProdFreqPair(product=368947264, freq=45), ProdFreqPair(product=2259801992, freq=2), ProdFreqPair(product=2582630848, freq=10), ProdFreqPair(product=18078415936, freq=1)]\n"
       ]
      }
     ],
     "prompt_number": 137
    },
    {
     "cell_type": "code",
     "collapsed": false,
     "input": [
      "def probability_all_products(N, M):\n",
      "    \"\"\"Returns dictionary prod : pairs (A, f) where A is possible A set, and f is relative frequency of seeing\n",
      "    this product for this A.\"\"\"\n",
      "    Achoices = list( choices(N, M) )\n",
      "    products = dict()\n",
      "    for A in Achoices:\n",
      "        for pfp in prodgreqs(A):\n",
      "            if pfp.product not in products:\n",
      "                products[pfp.product] = []\n",
      "            products[pfp.product].append( (tuple(A), pfp.freq) )\n",
      "    return products\n",
      "\n",
      "d = probability_all_products(3, 5)\n",
      "d[8]"
     ],
     "language": "python",
     "metadata": {},
     "outputs": [
      {
       "metadata": {},
       "output_type": "pyout",
       "prompt_number": 138,
       "text": [
        "[((1, 0, 1, 1), 1),\n",
        " ((1, 0, 2, 0), 2),\n",
        " ((1, 1, 1, 0), 1),\n",
        " ((2, 0, 1, 0), 2),\n",
        " ((3, 0, 0, 0), 1)]"
       ]
      }
     ],
     "prompt_number": 138
    },
    {
     "cell_type": "code",
     "collapsed": false,
     "input": [
      "def probability(prods, prod_dict):\n",
      "    \"\"\"`prods` = list of products.\n",
      "    `prod_dict` is a dictionary, p : list of ProdFreqPair objects\n",
      "    Returns list of tuples (A, count) where A is a possible set, and count is the realtive chance of seeing A.\"\"\"\n",
      "    for p in prods:\n",
      "        if p not in prod_dict:\n",
      "            raise Exception(\"Think we cannot make the product {}.\".format(p))\n",
      "    possible_As = { A : freq for A, freq in prod_dict[prods[0]] }\n",
      "    for p in prods[1:]:\n",
      "        new_pAs = dict()\n",
      "        for A, freq in prod_dict[p]:\n",
      "            if A in possible_As:\n",
      "                new_pAs[A] = possible_As[A] * freq\n",
      "        possible_As = new_pAs\n",
      "    \n",
      "    return possible_As\n",
      "    \n",
      "probability([2,1,4], d)"
     ],
     "language": "python",
     "metadata": {},
     "outputs": [
      {
       "metadata": {},
       "output_type": "pyout",
       "prompt_number": 141,
       "text": [
        "{(1, 0, 1, 1): 1,\n",
        " (2, 0, 1, 0): 4,\n",
        " (1, 1, 1, 0): 1,\n",
        " (3, 0, 0, 0): 9,\n",
        " (2, 1, 0, 0): 2,\n",
        " (2, 0, 0, 1): 2,\n",
        " (1, 0, 2, 0): 2}"
       ]
      }
     ],
     "prompt_number": 141
    },
    {
     "cell_type": "code",
     "collapsed": false,
     "input": [
      "N, M = 3, 5\n",
      "prod_dict = probability_all_products(N, M)\n",
      "\n",
      "def probability_A(A):\n",
      "    N = sum(A)\n",
      "    p = math.factorial(N)\n",
      "    for x in A:\n",
      "        p //= math.factorial(x)\n",
      "    return p\n",
      "\n",
      "def solve(prods, prod_dict):\n",
      "    probs = probability(prods, prod_dict)\n",
      "    # Correct for chance of each A\n",
      "    probs = [ (A, probs[A] * probability_A(A)) for A in probs ]\n",
      "    bestA = max(probs, key = lambda pair: pair[1])\n",
      "    return bestA[0]\n",
      "\n",
      "solve([15, 30, 15, 6, 5, 1, 5], prod_dict)"
     ],
     "language": "python",
     "metadata": {},
     "outputs": [
      {
       "metadata": {},
       "output_type": "pyout",
       "prompt_number": 143,
       "text": [
        "(1, 1, 0, 1)"
       ]
      }
     ],
     "prompt_number": 143
    },
    {
     "cell_type": "heading",
     "level": 1,
     "metadata": {},
     "source": [
      "Speeding it up"
     ]
    },
    {
     "cell_type": "code",
     "collapsed": false,
     "input": [
      "prod_dict = probability_all_products(12, 8)\n",
      "prod_dict_As = { p : set( A for A, freq in prod_dict[p] ) for p in prod_dict }\n",
      "count_dict = dict()\n",
      "for p in prod_dict:\n",
      "    for A, freq in prod_dict[p]:\n",
      "        count_dict[ (p,A) ] = freq"
     ],
     "language": "python",
     "metadata": {},
     "outputs": [],
     "prompt_number": 145
    },
    {
     "cell_type": "code",
     "collapsed": false,
     "input": [
      "count_dict[(5760, (0,0,1,1,2,2,6))]"
     ],
     "language": "python",
     "metadata": {},
     "outputs": [
      {
       "metadata": {},
       "output_type": "pyout",
       "prompt_number": 146,
       "text": [
        "6"
       ]
      }
     ],
     "prompt_number": 146
    },
    {
     "cell_type": "code",
     "collapsed": false,
     "input": [
      "def probability(prods, prod_dict_As, count_dict):\n",
      "    \"\"\"prods = list of products.\n",
      "    Returns list of tuples (A, count) where A is a possible set, and count is the realtive change of seeing A.\"\"\"\n",
      "    for p in prods:\n",
      "        if p not in prod_dict_As:\n",
      "            raise Exception(\"Think we cannot make the product {}.\".format(p))\n",
      "    possible_As = set( prod_dict_As[prods[0]] ) # Make a copy!\n",
      "    for p in prods[1:]:\n",
      "        possible_As &= prod_dict_As[p]\n",
      "    ret = []\n",
      "    for A in possible_As:\n",
      "        count = 1\n",
      "        for p in prods:\n",
      "            count *= count_dict[(p,A)]\n",
      "        ret.append((A,count))\n",
      "    return ret\n",
      "\n",
      "def solve(prods, prod_dict_As, count_dict):\n",
      "    probs = probability(prods, prod_dict_As, count_dict)\n",
      "    # Correct for chance of each A\n",
      "    probs = [ (A, freq * probability_A(A)) for A, freq in probs ]\n",
      "    bestA = max(probs, key = lambda pair: pair[1])\n",
      "    return bestA[0]\n",
      "\n",
      "prods = [5760, 64800, 4800, 5184, 2177280, 630, 2488320, 387072, 1260, 2903040, 622080, 12096]\n",
      "solve(prods, prod_dict_As, count_dict)"
     ],
     "language": "python",
     "metadata": {},
     "outputs": [
      {
       "metadata": {},
       "output_type": "pyout",
       "prompt_number": 148,
       "text": [
        "(0, 2, 1, 2, 4, 1, 2)"
       ]
      }
     ],
     "prompt_number": 148
    },
    {
     "cell_type": "code",
     "collapsed": false,
     "input": [
      "import random"
     ],
     "language": "python",
     "metadata": {},
     "outputs": [],
     "prompt_number": 149
    },
    {
     "cell_type": "code",
     "collapsed": false,
     "input": [
      "N, M, K = 12, 8, 12\n",
      "\n",
      "def generate_prods():\n",
      "    A = [random.randrange(2, M+1) for _ in range(N)]\n",
      "    prods = []\n",
      "    for _ in range(K):\n",
      "        #B = [x for x in A if random.randrange(2)==0]\n",
      "        B = [random.randrange(2) for _ in range(N)]\n",
      "        B = [x for x,i in zip(A,B) if i]\n",
      "        p = 1\n",
      "        for x in B:\n",
      "            p *= x\n",
      "        prods.append(p)\n",
      "    A.sort()\n",
      "    return A, prods\n",
      "\n",
      "def trial():\n",
      "    A, prods = generate_prods()\n",
      "    bestA = solve(prods, prod_dict_As, count_dict)\n",
      "    actual = tuple( sum( x==num for x in A ) for num in range(2, M+1) )\n",
      "    return actual == bestA\n",
      "\n",
      "sum( trial() for _ in range(8000) )"
     ],
     "language": "python",
     "metadata": {},
     "outputs": [
      {
       "metadata": {},
       "output_type": "pyout",
       "prompt_number": 151,
       "text": [
        "1308"
       ]
      }
     ],
     "prompt_number": 151
    },
    {
     "cell_type": "code",
     "collapsed": false,
     "input": [
      "sum( trial() for _ in range(8000) )"
     ],
     "language": "python",
     "metadata": {},
     "outputs": [
      {
       "metadata": {},
       "output_type": "pyout",
       "prompt_number": 152,
       "text": [
        "1293"
       ]
      }
     ],
     "prompt_number": 152
    },
    {
     "cell_type": "code",
     "collapsed": false,
     "input": [
      "sum( trial() for _ in range(8000) )"
     ],
     "language": "python",
     "metadata": {},
     "outputs": [
      {
       "metadata": {},
       "output_type": "pyout",
       "prompt_number": 153,
       "text": [
        "1295"
       ]
      }
     ],
     "prompt_number": 153
    },
    {
     "cell_type": "code",
     "collapsed": false,
     "input": [],
     "language": "python",
     "metadata": {},
     "outputs": []
    }
   ],
   "metadata": {}
  }
 ]
}